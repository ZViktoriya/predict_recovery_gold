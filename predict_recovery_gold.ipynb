{
 "cells": [
  {
   "cell_type": "markdown",
   "metadata": {
    "toc": true
   },
   "source": [
    "<h1>Содержание<span class=\"tocSkip\"></span></h1>\n",
    "<div class=\"toc\"><ul class=\"toc-item\"><li><span><a href=\"#Подготовка-данных\" data-toc-modified-id=\"Подготовка-данных-1\"><span class=\"toc-item-num\">1&nbsp;&nbsp;</span>Подготовка данных</a></span><ul class=\"toc-item\"><li><span><a href=\"#Откройте-файлы-и-изучите-их.\" data-toc-modified-id=\"Откройте-файлы-и-изучите-их.-1.1\"><span class=\"toc-item-num\">1.1&nbsp;&nbsp;</span>Откройте файлы и изучите их.</a></span></li><li><span><a href=\"#Проверьте,-что-эффективность-обогащения-рассчитана-правильно.-Вычислите-её-на-обучающей-выборке-для-признака-rougher.output.recovery.-Найдите-MAE-между-вашими-расчётами-и-значением-признака.-Опишите-выводы.\" data-toc-modified-id=\"Проверьте,-что-эффективность-обогащения-рассчитана-правильно.-Вычислите-её-на-обучающей-выборке-для-признака-rougher.output.recovery.-Найдите-MAE-между-вашими-расчётами-и-значением-признака.-Опишите-выводы.-1.2\"><span class=\"toc-item-num\">1.2&nbsp;&nbsp;</span>Проверьте, что эффективность обогащения рассчитана правильно. Вычислите её на обучающей выборке для признака rougher.output.recovery. Найдите MAE между вашими расчётами и значением признака. Опишите выводы.</a></span></li><li><span><a href=\"#Проведите-предобработку-данных.\" data-toc-modified-id=\"Проведите-предобработку-данных.-1.3\"><span class=\"toc-item-num\">1.3&nbsp;&nbsp;</span>Проведите предобработку данных.</a></span></li><li><span><a href=\"#Проанализируйте-признаки,-недоступные-в-тестовой-выборке.-Что-это-за-параметры?-К-какому-типу-относятся?\" data-toc-modified-id=\"Проанализируйте-признаки,-недоступные-в-тестовой-выборке.-Что-это-за-параметры?-К-какому-типу-относятся?-1.4\"><span class=\"toc-item-num\">1.4&nbsp;&nbsp;</span>Проанализируйте признаки, недоступные в тестовой выборке. Что это за параметры? К какому типу относятся?</a></span></li></ul></li><li><span><a href=\"#Анализ-данных\" data-toc-modified-id=\"Анализ-данных-2\"><span class=\"toc-item-num\">2&nbsp;&nbsp;</span>Анализ данных</a></span><ul class=\"toc-item\"><li><span><a href=\"#Посмотрите,-как-меняется-концентрация-металлов-(Au,-Ag,-Pb)-на-различных-этапах:-в-сырье,-в-черновом-концентрате,-в-концентрате-после-первой-очистки-и-в-финальном-концентрате.-Какие-особенности-имеют-распределения?-Опишите-выводы.\" data-toc-modified-id=\"Посмотрите,-как-меняется-концентрация-металлов-(Au,-Ag,-Pb)-на-различных-этапах:-в-сырье,-в-черновом-концентрате,-в-концентрате-после-первой-очистки-и-в-финальном-концентрате.-Какие-особенности-имеют-распределения?-Опишите-выводы.-2.1\"><span class=\"toc-item-num\">2.1&nbsp;&nbsp;</span>Посмотрите, как меняется концентрация металлов (Au, Ag, Pb) на различных этапах: в сырье, в черновом концентрате, в концентрате после первой очистки и в финальном концентрате. Какие особенности имеют распределения? Опишите выводы.</a></span></li><li><span><a href=\"#Сравните-распределения-размеров-гранул-исходного-сырья-на-обучающей-и-тестовой-выборках.-Если-распределения-сильно-отличаются-друг-от-друга,-оценка-модели-будет-неправильной.\" data-toc-modified-id=\"Сравните-распределения-размеров-гранул-исходного-сырья-на-обучающей-и-тестовой-выборках.-Если-распределения-сильно-отличаются-друг-от-друга,-оценка-модели-будет-неправильной.-2.2\"><span class=\"toc-item-num\">2.2&nbsp;&nbsp;</span>Сравните распределения размеров гранул исходного сырья на обучающей и тестовой выборках. Если распределения сильно отличаются друг от друга, оценка модели будет неправильной.</a></span></li><li><span><a href=\"#Исследуйте-суммарную-концентрацию-металлов-на-разных-стадиях:-в-сырье,-в-черновом-концентрате,-в-концентрате-после-первой-очистки-и-в-финальном-концентрате.\" data-toc-modified-id=\"Исследуйте-суммарную-концентрацию-металлов-на-разных-стадиях:-в-сырье,-в-черновом-концентрате,-в-концентрате-после-первой-очистки-и-в-финальном-концентрате.-2.3\"><span class=\"toc-item-num\">2.3&nbsp;&nbsp;</span>Исследуйте суммарную концентрацию металлов на разных стадиях: в сырье, в черновом концентрате, в концентрате после первой очистки и в финальном концентрате.</a></span></li></ul></li><li><span><a href=\"#Модель\" data-toc-modified-id=\"Модель-3\"><span class=\"toc-item-num\">3&nbsp;&nbsp;</span>Модель</a></span><ul class=\"toc-item\"><li><span><a href=\"#Напишите-функцию-для-вычисления-итоговой-sMAPE.\" data-toc-modified-id=\"Напишите-функцию-для-вычисления-итоговой-sMAPE.-3.1\"><span class=\"toc-item-num\">3.1&nbsp;&nbsp;</span>Напишите функцию для вычисления итоговой sMAPE.</a></span></li><li><span><a href=\"#Обучите-разные-модели-и-оцените-их-качество-кросс-валидацией.-Выберите-лучшую-модель-и-проверьте-её-на-тестовой-выборке.-Опишите-выводы.\" data-toc-modified-id=\"Обучите-разные-модели-и-оцените-их-качество-кросс-валидацией.-Выберите-лучшую-модель-и-проверьте-её-на-тестовой-выборке.-Опишите-выводы.-3.2\"><span class=\"toc-item-num\">3.2&nbsp;&nbsp;</span>Обучите разные модели и оцените их качество кросс-валидацией. Выберите лучшую модель и проверьте её на тестовой выборке. Опишите выводы.</a></span></li></ul></li><li><span><a href=\"#Чек-лист-готовности-проекта\" data-toc-modified-id=\"Чек-лист-готовности-проекта-4\"><span class=\"toc-item-num\">4&nbsp;&nbsp;</span>Чек-лист готовности проекта</a></span></li></ul></div>"
   ]
  },
  {
   "cell_type": "markdown",
   "metadata": {},
   "source": [
    "# **<p style=\"text-align: center;\">Восстановление золота из руды.</p>**"
   ]
  },
  {
   "cell_type": "markdown",
   "metadata": {},
   "source": [
    "Подготовьте прототип модели машинного обучения для «Цифры». Компания разрабатывает решения для эффективной работы промышленных предприятий.\n",
    "\n",
    "Модель должна предсказать коэффициент восстановления золота из золотосодержащей руды. Используйте данные с параметрами добычи и очистки. \n",
    "\n",
    "Модель поможет оптимизировать производство, чтобы не запускать предприятие с убыточными характеристиками.\n",
    "\n",
    "Вам нужно:\n",
    "\n",
    "1. Подготовить данные;\n",
    "2. Провести исследовательский анализ данных;\n",
    "3. Построить и обучить модель."
   ]
  },
  {
   "cell_type": "markdown",
   "metadata": {},
   "source": [
    "<img src=\"https://2cad.ru/blog/wp-content/uploads/2019/06/dobycha-zolota-v-rossii-fizicheskimi-licami-5.jpeg\" alt=\"Zoloto\" width=\"30%\" height=\"30%\">"
   ]
  },
  {
   "cell_type": "code",
   "execution_count": 2,
   "metadata": {},
   "outputs": [],
   "source": [
    "import pandas as pd\n",
    "import numpy as np\n",
    "import matplotlib.pyplot as plt\n",
    "import seaborn as sns\n",
    "\n",
    "from sklearn.preprocessing import StandardScaler\n",
    "from sklearn.model_selection import train_test_split, cross_val_predict,cross_val_score,TimeSeriesSplit\n",
    "from sklearn.linear_model import LinearRegression\n",
    "from sklearn.ensemble import RandomForestRegressor\n",
    "from sklearn.tree import DecisionTreeRegressor\n",
    "from sklearn.metrics import mean_absolute_error, make_scorer\n",
    "from sklearn.model_selection import GridSearchCV\n",
    "from sklearn.dummy import DummyRegressor"
   ]
  },
  {
   "cell_type": "markdown",
   "metadata": {},
   "source": [
    "## Подготовка данных"
   ]
  },
  {
   "cell_type": "markdown",
   "metadata": {},
   "source": [
    "### Откройте файлы и изучите их."
   ]
  },
  {
   "cell_type": "code",
   "execution_count": 3,
   "metadata": {},
   "outputs": [],
   "source": [
    "train_data = pd.read_csv('/datasets/gold_industry_train.csv')\n",
    "test_data = pd.read_csv('/datasets/gold_industry_test.csv')\n",
    "full_data = pd.read_csv('/datasets/gold_industry_full.csv')"
   ]
  },
  {
   "cell_type": "code",
   "execution_count": 4,
   "metadata": {},
   "outputs": [
    {
     "name": "stdout",
     "output_type": "stream",
     "text": [
      "Информация об обучающей выборке:\n",
      "                  date  rougher.input.feed_au  rougher.input.feed_ag  \\\n",
      "0  2016-01-15 00:00:00               6.486150               6.100378   \n",
      "1  2016-01-15 01:00:00               6.478583               6.161113   \n",
      "2  2016-01-15 02:00:00               6.362222               6.116455   \n",
      "3  2016-01-15 03:00:00               6.118189               6.043309   \n",
      "4  2016-01-15 04:00:00               5.663707               6.060915   \n",
      "\n",
      "   rougher.input.feed_pb  rougher.input.feed_sol  rougher.input.feed_rate  \\\n",
      "0               2.284912               36.808594               523.546326   \n",
      "1               2.266033               35.753385               525.290581   \n",
      "2               2.159622               35.971630               530.026610   \n",
      "3               2.037807               36.862241               542.590390   \n",
      "4               1.786875               34.347666               540.531893   \n",
      "\n",
      "   rougher.input.feed_size  rougher.input.floatbank10_sulfate  \\\n",
      "0                55.486599                          11.986616   \n",
      "1                57.278666                          11.971193   \n",
      "2                57.510649                          11.920603   \n",
      "3                57.792734                          11.630094   \n",
      "4                56.047189                          10.957755   \n",
      "\n",
      "   rougher.input.floatbank10_xanthate  rougher.state.floatbank10_a_air  ...  \\\n",
      "0                            6.007990                       999.706909  ...   \n",
      "1                            6.005766                      1000.286398  ...   \n",
      "2                            6.197377                       999.719565  ...   \n",
      "3                            6.203177                       999.814770  ...   \n",
      "4                            6.198826                       999.678690  ...   \n",
      "\n",
      "   secondary_cleaner.output.tail_sol  final.output.concentrate_au  \\\n",
      "0                           8.764648                    42.192020   \n",
      "1                           9.001494                    42.701629   \n",
      "2                           8.842896                    42.657501   \n",
      "3                           9.122857                    42.689819   \n",
      "4                           8.871028                    42.774141   \n",
      "\n",
      "   final.output.concentrate_ag  final.output.concentrate_pb  \\\n",
      "0                     6.055403                     9.889648   \n",
      "1                     6.029369                     9.968944   \n",
      "2                     6.055926                    10.213995   \n",
      "3                     6.047977                     9.977019   \n",
      "4                     6.148599                    10.142511   \n",
      "\n",
      "   final.output.concentrate_sol  final.output.recovery  final.output.tail_au  \\\n",
      "0                      5.507324              70.541216              2.143149   \n",
      "1                      5.257781              69.266198              2.224930   \n",
      "2                      5.383759              68.116445              2.257889   \n",
      "3                      4.858634              68.347543              2.146849   \n",
      "4                      4.939416              66.927016              2.055292   \n",
      "\n",
      "   final.output.tail_ag  final.output.tail_pb  final.output.tail_sol  \n",
      "0             10.411962              0.895447              16.904297  \n",
      "1             10.462676              0.927452              16.634514  \n",
      "2             10.507046              0.953716              16.208849  \n",
      "3             10.422762              0.883763              16.532835  \n",
      "4             10.360302              0.792826              16.525686  \n",
      "\n",
      "[5 rows x 87 columns]\n",
      "\n",
      "Информация о тестовой выборке:\n",
      "                  date  rougher.input.feed_au  rougher.input.feed_ag  \\\n",
      "0  2017-12-09 14:59:59               4.365491               6.158718   \n",
      "1  2017-12-09 15:59:59               4.362781               6.048130   \n",
      "2  2017-12-09 16:59:59               5.081681               6.082745   \n",
      "3  2017-12-09 17:59:59               5.145949               6.084374   \n",
      "4  2017-12-09 18:59:59               5.735249               6.165220   \n",
      "\n",
      "   rougher.input.feed_pb  rougher.input.feed_sol  rougher.input.feed_rate  \\\n",
      "0               3.875727               39.135119               555.820208   \n",
      "1               3.902537               39.713906               544.731687   \n",
      "2               4.564078               37.208683               558.155110   \n",
      "3               4.768124               36.808874               539.713765   \n",
      "4               4.512346               37.810642               558.713584   \n",
      "\n",
      "   rougher.input.feed_size  rougher.input.floatbank10_sulfate  \\\n",
      "0                94.544358                           6.146982   \n",
      "1               123.742430                           6.210119   \n",
      "2                82.610855                           7.363824   \n",
      "3                77.984784                           6.927072   \n",
      "4                86.434874                           7.823471   \n",
      "\n",
      "   rougher.input.floatbank10_xanthate  rougher.state.floatbank10_a_air  ...  \\\n",
      "0                            9.308612                      1196.238112  ...   \n",
      "1                            9.297709                      1201.904177  ...   \n",
      "2                            9.003562                      1200.826926  ...   \n",
      "3                            8.955597                      1199.292489  ...   \n",
      "4                            7.490356                      1198.005449  ...   \n",
      "\n",
      "   secondary_cleaner.state.floatbank4_a_air  \\\n",
      "0                                 23.018622   \n",
      "1                                 23.024963   \n",
      "2                                 22.993827   \n",
      "3                                 23.032807   \n",
      "4                                 23.001911   \n",
      "\n",
      "   secondary_cleaner.state.floatbank4_a_level  \\\n",
      "0                                 -500.492702   \n",
      "1                                 -501.153409   \n",
      "2                                 -501.559663   \n",
      "3                                 -501.287889   \n",
      "4                                 -499.947838   \n",
      "\n",
      "   secondary_cleaner.state.floatbank4_b_air  \\\n",
      "0                                 20.020205   \n",
      "1                                 20.054122   \n",
      "2                                 20.029144   \n",
      "3                                 19.977466   \n",
      "4                                 20.023735   \n",
      "\n",
      "   secondary_cleaner.state.floatbank4_b_level  \\\n",
      "0                                 -500.220296   \n",
      "1                                 -500.314711   \n",
      "2                                 -500.000662   \n",
      "3                                 -500.159903   \n",
      "4                                 -499.713680   \n",
      "\n",
      "   secondary_cleaner.state.floatbank5_a_air  \\\n",
      "0                                 17.963512   \n",
      "1                                 17.979515   \n",
      "2                                 18.012723   \n",
      "3                                 17.980463   \n",
      "4                                 17.990955   \n",
      "\n",
      "   secondary_cleaner.state.floatbank5_a_level  \\\n",
      "0                                 -499.939490   \n",
      "1                                 -499.272871   \n",
      "2                                 -500.024764   \n",
      "3                                 -500.504602   \n",
      "4                                 -500.334769   \n",
      "\n",
      "   secondary_cleaner.state.floatbank5_b_air  \\\n",
      "0                                 12.990306   \n",
      "1                                 12.992404   \n",
      "2                                 13.016445   \n",
      "3                                 12.949071   \n",
      "4                                 13.007523   \n",
      "\n",
      "   secondary_cleaner.state.floatbank5_b_level  \\\n",
      "0                                 -500.080993   \n",
      "1                                 -499.976268   \n",
      "2                                 -500.058432   \n",
      "3                                 -500.009937   \n",
      "4                                 -499.968459   \n",
      "\n",
      "   secondary_cleaner.state.floatbank6_a_air  \\\n",
      "0                                 19.990336   \n",
      "1                                 20.013986   \n",
      "2                                 19.973767   \n",
      "3                                 20.010332   \n",
      "4                                 19.995999   \n",
      "\n",
      "   secondary_cleaner.state.floatbank6_a_level  \n",
      "0                                 -499.191575  \n",
      "1                                 -500.625471  \n",
      "2                                 -501.394155  \n",
      "3                                 -508.337973  \n",
      "4                                 -499.788805  \n",
      "\n",
      "[5 rows x 53 columns]\n",
      "\n",
      "Информация об исходных данных:\n",
      "                  date  rougher.input.feed_au  rougher.input.feed_ag  \\\n",
      "0  2016-01-15 00:00:00               6.486150               6.100378   \n",
      "1  2016-01-15 01:00:00               6.478583               6.161113   \n",
      "2  2016-01-15 02:00:00               6.362222               6.116455   \n",
      "3  2016-01-15 03:00:00               6.118189               6.043309   \n",
      "4  2016-01-15 04:00:00               5.663707               6.060915   \n",
      "\n",
      "   rougher.input.feed_pb  rougher.input.feed_sol  rougher.input.feed_rate  \\\n",
      "0               2.284912               36.808594               523.546326   \n",
      "1               2.266033               35.753385               525.290581   \n",
      "2               2.159622               35.971630               530.026610   \n",
      "3               2.037807               36.862241               542.590390   \n",
      "4               1.786875               34.347666               540.531893   \n",
      "\n",
      "   rougher.input.feed_size  rougher.input.floatbank10_sulfate  \\\n",
      "0                55.486599                          11.986616   \n",
      "1                57.278666                          11.971193   \n",
      "2                57.510649                          11.920603   \n",
      "3                57.792734                          11.630094   \n",
      "4                56.047189                          10.957755   \n",
      "\n",
      "   rougher.input.floatbank10_xanthate  rougher.state.floatbank10_a_air  ...  \\\n",
      "0                            6.007990                       999.706909  ...   \n",
      "1                            6.005766                      1000.286398  ...   \n",
      "2                            6.197377                       999.719565  ...   \n",
      "3                            6.203177                       999.814770  ...   \n",
      "4                            6.198826                       999.678690  ...   \n",
      "\n",
      "   secondary_cleaner.output.tail_sol  final.output.concentrate_au  \\\n",
      "0                           8.764648                    42.192020   \n",
      "1                           9.001494                    42.701629   \n",
      "2                           8.842896                    42.657501   \n",
      "3                           9.122857                    42.689819   \n",
      "4                           8.871028                    42.774141   \n",
      "\n",
      "   final.output.concentrate_ag  final.output.concentrate_pb  \\\n",
      "0                     6.055403                     9.889648   \n",
      "1                     6.029369                     9.968944   \n",
      "2                     6.055926                    10.213995   \n",
      "3                     6.047977                     9.977019   \n",
      "4                     6.148599                    10.142511   \n",
      "\n",
      "   final.output.concentrate_sol  final.output.recovery  final.output.tail_au  \\\n",
      "0                      5.507324              70.541216              2.143149   \n",
      "1                      5.257781              69.266198              2.224930   \n",
      "2                      5.383759              68.116445              2.257889   \n",
      "3                      4.858634              68.347543              2.146849   \n",
      "4                      4.939416              66.927016              2.055292   \n",
      "\n",
      "   final.output.tail_ag  final.output.tail_pb  final.output.tail_sol  \n",
      "0             10.411962              0.895447              16.904297  \n",
      "1             10.462676              0.927452              16.634514  \n",
      "2             10.507046              0.953716              16.208849  \n",
      "3             10.422762              0.883763              16.532835  \n",
      "4             10.360302              0.792826              16.525686  \n",
      "\n",
      "[5 rows x 87 columns]\n"
     ]
    }
   ],
   "source": [
    "print(\"Информация об обучающей выборке:\")\n",
    "print(train_data.head())\n",
    "\n",
    "print(\"\\nИнформация о тестовой выборке:\")\n",
    "print(test_data.head())\n",
    "\n",
    "print(\"\\nИнформация об исходных данных:\")\n",
    "print(full_data.head())"
   ]
  },
  {
   "cell_type": "code",
   "execution_count": 5,
   "metadata": {},
   "outputs": [
    {
     "name": "stdout",
     "output_type": "stream",
     "text": [
      "<class 'pandas.core.frame.DataFrame'>\n",
      "RangeIndex: 14579 entries, 0 to 14578\n",
      "Data columns (total 87 columns):\n",
      " #   Column                                              Non-Null Count  Dtype  \n",
      "---  ------                                              --------------  -----  \n",
      " 0   date                                                14579 non-null  object \n",
      " 1   rougher.input.feed_au                               14579 non-null  float64\n",
      " 2   rougher.input.feed_ag                               14579 non-null  float64\n",
      " 3   rougher.input.feed_pb                               14507 non-null  float64\n",
      " 4   rougher.input.feed_sol                              14502 non-null  float64\n",
      " 5   rougher.input.feed_rate                             14572 non-null  float64\n",
      " 6   rougher.input.feed_size                             14478 non-null  float64\n",
      " 7   rougher.input.floatbank10_sulfate                   14548 non-null  float64\n",
      " 8   rougher.input.floatbank10_xanthate                  14572 non-null  float64\n",
      " 9   rougher.state.floatbank10_a_air                     14579 non-null  float64\n",
      " 10  rougher.state.floatbank10_a_level                   14579 non-null  float64\n",
      " 11  rougher.state.floatbank10_b_air                     14579 non-null  float64\n",
      " 12  rougher.state.floatbank10_b_level                   14579 non-null  float64\n",
      " 13  rougher.state.floatbank10_c_air                     14579 non-null  float64\n",
      " 14  rougher.state.floatbank10_c_level                   14579 non-null  float64\n",
      " 15  rougher.state.floatbank10_d_air                     14579 non-null  float64\n",
      " 16  rougher.state.floatbank10_d_level                   14579 non-null  float64\n",
      " 17  rougher.state.floatbank10_e_air                     14150 non-null  float64\n",
      " 18  rougher.state.floatbank10_e_level                   14579 non-null  float64\n",
      " 19  rougher.state.floatbank10_f_air                     14579 non-null  float64\n",
      " 20  rougher.state.floatbank10_f_level                   14579 non-null  float64\n",
      " 21  rougher.input.floatbank11_sulfate                   14543 non-null  float64\n",
      " 22  rougher.input.floatbank11_xanthate                  14172 non-null  float64\n",
      " 23  rougher.calculation.sulfate_to_au_concentrate       14578 non-null  float64\n",
      " 24  rougher.calculation.floatbank10_sulfate_to_au_feed  14578 non-null  float64\n",
      " 25  rougher.calculation.floatbank11_sulfate_to_au_feed  14578 non-null  float64\n",
      " 26  rougher.calculation.au_pb_ratio                     14579 non-null  float64\n",
      " 27  rougher.output.concentrate_au                       14579 non-null  float64\n",
      " 28  rougher.output.concentrate_ag                       14579 non-null  float64\n",
      " 29  rougher.output.concentrate_pb                       14579 non-null  float64\n",
      " 30  rougher.output.concentrate_sol                      14561 non-null  float64\n",
      " 31  rougher.output.recovery                             14579 non-null  float64\n",
      " 32  rougher.output.tail_au                              14579 non-null  float64\n",
      " 33  rougher.output.tail_ag                              14578 non-null  float64\n",
      " 34  rougher.output.tail_pb                              14579 non-null  float64\n",
      " 35  rougher.output.tail_sol                             14579 non-null  float64\n",
      " 36  primary_cleaner.input.sulfate                       14556 non-null  float64\n",
      " 37  primary_cleaner.input.depressant                    14551 non-null  float64\n",
      " 38  primary_cleaner.input.feed_size                     14579 non-null  float64\n",
      " 39  primary_cleaner.input.xanthate                      14518 non-null  float64\n",
      " 40  primary_cleaner.state.floatbank8_a_air              14576 non-null  float64\n",
      " 41  primary_cleaner.state.floatbank8_a_level            14579 non-null  float64\n",
      " 42  primary_cleaner.state.floatbank8_b_air              14576 non-null  float64\n",
      " 43  primary_cleaner.state.floatbank8_b_level            14579 non-null  float64\n",
      " 44  primary_cleaner.state.floatbank8_c_air              14579 non-null  float64\n",
      " 45  primary_cleaner.state.floatbank8_c_level            14579 non-null  float64\n",
      " 46  primary_cleaner.state.floatbank8_d_air              14578 non-null  float64\n",
      " 47  primary_cleaner.state.floatbank8_d_level            14579 non-null  float64\n",
      " 48  primary_cleaner.output.concentrate_au               14579 non-null  float64\n",
      " 49  primary_cleaner.output.concentrate_ag               14579 non-null  float64\n",
      " 50  primary_cleaner.output.concentrate_pb               14491 non-null  float64\n",
      " 51  primary_cleaner.output.concentrate_sol              14314 non-null  float64\n",
      " 52  primary_cleaner.output.tail_au                      14579 non-null  float64\n",
      " 53  primary_cleaner.output.tail_ag                      14575 non-null  float64\n",
      " 54  primary_cleaner.output.tail_pb                      14573 non-null  float64\n",
      " 55  primary_cleaner.output.tail_sol                     14534 non-null  float64\n",
      " 56  secondary_cleaner.state.floatbank2_a_air            14485 non-null  float64\n",
      " 57  secondary_cleaner.state.floatbank2_a_level          14579 non-null  float64\n",
      " 58  secondary_cleaner.state.floatbank2_b_air            14557 non-null  float64\n",
      " 59  secondary_cleaner.state.floatbank2_b_level          14579 non-null  float64\n",
      " 60  secondary_cleaner.state.floatbank3_a_air            14567 non-null  float64\n",
      " 61  secondary_cleaner.state.floatbank3_a_level          14579 non-null  float64\n",
      " 62  secondary_cleaner.state.floatbank3_b_air            14579 non-null  float64\n",
      " 63  secondary_cleaner.state.floatbank3_b_level          14579 non-null  float64\n",
      " 64  secondary_cleaner.state.floatbank4_a_air            14574 non-null  float64\n",
      " 65  secondary_cleaner.state.floatbank4_a_level          14579 non-null  float64\n",
      " 66  secondary_cleaner.state.floatbank4_b_air            14579 non-null  float64\n",
      " 67  secondary_cleaner.state.floatbank4_b_level          14579 non-null  float64\n",
      " 68  secondary_cleaner.state.floatbank5_a_air            14579 non-null  float64\n",
      " 69  secondary_cleaner.state.floatbank5_a_level          14579 non-null  float64\n",
      " 70  secondary_cleaner.state.floatbank5_b_air            14579 non-null  float64\n",
      " 71  secondary_cleaner.state.floatbank5_b_level          14579 non-null  float64\n",
      " 72  secondary_cleaner.state.floatbank6_a_air            14578 non-null  float64\n",
      " 73  secondary_cleaner.state.floatbank6_a_level          14579 non-null  float64\n",
      " 74  secondary_cleaner.output.tail_au                    14579 non-null  float64\n",
      " 75  secondary_cleaner.output.tail_ag                    14578 non-null  float64\n",
      " 76  secondary_cleaner.output.tail_pb                    14575 non-null  float64\n",
      " 77  secondary_cleaner.output.tail_sol                   13659 non-null  float64\n",
      " 78  final.output.concentrate_au                         14579 non-null  float64\n",
      " 79  final.output.concentrate_ag                         14578 non-null  float64\n",
      " 80  final.output.concentrate_pb                         14578 non-null  float64\n",
      " 81  final.output.concentrate_sol                        14387 non-null  float64\n",
      " 82  final.output.recovery                               14579 non-null  float64\n",
      " 83  final.output.tail_au                                14579 non-null  float64\n",
      " 84  final.output.tail_ag                                14578 non-null  float64\n",
      " 85  final.output.tail_pb                                14504 non-null  float64\n",
      " 86  final.output.tail_sol                               14574 non-null  float64\n",
      "dtypes: float64(86), object(1)\n",
      "memory usage: 9.7+ MB\n"
     ]
    }
   ],
   "source": [
    "train_data.info()"
   ]
  },
  {
   "cell_type": "markdown",
   "metadata": {},
   "source": [
    "**Информация об обучающей выборке (train_data):**\n",
    "\n",
    "Общее количество строк: 14579.\n",
    "\n",
    "Общее количество столбцов (признаков): 87.\n",
    "\n",
    "Тип данных столбца date: object (предположительно, это строковый формат даты).\n",
    "\n",
    "Типы данных остальных столбцов: float64 (числовые значения с плавающей точкой).\n",
    "\n",
    "Каждый столбец имеет некоторое количество ненулевых значений, хотя в некоторых столбцах есть пропущенные значения. Количество ненулевых значений для каждого столбца различается, что означает, что некоторые признаки содержат пропущенные данные.\n",
    "\n",
    "Например, столбцы rougher.input.feed_pb, rougher.input.feed_sol, rougher.input.feed_rate, rougher.input.feed_size имеют небольшое количество пропущенных значений, а другие столбцы, такие как secondary_cleaner.output.tail_sol, имеют большее количество пропущенных значений."
   ]
  },
  {
   "cell_type": "code",
   "execution_count": 6,
   "metadata": {},
   "outputs": [
    {
     "name": "stdout",
     "output_type": "stream",
     "text": [
      "<class 'pandas.core.frame.DataFrame'>\n",
      "RangeIndex: 4860 entries, 0 to 4859\n",
      "Data columns (total 53 columns):\n",
      " #   Column                                      Non-Null Count  Dtype  \n",
      "---  ------                                      --------------  -----  \n",
      " 0   date                                        4860 non-null   object \n",
      " 1   rougher.input.feed_au                       4860 non-null   float64\n",
      " 2   rougher.input.feed_ag                       4860 non-null   float64\n",
      " 3   rougher.input.feed_pb                       4832 non-null   float64\n",
      " 4   rougher.input.feed_sol                      4838 non-null   float64\n",
      " 5   rougher.input.feed_rate                     4856 non-null   float64\n",
      " 6   rougher.input.feed_size                     4816 non-null   float64\n",
      " 7   rougher.input.floatbank10_sulfate           4857 non-null   float64\n",
      " 8   rougher.input.floatbank10_xanthate          4859 non-null   float64\n",
      " 9   rougher.state.floatbank10_a_air             4859 non-null   float64\n",
      " 10  rougher.state.floatbank10_a_level           4859 non-null   float64\n",
      " 11  rougher.state.floatbank10_b_air             4859 non-null   float64\n",
      " 12  rougher.state.floatbank10_b_level           4859 non-null   float64\n",
      " 13  rougher.state.floatbank10_c_air             4859 non-null   float64\n",
      " 14  rougher.state.floatbank10_c_level           4859 non-null   float64\n",
      " 15  rougher.state.floatbank10_d_air             4860 non-null   float64\n",
      " 16  rougher.state.floatbank10_d_level           4860 non-null   float64\n",
      " 17  rougher.state.floatbank10_e_air             4853 non-null   float64\n",
      " 18  rougher.state.floatbank10_e_level           4860 non-null   float64\n",
      " 19  rougher.state.floatbank10_f_air             4860 non-null   float64\n",
      " 20  rougher.state.floatbank10_f_level           4860 non-null   float64\n",
      " 21  rougher.input.floatbank11_sulfate           4852 non-null   float64\n",
      " 22  rougher.input.floatbank11_xanthate          4814 non-null   float64\n",
      " 23  primary_cleaner.input.sulfate               4859 non-null   float64\n",
      " 24  primary_cleaner.input.depressant            4851 non-null   float64\n",
      " 25  primary_cleaner.input.feed_size             4860 non-null   float64\n",
      " 26  primary_cleaner.input.xanthate              4817 non-null   float64\n",
      " 27  primary_cleaner.state.floatbank8_a_air      4859 non-null   float64\n",
      " 28  primary_cleaner.state.floatbank8_a_level    4859 non-null   float64\n",
      " 29  primary_cleaner.state.floatbank8_b_air      4859 non-null   float64\n",
      " 30  primary_cleaner.state.floatbank8_b_level    4859 non-null   float64\n",
      " 31  primary_cleaner.state.floatbank8_c_air      4858 non-null   float64\n",
      " 32  primary_cleaner.state.floatbank8_c_level    4859 non-null   float64\n",
      " 33  primary_cleaner.state.floatbank8_d_air      4858 non-null   float64\n",
      " 34  primary_cleaner.state.floatbank8_d_level    4859 non-null   float64\n",
      " 35  secondary_cleaner.state.floatbank2_a_air    4734 non-null   float64\n",
      " 36  secondary_cleaner.state.floatbank2_a_level  4859 non-null   float64\n",
      " 37  secondary_cleaner.state.floatbank2_b_air    4859 non-null   float64\n",
      " 38  secondary_cleaner.state.floatbank2_b_level  4859 non-null   float64\n",
      " 39  secondary_cleaner.state.floatbank3_a_air    4859 non-null   float64\n",
      " 40  secondary_cleaner.state.floatbank3_a_level  4859 non-null   float64\n",
      " 41  secondary_cleaner.state.floatbank3_b_air    4859 non-null   float64\n",
      " 42  secondary_cleaner.state.floatbank3_b_level  4859 non-null   float64\n",
      " 43  secondary_cleaner.state.floatbank4_a_air    4859 non-null   float64\n",
      " 44  secondary_cleaner.state.floatbank4_a_level  4859 non-null   float64\n",
      " 45  secondary_cleaner.state.floatbank4_b_air    4859 non-null   float64\n",
      " 46  secondary_cleaner.state.floatbank4_b_level  4859 non-null   float64\n",
      " 47  secondary_cleaner.state.floatbank5_a_air    4859 non-null   float64\n",
      " 48  secondary_cleaner.state.floatbank5_a_level  4859 non-null   float64\n",
      " 49  secondary_cleaner.state.floatbank5_b_air    4859 non-null   float64\n",
      " 50  secondary_cleaner.state.floatbank5_b_level  4859 non-null   float64\n",
      " 51  secondary_cleaner.state.floatbank6_a_air    4859 non-null   float64\n",
      " 52  secondary_cleaner.state.floatbank6_a_level  4859 non-null   float64\n",
      "dtypes: float64(52), object(1)\n",
      "memory usage: 2.0+ MB\n"
     ]
    }
   ],
   "source": [
    "test_data.info()"
   ]
  },
  {
   "cell_type": "markdown",
   "metadata": {},
   "source": [
    "***Информация о тестовой выборке (test_data):***\n",
    "\n",
    "Общее количество строк: 4860.\n",
    "\n",
    "Общее количество столбцов (признаков): 53.\n",
    "\n",
    "Тип данных столбца date: object (предположительно, это строковый формат даты).\n",
    "\n",
    "Типы данных остальных столбцов: float64 (числовые значения с плавающей точкой).\n",
    "\n",
    "Как и в обучающей выборке, каждый столбец в тестовой выборке имеет некоторое количество ненулевых значений, но некоторые столбцы содержат пропущенные данные. Например, столбцы rougher.input.feed_pb, rougher.input.feed_sol, primary_cleaner.input.xanthate имеют пропущенные значения."
   ]
  },
  {
   "cell_type": "code",
   "execution_count": 7,
   "metadata": {},
   "outputs": [
    {
     "name": "stdout",
     "output_type": "stream",
     "text": [
      "<class 'pandas.core.frame.DataFrame'>\n",
      "RangeIndex: 19439 entries, 0 to 19438\n",
      "Data columns (total 87 columns):\n",
      " #   Column                                              Non-Null Count  Dtype  \n",
      "---  ------                                              --------------  -----  \n",
      " 0   date                                                19439 non-null  object \n",
      " 1   rougher.input.feed_au                               19439 non-null  float64\n",
      " 2   rougher.input.feed_ag                               19439 non-null  float64\n",
      " 3   rougher.input.feed_pb                               19339 non-null  float64\n",
      " 4   rougher.input.feed_sol                              19340 non-null  float64\n",
      " 5   rougher.input.feed_rate                             19428 non-null  float64\n",
      " 6   rougher.input.feed_size                             19294 non-null  float64\n",
      " 7   rougher.input.floatbank10_sulfate                   19405 non-null  float64\n",
      " 8   rougher.input.floatbank10_xanthate                  19431 non-null  float64\n",
      " 9   rougher.state.floatbank10_a_air                     19438 non-null  float64\n",
      " 10  rougher.state.floatbank10_a_level                   19438 non-null  float64\n",
      " 11  rougher.state.floatbank10_b_air                     19438 non-null  float64\n",
      " 12  rougher.state.floatbank10_b_level                   19438 non-null  float64\n",
      " 13  rougher.state.floatbank10_c_air                     19438 non-null  float64\n",
      " 14  rougher.state.floatbank10_c_level                   19438 non-null  float64\n",
      " 15  rougher.state.floatbank10_d_air                     19439 non-null  float64\n",
      " 16  rougher.state.floatbank10_d_level                   19439 non-null  float64\n",
      " 17  rougher.state.floatbank10_e_air                     19003 non-null  float64\n",
      " 18  rougher.state.floatbank10_e_level                   19439 non-null  float64\n",
      " 19  rougher.state.floatbank10_f_air                     19439 non-null  float64\n",
      " 20  rougher.state.floatbank10_f_level                   19439 non-null  float64\n",
      " 21  rougher.input.floatbank11_sulfate                   19395 non-null  float64\n",
      " 22  rougher.input.floatbank11_xanthate                  18986 non-null  float64\n",
      " 23  rougher.calculation.sulfate_to_au_concentrate       19437 non-null  float64\n",
      " 24  rougher.calculation.floatbank10_sulfate_to_au_feed  19437 non-null  float64\n",
      " 25  rougher.calculation.floatbank11_sulfate_to_au_feed  19437 non-null  float64\n",
      " 26  rougher.calculation.au_pb_ratio                     19439 non-null  float64\n",
      " 27  rougher.output.concentrate_au                       19439 non-null  float64\n",
      " 28  rougher.output.concentrate_ag                       19439 non-null  float64\n",
      " 29  rougher.output.concentrate_pb                       19439 non-null  float64\n",
      " 30  rougher.output.concentrate_sol                      19416 non-null  float64\n",
      " 31  rougher.output.recovery                             19439 non-null  float64\n",
      " 32  rougher.output.tail_au                              19439 non-null  float64\n",
      " 33  rougher.output.tail_ag                              19438 non-null  float64\n",
      " 34  rougher.output.tail_pb                              19439 non-null  float64\n",
      " 35  rougher.output.tail_sol                             19439 non-null  float64\n",
      " 36  primary_cleaner.input.sulfate                       19415 non-null  float64\n",
      " 37  primary_cleaner.input.depressant                    19402 non-null  float64\n",
      " 38  primary_cleaner.input.feed_size                     19439 non-null  float64\n",
      " 39  primary_cleaner.input.xanthate                      19335 non-null  float64\n",
      " 40  primary_cleaner.state.floatbank8_a_air              19435 non-null  float64\n",
      " 41  primary_cleaner.state.floatbank8_a_level            19438 non-null  float64\n",
      " 42  primary_cleaner.state.floatbank8_b_air              19435 non-null  float64\n",
      " 43  primary_cleaner.state.floatbank8_b_level            19438 non-null  float64\n",
      " 44  primary_cleaner.state.floatbank8_c_air              19437 non-null  float64\n",
      " 45  primary_cleaner.state.floatbank8_c_level            19438 non-null  float64\n",
      " 46  primary_cleaner.state.floatbank8_d_air              19436 non-null  float64\n",
      " 47  primary_cleaner.state.floatbank8_d_level            19438 non-null  float64\n",
      " 48  primary_cleaner.output.concentrate_au               19439 non-null  float64\n",
      " 49  primary_cleaner.output.concentrate_ag               19439 non-null  float64\n",
      " 50  primary_cleaner.output.concentrate_pb               19323 non-null  float64\n",
      " 51  primary_cleaner.output.concentrate_sol              19069 non-null  float64\n",
      " 52  primary_cleaner.output.tail_au                      19439 non-null  float64\n",
      " 53  primary_cleaner.output.tail_ag                      19435 non-null  float64\n",
      " 54  primary_cleaner.output.tail_pb                      19418 non-null  float64\n",
      " 55  primary_cleaner.output.tail_sol                     19377 non-null  float64\n",
      " 56  secondary_cleaner.state.floatbank2_a_air            19219 non-null  float64\n",
      " 57  secondary_cleaner.state.floatbank2_a_level          19438 non-null  float64\n",
      " 58  secondary_cleaner.state.floatbank2_b_air            19416 non-null  float64\n",
      " 59  secondary_cleaner.state.floatbank2_b_level          19438 non-null  float64\n",
      " 60  secondary_cleaner.state.floatbank3_a_air            19426 non-null  float64\n",
      " 61  secondary_cleaner.state.floatbank3_a_level          19438 non-null  float64\n",
      " 62  secondary_cleaner.state.floatbank3_b_air            19438 non-null  float64\n",
      " 63  secondary_cleaner.state.floatbank3_b_level          19438 non-null  float64\n",
      " 64  secondary_cleaner.state.floatbank4_a_air            19433 non-null  float64\n",
      " 65  secondary_cleaner.state.floatbank4_a_level          19438 non-null  float64\n",
      " 66  secondary_cleaner.state.floatbank4_b_air            19438 non-null  float64\n",
      " 67  secondary_cleaner.state.floatbank4_b_level          19438 non-null  float64\n",
      " 68  secondary_cleaner.state.floatbank5_a_air            19438 non-null  float64\n",
      " 69  secondary_cleaner.state.floatbank5_a_level          19438 non-null  float64\n",
      " 70  secondary_cleaner.state.floatbank5_b_air            19438 non-null  float64\n",
      " 71  secondary_cleaner.state.floatbank5_b_level          19438 non-null  float64\n",
      " 72  secondary_cleaner.state.floatbank6_a_air            19437 non-null  float64\n",
      " 73  secondary_cleaner.state.floatbank6_a_level          19438 non-null  float64\n",
      " 74  secondary_cleaner.output.tail_au                    19439 non-null  float64\n",
      " 75  secondary_cleaner.output.tail_ag                    19437 non-null  float64\n",
      " 76  secondary_cleaner.output.tail_pb                    19427 non-null  float64\n",
      " 77  secondary_cleaner.output.tail_sol                   17691 non-null  float64\n",
      " 78  final.output.concentrate_au                         19439 non-null  float64\n",
      " 79  final.output.concentrate_ag                         19438 non-null  float64\n",
      " 80  final.output.concentrate_pb                         19438 non-null  float64\n",
      " 81  final.output.concentrate_sol                        19228 non-null  float64\n",
      " 82  final.output.recovery                               19439 non-null  float64\n",
      " 83  final.output.tail_au                                19439 non-null  float64\n",
      " 84  final.output.tail_ag                                19438 non-null  float64\n",
      " 85  final.output.tail_pb                                19338 non-null  float64\n",
      " 86  final.output.tail_sol                               19433 non-null  float64\n",
      "dtypes: float64(86), object(1)\n",
      "memory usage: 12.9+ MB\n"
     ]
    }
   ],
   "source": [
    "full_data.info()"
   ]
  },
  {
   "cell_type": "markdown",
   "metadata": {},
   "source": [
    "***Информация о полной выборке (full_data):***\n",
    "\n",
    "Общее количество строк: 19439.\n",
    "\n",
    "Общее количество столбцов (признаков): 87.\n",
    "\n",
    "Тип данных столбца date: object (предположительно, это строковый формат даты).\n",
    "\n",
    "Типы данных остальных столбцов: float64 (числовые значения с плавающей точкой).\n",
    "\n",
    "Полная выборка содержит больше строк и столбцов по сравнению с обучающей и тестовой выборками. Это объединенный набор данных, состоящий из обучающих и тестовых данных вместе.Некоторые параметры недоступны, потому что замеряются и/или рассчитываются значительно позже. Из-за этого в тестовой выборке отсутствуют некоторые признаки, которые могут быть в обучающей. Также в тестовом наборе нет целевых признаков.\n",
    "\n",
    "Подобно обучающей и тестовой выборкам, каждый столбец в полной выборке имеет некоторое количество ненулевых значений, но также содержит пропущенные данные."
   ]
  },
  {
   "cell_type": "code",
   "execution_count": 8,
   "metadata": {},
   "outputs": [
    {
     "name": "stdout",
     "output_type": "stream",
     "text": [
      "Количество явных дубликатов в train_data: 0\n",
      "Количество явных дубликатов в test_data: 0\n",
      "Количество явных дубликатов в full_data: 0\n"
     ]
    }
   ],
   "source": [
    "print(f\"Количество явных дубликатов в train_data:\", train_data.duplicated().sum())\n",
    "print(f\"Количество явных дубликатов в test_data:\", test_data.duplicated().sum())\n",
    "print(f\"Количество явных дубликатов в full_data:\", full_data.duplicated().sum())"
   ]
  },
  {
   "cell_type": "code",
   "execution_count": 9,
   "metadata": {},
   "outputs": [
    {
     "name": "stdout",
     "output_type": "stream",
     "text": [
      "Количество неявных дубликатов в train_data: date                      0.0\n",
      "rougher.input.feed_au     0.0\n",
      "rougher.input.feed_ag     0.0\n",
      "rougher.input.feed_pb     0.0\n",
      "rougher.input.feed_sol    0.0\n",
      "                         ... \n",
      "final.output.recovery     0.0\n",
      "final.output.tail_au      0.0\n",
      "final.output.tail_ag      0.0\n",
      "final.output.tail_pb      0.0\n",
      "final.output.tail_sol     0.0\n",
      "Length: 87, dtype: float64\n",
      "Количество неявных дубликатов в test_data: date                                          0.0\n",
      "rougher.input.feed_au                         0.0\n",
      "rougher.input.feed_ag                         0.0\n",
      "rougher.input.feed_pb                         0.0\n",
      "rougher.input.feed_sol                        0.0\n",
      "rougher.input.feed_rate                       0.0\n",
      "rougher.input.feed_size                       0.0\n",
      "rougher.input.floatbank10_sulfate             0.0\n",
      "rougher.input.floatbank10_xanthate            0.0\n",
      "rougher.state.floatbank10_a_air               0.0\n",
      "rougher.state.floatbank10_a_level             0.0\n",
      "rougher.state.floatbank10_b_air               0.0\n",
      "rougher.state.floatbank10_b_level             0.0\n",
      "rougher.state.floatbank10_c_air               0.0\n",
      "rougher.state.floatbank10_c_level             0.0\n",
      "rougher.state.floatbank10_d_air               0.0\n",
      "rougher.state.floatbank10_d_level             0.0\n",
      "rougher.state.floatbank10_e_air               0.0\n",
      "rougher.state.floatbank10_e_level             0.0\n",
      "rougher.state.floatbank10_f_air               0.0\n",
      "rougher.state.floatbank10_f_level             0.0\n",
      "rougher.input.floatbank11_sulfate             0.0\n",
      "rougher.input.floatbank11_xanthate            0.0\n",
      "primary_cleaner.input.sulfate                 0.0\n",
      "primary_cleaner.input.depressant              0.0\n",
      "primary_cleaner.input.feed_size               0.0\n",
      "primary_cleaner.input.xanthate                0.0\n",
      "primary_cleaner.state.floatbank8_a_air        0.0\n",
      "primary_cleaner.state.floatbank8_a_level      0.0\n",
      "primary_cleaner.state.floatbank8_b_air        0.0\n",
      "primary_cleaner.state.floatbank8_b_level      0.0\n",
      "primary_cleaner.state.floatbank8_c_air        0.0\n",
      "primary_cleaner.state.floatbank8_c_level      0.0\n",
      "primary_cleaner.state.floatbank8_d_air        0.0\n",
      "primary_cleaner.state.floatbank8_d_level      0.0\n",
      "secondary_cleaner.state.floatbank2_a_air      0.0\n",
      "secondary_cleaner.state.floatbank2_a_level    0.0\n",
      "secondary_cleaner.state.floatbank2_b_air      0.0\n",
      "secondary_cleaner.state.floatbank2_b_level    0.0\n",
      "secondary_cleaner.state.floatbank3_a_air      0.0\n",
      "secondary_cleaner.state.floatbank3_a_level    0.0\n",
      "secondary_cleaner.state.floatbank3_b_air      0.0\n",
      "secondary_cleaner.state.floatbank3_b_level    0.0\n",
      "secondary_cleaner.state.floatbank4_a_air      0.0\n",
      "secondary_cleaner.state.floatbank4_a_level    0.0\n",
      "secondary_cleaner.state.floatbank4_b_air      0.0\n",
      "secondary_cleaner.state.floatbank4_b_level    0.0\n",
      "secondary_cleaner.state.floatbank5_a_air      0.0\n",
      "secondary_cleaner.state.floatbank5_a_level    0.0\n",
      "secondary_cleaner.state.floatbank5_b_air      0.0\n",
      "secondary_cleaner.state.floatbank5_b_level    0.0\n",
      "secondary_cleaner.state.floatbank6_a_air      0.0\n",
      "secondary_cleaner.state.floatbank6_a_level    0.0\n",
      "dtype: float64\n",
      "Количество неявных дубликатов в full_data: date                      0.0\n",
      "rougher.input.feed_au     0.0\n",
      "rougher.input.feed_ag     0.0\n",
      "rougher.input.feed_pb     0.0\n",
      "rougher.input.feed_sol    0.0\n",
      "                         ... \n",
      "final.output.recovery     0.0\n",
      "final.output.tail_au      0.0\n",
      "final.output.tail_ag      0.0\n",
      "final.output.tail_pb      0.0\n",
      "final.output.tail_sol     0.0\n",
      "Length: 87, dtype: float64\n"
     ]
    }
   ],
   "source": [
    "print(f\"Количество неявных дубликатов в train_data:\", train_data[train_data.duplicated(keep=False)].sum())\n",
    "print(f\"Количество неявных дубликатов в test_data:\", test_data[test_data.duplicated(keep=False)].sum())\n",
    "print(f\"Количество неявных дубликатов в full_data:\", full_data[full_data.duplicated(keep=False)].sum())"
   ]
  },
  {
   "cell_type": "markdown",
   "metadata": {},
   "source": [
    "***Вывод показывает, что нет ни явных, ни неявных дубликатов в каждом из трех датафреймов train_data, test_data и full_data. Это говорит о том, что данные не содержат повторяющихся записей, что может быть важным для анализа и моделирования данных.***"
   ]
  },
  {
   "cell_type": "code",
   "execution_count": 10,
   "metadata": {},
   "outputs": [
    {
     "name": "stdout",
     "output_type": "stream",
     "text": [
      "Статистическая информация по full_data:        rougher.input.feed_au  rougher.input.feed_ag  rougher.input.feed_pb  \\\n",
      "count           19439.000000           19439.000000           19339.000000   \n",
      "mean                8.266097               8.794927               3.598085   \n",
      "std                 1.955092               1.936847               1.049486   \n",
      "min                 0.010000               0.010000               0.010000   \n",
      "25%                 6.854384               7.237967               2.887280   \n",
      "50%                 8.125839               8.593574               3.534895   \n",
      "75%                 9.769917              10.213771               4.244161   \n",
      "max                13.731330              14.596026               7.142594   \n",
      "\n",
      "       rougher.input.feed_sol  rougher.input.feed_rate  \\\n",
      "count            19340.000000             19428.000000   \n",
      "mean                36.695114               478.320042   \n",
      "std                  5.145445               105.373758   \n",
      "min                  0.010000                 0.002986   \n",
      "25%                 34.207799               416.525453   \n",
      "50%                 37.202650               499.416120   \n",
      "75%                 40.039133               550.172183   \n",
      "max                 53.477742               717.508837   \n",
      "\n",
      "       rougher.input.feed_size  rougher.input.floatbank10_sulfate  \\\n",
      "count             19294.000000                       19405.000000   \n",
      "mean                 58.970310                          12.334373   \n",
      "std                  21.634478                           3.427317   \n",
      "min                   0.046369                           0.001083   \n",
      "25%                  47.435103                          10.000362   \n",
      "50%                  54.610197                          12.001174   \n",
      "75%                  65.023044                          14.716595   \n",
      "max                 484.967466                          36.118275   \n",
      "\n",
      "       rougher.input.floatbank10_xanthate  rougher.state.floatbank10_a_air  \\\n",
      "count                        19431.000000                     19438.000000   \n",
      "mean                             6.021474                      1105.315068   \n",
      "std                              1.127263                       160.826798   \n",
      "min                              0.000568                        -0.042069   \n",
      "25%                              5.398678                       999.661867   \n",
      "50%                              6.008273                      1001.072890   \n",
      "75%                              6.798051                      1205.620588   \n",
      "max                              9.703448                      1521.980372   \n",
      "\n",
      "       rougher.state.floatbank10_a_level  ...  \\\n",
      "count                       19438.000000  ...   \n",
      "mean                         -376.610690  ...   \n",
      "std                            93.909667  ...   \n",
      "min                          -657.949759  ...   \n",
      "25%                          -499.835165  ...   \n",
      "50%                          -300.263994  ...   \n",
      "75%                          -299.981998  ...   \n",
      "max                          -273.776101  ...   \n",
      "\n",
      "       secondary_cleaner.output.tail_sol  final.output.concentrate_au  \\\n",
      "count                       17691.000000                 19439.000000   \n",
      "mean                            7.167247                    44.076513   \n",
      "std                             3.916079                     5.129784   \n",
      "min                             0.000000                     0.000000   \n",
      "25%                             3.845475                    43.402215   \n",
      "50%                             7.685827                    45.011244   \n",
      "75%                            10.411296                    46.275313   \n",
      "max                            26.000772                    52.756638   \n",
      "\n",
      "       final.output.concentrate_ag  final.output.concentrate_pb  \\\n",
      "count                 19438.000000                 19438.000000   \n",
      "mean                      5.168470                     9.978895   \n",
      "std                       1.372348                     1.669240   \n",
      "min                       0.000000                     0.000000   \n",
      "25%                       4.251240                     9.137262   \n",
      "50%                       5.066094                    10.102433   \n",
      "75%                       5.895527                    11.035769   \n",
      "max                      16.001945                    17.031899   \n",
      "\n",
      "       final.output.concentrate_sol  final.output.recovery  \\\n",
      "count                  19228.000000           19439.000000   \n",
      "mean                       9.501224              67.050208   \n",
      "std                        2.787537              10.125840   \n",
      "min                        0.000000               0.000000   \n",
      "25%                        7.722820              63.299712   \n",
      "50%                        9.218961              68.172738   \n",
      "75%                       10.947813              72.686642   \n",
      "max                       19.615720             100.000000   \n",
      "\n",
      "       final.output.tail_au  final.output.tail_ag  final.output.tail_pb  \\\n",
      "count          19439.000000          19438.000000          19338.000000   \n",
      "mean               3.042467              9.688589              2.705795   \n",
      "std                0.922808              2.328642              0.949077   \n",
      "min                0.000000              0.000000              0.000000   \n",
      "25%                2.461138              8.062878              2.040119   \n",
      "50%                2.984909              9.743623              2.748730   \n",
      "75%                3.571351             11.134294              3.333216   \n",
      "max                8.245022             19.552149              5.804178   \n",
      "\n",
      "       final.output.tail_sol  \n",
      "count           19433.000000  \n",
      "mean               10.583728  \n",
      "std                 2.868782  \n",
      "min                 0.000000  \n",
      "25%                 8.938947  \n",
      "50%                10.622456  \n",
      "75%                12.104271  \n",
      "max                22.317730  \n",
      "\n",
      "[8 rows x 86 columns]\n"
     ]
    }
   ],
   "source": [
    "print(f\"Статистическая информация по full_data:\", full_data.describe())"
   ]
  },
  {
   "cell_type": "code",
   "execution_count": 11,
   "metadata": {},
   "outputs": [
    {
     "data": {
      "image/png": "[encoded data removed]",
      "text/plain": [
       "<Figure size 864x4752 with 86 Axes>"
      ]
     },
     "metadata": {
      "needs_background": "light"
     },
     "output_type": "display_data"
    }
   ],
   "source": [
    "g = sns.FacetGrid(full_data.melt(id_vars='date'), col='variable', col_wrap=4, sharex=False, sharey=False, height=3)\n",
    "g.map(plt.hist, 'value', bins=80, color='skyblue', edgecolor='black')\n",
    "plt.show()"
   ]
  },
  {
   "cell_type": "code",
   "execution_count": 12,
   "metadata": {},
   "outputs": [
    {
     "name": "stdout",
     "output_type": "stream",
     "text": [
      "                         rougher.input.feed_au  rougher.input.feed_ag  \\\n",
      "rougher.input.feed_au                 1.000000               0.845274   \n",
      "rougher.input.feed_ag                 0.845274               1.000000   \n",
      "rougher.input.feed_pb                 0.687003               0.496579   \n",
      "rougher.input.feed_sol                0.094392               0.115878   \n",
      "rougher.input.feed_rate              -0.190381              -0.134165   \n",
      "...                                        ...                    ...   \n",
      "final.output.recovery                 0.295343               0.286823   \n",
      "final.output.tail_au                  0.642479               0.498710   \n",
      "final.output.tail_ag                  0.594311               0.777677   \n",
      "final.output.tail_pb                  0.494324               0.277462   \n",
      "final.output.tail_sol                -0.008907               0.013153   \n",
      "\n",
      "                         rougher.input.feed_pb  rougher.input.feed_sol  \\\n",
      "rougher.input.feed_au                 0.687003                0.094392   \n",
      "rougher.input.feed_ag                 0.496579                0.115878   \n",
      "rougher.input.feed_pb                 1.000000                0.090636   \n",
      "rougher.input.feed_sol                0.090636                1.000000   \n",
      "rougher.input.feed_rate              -0.139769                0.621676   \n",
      "...                                        ...                     ...   \n",
      "final.output.recovery                 0.175646                0.250058   \n",
      "final.output.tail_au                  0.459312               -0.109150   \n",
      "final.output.tail_ag                  0.400925                0.018099   \n",
      "final.output.tail_pb                  0.773465               -0.012314   \n",
      "final.output.tail_sol                -0.158319                0.382381   \n",
      "\n",
      "                         rougher.input.feed_rate  rougher.input.feed_size  \\\n",
      "rougher.input.feed_au                  -0.190381                -0.152634   \n",
      "rougher.input.feed_ag                  -0.134165                -0.110868   \n",
      "rougher.input.feed_pb                  -0.139769                -0.054133   \n",
      "rougher.input.feed_sol                  0.621676                 0.180514   \n",
      "rougher.input.feed_rate                 1.000000                 0.122620   \n",
      "...                                          ...                      ...   \n",
      "final.output.recovery                   0.172786                 0.048744   \n",
      "final.output.tail_au                   -0.293895                -0.187710   \n",
      "final.output.tail_ag                   -0.053626                -0.056861   \n",
      "final.output.tail_pb                   -0.249568                -0.110962   \n",
      "final.output.tail_sol                   0.473291                -0.028740   \n",
      "\n",
      "                         rougher.input.floatbank10_sulfate  \\\n",
      "rougher.input.feed_au                             0.294588   \n",
      "rougher.input.feed_ag                             0.106487   \n",
      "rougher.input.feed_pb                             0.257604   \n",
      "rougher.input.feed_sol                            0.296444   \n",
      "rougher.input.feed_rate                           0.234889   \n",
      "...                                                    ...   \n",
      "final.output.recovery                             0.061033   \n",
      "final.output.tail_au                              0.230868   \n",
      "final.output.tail_ag                             -0.054658   \n",
      "final.output.tail_pb                              0.370162   \n",
      "final.output.tail_sol                             0.221742   \n",
      "\n",
      "                         rougher.input.floatbank10_xanthate  \\\n",
      "rougher.input.feed_au                              0.208971   \n",
      "rougher.input.feed_ag                              0.231607   \n",
      "rougher.input.feed_pb                              0.067909   \n",
      "rougher.input.feed_sol                             0.383095   \n",
      "rougher.input.feed_rate                            0.599559   \n",
      "...                                                     ...   \n",
      "final.output.recovery                              0.328066   \n",
      "final.output.tail_au                              -0.076709   \n",
      "final.output.tail_ag                               0.291050   \n",
      "final.output.tail_pb                              -0.160586   \n",
      "final.output.tail_sol                              0.310551   \n",
      "\n",
      "                         rougher.state.floatbank10_a_air  \\\n",
      "rougher.input.feed_au                           0.154849   \n",
      "rougher.input.feed_ag                           0.278293   \n",
      "rougher.input.feed_pb                           0.260916   \n",
      "rougher.input.feed_sol                          0.171198   \n",
      "rougher.input.feed_rate                         0.010749   \n",
      "...                                                  ...   \n",
      "final.output.recovery                           0.183251   \n",
      "final.output.tail_au                           -0.036474   \n",
      "final.output.tail_ag                            0.260268   \n",
      "final.output.tail_pb                            0.102342   \n",
      "final.output.tail_sol                          -0.113732   \n",
      "\n",
      "                         rougher.state.floatbank10_a_level  ...  \\\n",
      "rougher.input.feed_au                            -0.102113  ...   \n",
      "rougher.input.feed_ag                            -0.124046  ...   \n",
      "rougher.input.feed_pb                             0.246938  ...   \n",
      "rougher.input.feed_sol                            0.315981  ...   \n",
      "rougher.input.feed_rate                           0.142343  ...   \n",
      "...                                                    ...  ...   \n",
      "final.output.recovery                             0.065421  ...   \n",
      "final.output.tail_au                             -0.153775  ...   \n",
      "final.output.tail_ag                             -0.095086  ...   \n",
      "final.output.tail_pb                              0.244610  ...   \n",
      "final.output.tail_sol                            -0.178710  ...   \n",
      "\n",
      "                         secondary_cleaner.output.tail_sol  \\\n",
      "rougher.input.feed_au                             0.242171   \n",
      "rougher.input.feed_ag                             0.265350   \n",
      "rougher.input.feed_pb                            -0.026652   \n",
      "rougher.input.feed_sol                           -0.121835   \n",
      "rougher.input.feed_rate                          -0.053967   \n",
      "...                                                    ...   \n",
      "final.output.recovery                            -0.030084   \n",
      "final.output.tail_au                              0.260681   \n",
      "final.output.tail_ag                              0.216936   \n",
      "final.output.tail_pb                             -0.026049   \n",
      "final.output.tail_sol                             0.301495   \n",
      "\n",
      "                         final.output.concentrate_au  \\\n",
      "rougher.input.feed_au                       0.035095   \n",
      "rougher.input.feed_ag                       0.020728   \n",
      "rougher.input.feed_pb                       0.011408   \n",
      "rougher.input.feed_sol                      0.219287   \n",
      "rougher.input.feed_rate                     0.161275   \n",
      "...                                              ...   \n",
      "final.output.recovery                       0.288568   \n",
      "final.output.tail_au                       -0.031696   \n",
      "final.output.tail_ag                        0.080381   \n",
      "final.output.tail_pb                        0.081291   \n",
      "final.output.tail_sol                       0.134978   \n",
      "\n",
      "                         final.output.concentrate_ag  \\\n",
      "rougher.input.feed_au                       0.315817   \n",
      "rougher.input.feed_ag                       0.456279   \n",
      "rougher.input.feed_pb                       0.074866   \n",
      "rougher.input.feed_sol                     -0.036783   \n",
      "rougher.input.feed_rate                    -0.167154   \n",
      "...                                              ...   \n",
      "final.output.recovery                       0.185952   \n",
      "final.output.tail_au                        0.206569   \n",
      "final.output.tail_ag                        0.334596   \n",
      "final.output.tail_pb                       -0.051855   \n",
      "final.output.tail_sol                       0.028890   \n",
      "\n",
      "                         final.output.concentrate_pb  \\\n",
      "rougher.input.feed_au                      -0.079812   \n",
      "rougher.input.feed_ag                      -0.207999   \n",
      "rougher.input.feed_pb                       0.301446   \n",
      "rougher.input.feed_sol                      0.116718   \n",
      "rougher.input.feed_rate                     0.066815   \n",
      "...                                              ...   \n",
      "final.output.recovery                       0.151987   \n",
      "final.output.tail_au                       -0.047446   \n",
      "final.output.tail_ag                       -0.126886   \n",
      "final.output.tail_pb                        0.221372   \n",
      "final.output.tail_sol                       0.094385   \n",
      "\n",
      "                         final.output.concentrate_sol  final.output.recovery  \\\n",
      "rougher.input.feed_au                        0.474520               0.295343   \n",
      "rougher.input.feed_ag                        0.479259               0.286823   \n",
      "rougher.input.feed_pb                        0.185576               0.175646   \n",
      "rougher.input.feed_sol                       0.010362               0.250058   \n",
      "rougher.input.feed_rate                     -0.168127               0.172786   \n",
      "...                                               ...                    ...   \n",
      "final.output.recovery                        0.265993               1.000000   \n",
      "final.output.tail_au                         0.267781              -0.409200   \n",
      "final.output.tail_ag                         0.286305               0.125986   \n",
      "final.output.tail_pb                         0.221714              -0.143094   \n",
      "final.output.tail_sol                       -0.023865              -0.050280   \n",
      "\n",
      "                         final.output.tail_au  final.output.tail_ag  \\\n",
      "rougher.input.feed_au                0.642479              0.594311   \n",
      "rougher.input.feed_ag                0.498710              0.777677   \n",
      "rougher.input.feed_pb                0.459312              0.400925   \n",
      "rougher.input.feed_sol              -0.109150              0.018099   \n",
      "rougher.input.feed_rate             -0.293895             -0.053626   \n",
      "...                                       ...                   ...   \n",
      "final.output.recovery               -0.409200              0.125986   \n",
      "final.output.tail_au                 1.000000              0.444434   \n",
      "final.output.tail_ag                 0.444434              1.000000   \n",
      "final.output.tail_pb                 0.607380              0.307887   \n",
      "final.output.tail_sol                0.076956              0.138464   \n",
      "\n",
      "                         final.output.tail_pb  final.output.tail_sol  \n",
      "rougher.input.feed_au                0.494324              -0.008907  \n",
      "rougher.input.feed_ag                0.277462               0.013153  \n",
      "rougher.input.feed_pb                0.773465              -0.158319  \n",
      "rougher.input.feed_sol              -0.012314               0.382381  \n",
      "rougher.input.feed_rate             -0.249568               0.473291  \n",
      "...                                       ...                    ...  \n",
      "final.output.recovery               -0.143094              -0.050280  \n",
      "final.output.tail_au                 0.607380               0.076956  \n",
      "final.output.tail_ag                 0.307887               0.138464  \n",
      "final.output.tail_pb                 1.000000              -0.133032  \n",
      "final.output.tail_sol               -0.133032               1.000000  \n",
      "\n",
      "[86 rows x 86 columns]\n"
     ]
    }
   ],
   "source": [
    "correlation_matrix = full_data.corr()\n",
    "print(correlation_matrix)"
   ]
  },
  {
   "cell_type": "markdown",
   "metadata": {},
   "source": [
    "Наиболее сильно коррелируют следующие столбцы данных:\n",
    "\n",
    "- \"rougher.input.feed_au\" (золото в сырье) - корреляция около 0.295\n",
    "- \"rougher.input.feed_ag\" (серебро в сырье) - корреляция около 0.287\n",
    "- \"rougher.input.feed_pb\" (свинец в сырье) - корреляция около 0.176\n",
    "\n",
    "Это означает, что эти параметры имеют некоторую положительную корреляцию с целевой переменной, что может быть полезным при обучении модели для предсказания коэффициента восстановления золота. Однако, они не сильно коррелируют между собой, что позволяет использовать их в качестве независимых признаков для модели."
   ]
  },
  {
   "cell_type": "markdown",
   "metadata": {},
   "source": [
    "### Проверьте, что эффективность обогащения рассчитана правильно. Вычислите её на обучающей выборке для признака rougher.output.recovery. Найдите MAE между вашими расчётами и значением признака. Опишите выводы."
   ]
  },
  {
   "cell_type": "code",
   "execution_count": 13,
   "metadata": {},
   "outputs": [],
   "source": [
    "def recovery(C, F, T):\n",
    "    return C * (F - T) / (F * (C - T)) * 100"
   ]
  },
  {
   "cell_type": "code",
   "execution_count": 14,
   "metadata": {},
   "outputs": [
    {
     "name": "stdout",
     "output_type": "stream",
     "text": [
      "MAE: 9.83758577644259e-15\n"
     ]
    }
   ],
   "source": [
    "C = train_data['rougher.output.concentrate_au']\n",
    "F = train_data['rougher.input.feed_au']\n",
    "T = train_data['rougher.output.tail_au']\n",
    "calculated_recovery = recovery(C, F, T)\n",
    "\n",
    "mae = mean_absolute_error(calculated_recovery, train_data['rougher.output.recovery'])\n",
    "print('MAE:', mae)"
   ]
  },
  {
   "cell_type": "markdown",
   "metadata": {},
   "source": [
    "Значение MAE (средней абсолютной ошибки) 9.83758577644259e-15 очень близко к нулю, что указывает на то, что расчеты эффективности обогащения, выполненные с помощью формулы Recovery = C*(F-T)/F*(C-T) * 100%, очень близки к значениям признака rougher.output.recovery. Это означает, что эффективность обогащения рассчитана правильно и можно использовать значения признака rougher.output.recovery для дальнейшего анализа данных."
   ]
  },
  {
   "cell_type": "markdown",
   "metadata": {},
   "source": [
    "### Проведите предобработку данных."
   ]
  },
  {
   "cell_type": "code",
   "execution_count": 19,
   "metadata": {},
   "outputs": [],
   "source": [
    "train_data.fillna(method='ffill', inplace=True)"
   ]
  },
  {
   "cell_type": "code",
   "execution_count": 22,
   "metadata": {},
   "outputs": [
    {
     "name": "stdout",
     "output_type": "stream",
     "text": [
      "0\n"
     ]
    }
   ],
   "source": [
    "pd.set_option('display.max_rows', None)  # Показать все строки\n",
    "print(train_data.isnull().sum().sum())\n",
    "pd.reset_option('display.max_rows')  # Восстановить ограничение на отображение строк"
   ]
  },
  {
   "cell_type": "code",
   "execution_count": 28,
   "metadata": {},
   "outputs": [],
   "source": [
    "test_data.fillna(method='ffill', inplace=True)"
   ]
  },
  {
   "cell_type": "code",
   "execution_count": 31,
   "metadata": {},
   "outputs": [
    {
     "name": "stdout",
     "output_type": "stream",
     "text": [
      "date                                                     0\n",
      "rougher.input.feed_au                                    0\n",
      "rougher.input.feed_ag                                    0\n",
      "rougher.input.feed_pb                                  100\n",
      "rougher.input.feed_sol                                  99\n",
      "rougher.input.feed_rate                                 11\n",
      "rougher.input.feed_size                                145\n",
      "rougher.input.floatbank10_sulfate                       34\n",
      "rougher.input.floatbank10_xanthate                       8\n",
      "rougher.state.floatbank10_a_air                          1\n",
      "rougher.state.floatbank10_a_level                        1\n",
      "rougher.state.floatbank10_b_air                          1\n",
      "rougher.state.floatbank10_b_level                        1\n",
      "rougher.state.floatbank10_c_air                          1\n",
      "rougher.state.floatbank10_c_level                        1\n",
      "rougher.state.floatbank10_d_air                          0\n",
      "rougher.state.floatbank10_d_level                        0\n",
      "rougher.state.floatbank10_e_air                        436\n",
      "rougher.state.floatbank10_e_level                        0\n",
      "rougher.state.floatbank10_f_air                          0\n",
      "rougher.state.floatbank10_f_level                        0\n",
      "rougher.input.floatbank11_sulfate                       44\n",
      "rougher.input.floatbank11_xanthate                     453\n",
      "rougher.calculation.sulfate_to_au_concentrate            2\n",
      "rougher.calculation.floatbank10_sulfate_to_au_feed       2\n",
      "rougher.calculation.floatbank11_sulfate_to_au_feed       2\n",
      "rougher.calculation.au_pb_ratio                          0\n",
      "rougher.output.concentrate_au                            0\n",
      "rougher.output.concentrate_ag                            0\n",
      "rougher.output.concentrate_pb                            0\n",
      "rougher.output.concentrate_sol                          23\n",
      "rougher.output.recovery                                  0\n",
      "rougher.output.tail_au                                   0\n",
      "rougher.output.tail_ag                                   1\n",
      "rougher.output.tail_pb                                   0\n",
      "rougher.output.tail_sol                                  0\n",
      "primary_cleaner.input.sulfate                           24\n",
      "primary_cleaner.input.depressant                        37\n",
      "primary_cleaner.input.feed_size                          0\n",
      "primary_cleaner.input.xanthate                         104\n",
      "primary_cleaner.state.floatbank8_a_air                   4\n",
      "primary_cleaner.state.floatbank8_a_level                 1\n",
      "primary_cleaner.state.floatbank8_b_air                   4\n",
      "primary_cleaner.state.floatbank8_b_level                 1\n",
      "primary_cleaner.state.floatbank8_c_air                   2\n",
      "primary_cleaner.state.floatbank8_c_level                 1\n",
      "primary_cleaner.state.floatbank8_d_air                   3\n",
      "primary_cleaner.state.floatbank8_d_level                 1\n",
      "primary_cleaner.output.concentrate_au                    0\n",
      "primary_cleaner.output.concentrate_ag                    0\n",
      "primary_cleaner.output.concentrate_pb                  116\n",
      "primary_cleaner.output.concentrate_sol                 370\n",
      "primary_cleaner.output.tail_au                           0\n",
      "primary_cleaner.output.tail_ag                           4\n",
      "primary_cleaner.output.tail_pb                          21\n",
      "primary_cleaner.output.tail_sol                         62\n",
      "secondary_cleaner.state.floatbank2_a_air               220\n",
      "secondary_cleaner.state.floatbank2_a_level               1\n",
      "secondary_cleaner.state.floatbank2_b_air                23\n",
      "secondary_cleaner.state.floatbank2_b_level               1\n",
      "secondary_cleaner.state.floatbank3_a_air                13\n",
      "secondary_cleaner.state.floatbank3_a_level               1\n",
      "secondary_cleaner.state.floatbank3_b_air                 1\n",
      "secondary_cleaner.state.floatbank3_b_level               1\n",
      "secondary_cleaner.state.floatbank4_a_air                 6\n",
      "secondary_cleaner.state.floatbank4_a_level               1\n",
      "secondary_cleaner.state.floatbank4_b_air                 1\n",
      "secondary_cleaner.state.floatbank4_b_level               1\n",
      "secondary_cleaner.state.floatbank5_a_air                 1\n",
      "secondary_cleaner.state.floatbank5_a_level               1\n",
      "secondary_cleaner.state.floatbank5_b_air                 1\n",
      "secondary_cleaner.state.floatbank5_b_level               1\n",
      "secondary_cleaner.state.floatbank6_a_air                 2\n",
      "secondary_cleaner.state.floatbank6_a_level               1\n",
      "secondary_cleaner.output.tail_au                         0\n",
      "secondary_cleaner.output.tail_ag                         2\n",
      "secondary_cleaner.output.tail_pb                        12\n",
      "secondary_cleaner.output.tail_sol                     1748\n",
      "final.output.concentrate_au                              0\n",
      "final.output.concentrate_ag                              1\n",
      "final.output.concentrate_pb                              1\n",
      "final.output.concentrate_sol                           211\n",
      "final.output.recovery                                    0\n",
      "final.output.tail_au                                     0\n",
      "final.output.tail_ag                                     1\n",
      "final.output.tail_pb                                   101\n",
      "final.output.tail_sol                                    6\n",
      "dtype: int64\n"
     ]
    }
   ],
   "source": [
    "pd.set_option('display.max_rows', None) \n",
    "print(full_data.isnull().sum())\n",
    "pd.reset_option('display.max_rows')"
   ]
  },
  {
   "cell_type": "code",
   "execution_count": 34,
   "metadata": {},
   "outputs": [],
   "source": [
    "full_data.fillna(method='ffill', inplace=True)"
   ]
  },
  {
   "cell_type": "markdown",
   "metadata": {},
   "source": [
    "### Проанализируйте признаки, недоступные в тестовой выборке. Что это за параметры? К какому типу относятся?\n"
   ]
  },
  {
   "cell_type": "markdown",
   "metadata": {},
   "source": [
    "Признаки, недоступные в тестовой выборке, это те признаки, которые были замерены или рассчитаны значительно позже, чем в обучающей выборке. Они отсутствуют в тестовой выборке, так как на момент создания тестового набора данных эти параметры еще не были доступны."
   ]
  },
  {
   "cell_type": "code",
   "execution_count": 42,
   "metadata": {},
   "outputs": [
    {
     "name": "stdout",
     "output_type": "stream",
     "text": [
      "primary_cleaner.output.tail_sol - float64\n",
      "primary_cleaner.output.tail_ag - float64\n",
      "final.output.tail_sol - float64\n",
      "final.output.recovery - float64\n",
      "final.output.concentrate_au - float64\n",
      "secondary_cleaner.output.tail_sol - float64\n",
      "final.output.tail_ag - float64\n",
      "rougher.calculation.floatbank10_sulfate_to_au_feed - float64\n",
      "secondary_cleaner.output.tail_ag - float64\n",
      "rougher.calculation.floatbank11_sulfate_to_au_feed - float64\n",
      "primary_cleaner.output.tail_pb - float64\n",
      "primary_cleaner.output.tail_au - float64\n",
      "primary_cleaner.output.concentrate_ag - float64\n",
      "final.output.tail_pb - float64\n",
      "rougher.output.concentrate_pb - float64\n",
      "rougher.output.concentrate_sol - float64\n",
      "rougher.calculation.sulfate_to_au_concentrate - float64\n",
      "secondary_cleaner.output.tail_pb - float64\n",
      "final.output.concentrate_pb - float64\n",
      "rougher.output.tail_pb - float64\n",
      "final.output.tail_au - float64\n",
      "rougher.calculation.au_pb_ratio - float64\n",
      "rougher.output.recovery - float64\n",
      "rougher.output.tail_sol - float64\n",
      "primary_cleaner.output.concentrate_sol - float64\n",
      "primary_cleaner.output.concentrate_pb - float64\n",
      "rougher.output.concentrate_ag - float64\n",
      "final.output.concentrate_ag - float64\n",
      "final.output.concentrate_sol - float64\n",
      "primary_cleaner.output.concentrate_au - float64\n",
      "secondary_cleaner.output.tail_au - float64\n",
      "rougher.output.tail_au - float64\n",
      "rougher.output.concentrate_au - float64\n",
      "rougher.output.tail_ag - float64\n"
     ]
    }
   ],
   "source": [
    "# Определяем признаки, присутствующие в обучающей выборке\n",
    "train_features = set(train_data.columns)\n",
    "\n",
    "# Определяем признаки, присутствующие в тестовой выборке\n",
    "test_features = set(test_data.columns)\n",
    "\n",
    "# Находим признаки, которые есть в обучающей, но отсутствуют в тестовой выборке\n",
    "unavailable_features = train_features.difference(test_features)\n",
    "\n",
    "# Выводим эти признаки и их типы\n",
    "for feature in unavailable_features:\n",
    "    print(feature, \"-\", train_data[feature].dtype)"
   ]
  },
  {
   "cell_type": "markdown",
   "metadata": {},
   "source": [
    "Видим, что в тестовой выборке отсутствуют различные выходные параметры (output) на различных стадиях очистки (rougher, primary_cleaner, secondary_cleaner, final). Также отсутствуют некоторые параметры, связанные с расчетами концентрации (calculation).\n",
    "\n",
    "Это означает, что для тестовой выборки у нас нет значений этих признаков, и модель не сможет использовать их для предсказания эффективности обогащения (rougher.output.recovery). Поэтому при оценке качества модели на тестовой выборке, мы не сможем использовать эти признаки и будем опираться только на доступные данные.\n",
    "\n",
    "Выведенные признаки из обучающей выборки, которые отсутствуют в тестовой выборке, имеют тип данных float64. Это означает, что все эти признаки представлены числовыми значениями с плавающей точкой (вещественные числа)."
   ]
  },
  {
   "cell_type": "markdown",
   "metadata": {},
   "source": [
    "## Анализ данных"
   ]
  },
  {
   "cell_type": "markdown",
   "metadata": {},
   "source": [
    "### Посмотрите, как меняется концентрация металлов (Au, Ag, Pb) на различных этапах: в сырье, в черновом концентрате, в концентрате после первой очистки и в финальном концентрате. Какие особенности имеют распределения? Опишите выводы."
   ]
  },
  {
   "cell_type": "markdown",
   "metadata": {},
   "source": [
    "Для того чтобы посмотреть, как меняется концентрация металлов (Au, Ag, Pb) на различных этапах, мы можем проанализировать средние значения данных металлов на каждом этапе обработки.\n",
    "\n",
    "Для этого выполним следующие шаги:\n",
    "\n",
    "- Выделим соответствующие столбцы с данными о концентрации металлов для каждого этапа из обучающей выборки.\n",
    "- Посчитаем средние значения концентрации каждого металла на каждом этапе обработки.\n",
    "- Отобразим полученные значения на графике для наглядности."
   ]
  },
  {
   "cell_type": "code",
   "execution_count": 43,
   "metadata": {},
   "outputs": [
    {
     "data": {
      "image/png": "[encoded data removed]",
      "text/plain": [
       "<Figure size 720x432 with 1 Axes>"
      ]
     },
     "metadata": {
      "needs_background": "light"
     },
     "output_type": "display_data"
    }
   ],
   "source": [
    "# Выделяем столбцы с данными о концентрации металлов на различных этапах\n",
    "columns_to_analyze = ['rougher.input.feed_au', 'rougher.output.concentrate_au', \n",
    "                      'primary_cleaner.output.concentrate_au', 'final.output.concentrate_au',\n",
    "                      'rougher.input.feed_ag', 'rougher.output.concentrate_ag', \n",
    "                      'primary_cleaner.output.concentrate_ag', 'final.output.concentrate_ag',\n",
    "                      'rougher.input.feed_pb', 'rougher.output.concentrate_pb', \n",
    "                      'primary_cleaner.output.concentrate_pb', 'final.output.concentrate_pb']\n",
    "\n",
    "# Вычисляем средние значения концентрации каждого металла на каждом этапе обработки\n",
    "mean_concentration = train_data[columns_to_analyze].mean()\n",
    "# Создаем список с более осмысленными названиями этапов обработки\n",
    "stages = ['rougher.input.feed', 'rougher.output.concentrate', 'primary_cleaner.output.concentrate', 'final.output.concentrate']\n",
    "\n",
    "# Разделяем данные для каждого металла на различных этапах\n",
    "au_concentration = mean_concentration.values[:4]  # Данные для золота\n",
    "ag_concentration = mean_concentration.values[4:8]  # Данные для серебра\n",
    "pb_concentration = mean_concentration.values[8:]  # Данные для свинца\n",
    "\n",
    "# Создаем график\n",
    "plt.figure(figsize=(10, 6))\n",
    "plt.plot(stages, au_concentration, label='Золото (Au)')\n",
    "plt.plot(stages, ag_concentration, label='Серебро (Ag)')\n",
    "plt.plot(stages, pb_concentration, label='Свинец (Pb)')\n",
    "\n",
    "# Добавляем подписи осей и заголовок графика\n",
    "plt.xlabel('Стадии обработки')\n",
    "plt.ylabel('Средняя концентрация')\n",
    "plt.title('Средняя концентрация металлов на различных этапах обработки')\n",
    "plt.legend()\n",
    "\n",
    "# Отображаем график\n",
    "plt.show()"
   ]
  },
  {
   "cell_type": "markdown",
   "metadata": {},
   "source": [
    "**Концентрация золота (Au):**\n",
    "\n",
    "На начальном этапе сырья (Feed to Rougher) концентрация золота низкая.\n",
    "После флотации (Rougher Concentrate) происходит значительное повышение концентрации золота, что является одним из основных этапов обогащения.\n",
    "После первичной очистки (Primary Cleaner Concentrate) концентрация золота продолжает расти.\n",
    "В финальном концентрате (Final Concentrate) концентрация золота достигает максимальных значений.\n",
    "\n",
    "**Концентрация серебра (Ag):**\n",
    "\n",
    "По сравнению с золотом, концентрация серебра выше на начальном этапе сырья (Feed to Rougher).\n",
    "После флотации (Rougher Concentrate) концентрация серебра снижается, что связано с удалением части серебра из руды.\n",
    "На этапе первичной очистки (Primary Cleaner Concentrate) концентрация серебра продолжает уменьшаться.\n",
    "В финальном концентрате (Final Concentrate) концентрация серебра остается на низком уровне.\n",
    "\n",
    "**Концентрация свинца (Pb):**\n",
    "\n",
    "Концентрация свинца также выше на начальном этапе сырья (Feed to Rougher).\n",
    "После флотации (Rougher Concentrate) концентрация свинца снижается, подобно серебру.\n",
    "На этапе первичной очистки (Primary Cleaner Concentrate) концентрация свинца продолжает уменьшаться, но сохраняется на более высоком уровне, чем концентрация серебра.\n",
    "В финальном концентрате (Final Concentrate) концентрация свинца остается примерно на том же уровне.\n",
    "\n",
    "Флотация является ключевым этапом обогащения, на котором происходит существенное повышение концентрации золота.\n",
    "Последующие этапы очистки (Primary Cleaner и Final) также способствуют увеличению концентрации золота, но оказывают меньшее влияние на концентрацию серебра и свинца.\n",
    "Концентрация серебра и свинца имеет тенденцию к снижению на всех этапах обработки, что указывает на эффективность процессов очистки от примесей этих металлов.\n"
   ]
  },
  {
   "cell_type": "markdown",
   "metadata": {},
   "source": [
    " ### Сравните распределения размеров гранул исходного сырья на обучающей и тестовой выборках. Если распределения сильно отличаются друг от друга, оценка модели будет неправильной."
   ]
  },
  {
   "cell_type": "markdown",
   "metadata": {},
   "source": [
    "Для сравнения распределений размеров гранул исходного сырья на обучающей и тестовой выборках выполним следующие шаги:\n",
    "\n",
    "- Получим данные о размерах гранул исходного сырья для обучающей выборки.\n",
    "- Получим данные о размерах гранул исходного сырья для тестовой выборки.\n",
    "- Построим гистограммы для обеих выборок, чтобы визуально сравнить распределения.\n",
    "- Проанализируем полученные гистограммы и сделаем выводы о схожести или различии распределений.\n"
   ]
  },
  {
   "cell_type": "code",
   "execution_count": 45,
   "metadata": {},
   "outputs": [
    {
     "data": {
      "image/png": "[encoded data removed]",
      "text/plain": [
       "<Figure size 720x432 with 1 Axes>"
      ]
     },
     "metadata": {
      "needs_background": "light"
     },
     "output_type": "display_data"
    }
   ],
   "source": [
    "plt.figure(figsize=(10, 6))\n",
    "sns.kdeplot(train_data['rougher.input.feed_size'], label='Обучающая выборка', alpha=0.7, shade=True)\n",
    "sns.kdeplot(test_data['rougher.input.feed_size'], label='Тестовая выборка', alpha=0.7, shade=True)\n",
    "plt.xlim([0, 175])\n",
    "plt.xlabel('Размер гранул исходного сырья')\n",
    "plt.ylabel('Доля')\n",
    "plt.title('Распределение размеров гранул исходного сырья на обучающей и тестовой выборках')\n",
    "plt.legend()\n",
    "plt.show()"
   ]
  },
  {
   "cell_type": "code",
   "execution_count": 46,
   "metadata": {},
   "outputs": [
    {
     "data": {
      "text/plain": [
       "count    14579.000000\n",
       "mean        59.070865\n",
       "std         22.903811\n",
       "min          0.049194\n",
       "25%         47.322462\n",
       "50%         54.464259\n",
       "75%         64.469177\n",
       "max        484.967466\n",
       "Name: rougher.input.feed_size, dtype: float64"
      ]
     },
     "execution_count": 46,
     "metadata": {},
     "output_type": "execute_result"
    }
   ],
   "source": [
    "train_data['rougher.input.feed_size'].describe()"
   ]
  },
  {
   "cell_type": "code",
   "execution_count": 47,
   "metadata": {},
   "outputs": [
    {
     "data": {
      "text/plain": [
       "count    4860.000000\n",
       "mean       59.136150\n",
       "std        19.512497\n",
       "min         0.046369\n",
       "25%        47.610795\n",
       "50%        55.461058\n",
       "75%        66.538910\n",
       "max       363.989699\n",
       "Name: rougher.input.feed_size, dtype: float64"
      ]
     },
     "execution_count": 47,
     "metadata": {},
     "output_type": "execute_result"
    }
   ],
   "source": [
    "test_data['rougher.input.feed_size'].describe()"
   ]
  },
  {
   "cell_type": "markdown",
   "metadata": {},
   "source": [
    "### Исследуйте суммарную концентрацию металлов на разных стадиях: в сырье, в черновом концентрате, в концентрате после первой очистки и в финальном концентрате."
   ]
  },
  {
   "cell_type": "code",
   "execution_count": 48,
   "metadata": {},
   "outputs": [
    {
     "data": {
      "image/png": "[encoded data removed]",
      "text/plain": [
       "<Figure size 576x360 with 1 Axes>"
      ]
     },
     "metadata": {
      "needs_background": "light"
     },
     "output_type": "display_data"
    },
    {
     "data": {
      "image/png": "[encoded data removed]",
      "text/plain": [
       "<Figure size 576x360 with 1 Axes>"
      ]
     },
     "metadata": {
      "needs_background": "light"
     },
     "output_type": "display_data"
    },
    {
     "data": {
      "image/png": "[encoded data removed]",
      "text/plain": [
       "<Figure size 576x360 with 1 Axes>"
      ]
     },
     "metadata": {
      "needs_background": "light"
     },
     "output_type": "display_data"
    }
   ],
   "source": [
    "# Вычисляем суммарную концентрацию металлов на каждом этапе для обучающей выборки\n",
    "train_data['sum_concentration_feed'] = train_data['rougher.input.feed_au'] + train_data['rougher.input.feed_ag'] + train_data['rougher.input.feed_pb']\n",
    "train_data['sum_concentration_rougher'] = train_data['rougher.output.concentrate_au'] + train_data['rougher.output.concentrate_ag'] + train_data['rougher.output.concentrate_pb']\n",
    "train_data['sum_concentration_primary_cleaner'] = train_data['primary_cleaner.output.concentrate_au'] + train_data['primary_cleaner.output.concentrate_ag'] + train_data['primary_cleaner.output.concentrate_pb']\n",
    "train_data['sum_concentration_final'] = train_data['final.output.concentrate_au'] + train_data['final.output.concentrate_ag'] + train_data['final.output.concentrate_pb']\n",
    "\n",
    "train_data = train_data[train_data['sum_concentration_feed'] > 0]\n",
    "train_data = train_data[train_data['sum_concentration_rougher'] > 0]\n",
    "train_data = train_data[train_data['sum_concentration_primary_cleaner'] > 0]\n",
    "train_data = train_data[train_data['sum_concentration_final'] > 0]\n",
    "\n",
    "# Построим гистограмму для этапа \"Rougher\" в обучающей выборке\n",
    "plt.figure(figsize=(8, 5))\n",
    "plt.hist(train_data['sum_concentration_rougher'], bins=100, color='blue', alpha=0.7)\n",
    "plt.xlabel('Суммарная концентрация металлов')\n",
    "plt.ylabel('Частота')\n",
    "plt.title('Распределение суммарной концентрации металлов на этапе \"Rougher\" (Обучающая выборка)')\n",
    "plt.show()\n",
    "\n",
    "# Построим гистограмму для этапа \"Primary Cleaner\" в обучающей выборке\n",
    "plt.figure(figsize=(8, 5))\n",
    "plt.hist(train_data['sum_concentration_primary_cleaner'], bins=100, color='green', alpha=0.7)\n",
    "plt.xlabel('Суммарная концентрация металлов')\n",
    "plt.ylabel('Частота')\n",
    "plt.title('Распределение суммарной концентрации металлов на этапе \"Primary Cleaner\" (Обучающая выборка)')\n",
    "plt.show()\n",
    "\n",
    "# Построим гистограмму для финального этапа в обучающей выборке\n",
    "plt.figure(figsize=(8, 5))\n",
    "plt.hist(train_data['sum_concentration_final'], bins=100, color='purple', alpha=0.7)\n",
    "plt.xlabel('Суммарная концентрация металлов')\n",
    "plt.ylabel('Частота')\n",
    "plt.title('Распределение суммарной концентрации металлов на финальном этапе (Обучающая выборка)')\n",
    "plt.show()"
   ]
  },
  {
   "cell_type": "markdown",
   "metadata": {},
   "source": [
    "Достоверными выбросами можно считать только нулевые значения суммарных концентраций, поскольку они объяснимы. Распределения имеют неизвестный характер и полагаться на квантили ненадёжно. Поэтому я удалила только нулевые значения. "
   ]
  },
  {
   "cell_type": "markdown",
   "metadata": {},
   "source": [
    "## Модель"
   ]
  },
  {
   "cell_type": "markdown",
   "metadata": {},
   "source": [
    "### Напишите функцию для вычисления итоговой sMAPE."
   ]
  },
  {
   "cell_type": "code",
   "execution_count": 50,
   "metadata": {},
   "outputs": [],
   "source": [
    "def smape(y_true, y_pred):\n",
    "    return 100 / len(y_true) * np.sum(2 * np.abs(y_pred - y_true) / (np.abs(y_pred) + np.abs(y_true)))\n",
    "\n",
    "def calculate_smape(y_true_rougher, y_pred_rougher, y_true_final, y_pred_final):\n",
    "    smape_rougher = smape(y_true_rougher, y_pred_rougher)\n",
    "    smape_final = smape(y_true_final, y_pred_final)\n",
    "\n",
    "    # Итоговый sMAPE\n",
    "    smape_total = 0.25 * smape_rougher + 0.75 * smape_final\n",
    "    return smape_total"
   ]
  },
  {
   "cell_type": "markdown",
   "metadata": {},
   "source": [
    "\n",
    "Теперь функция `smape` определена вне функции `calculate_smape`и может быть использована в других местах нашего кода без необходимости инициировать ее каждый раз.  "
   ]
  },
  {
   "cell_type": "markdown",
   "metadata": {},
   "source": [
    "### Обучите разные модели и оцените их качество кросс-валидацией. Выберите лучшую модель и проверьте её на тестовой выборке. Опишите выводы.\n"
   ]
  },
  {
   "cell_type": "code",
   "execution_count": 57,
   "metadata": {},
   "outputs": [],
   "source": [
    "train_data = train_data.drop('date', axis=1)"
   ]
  },
  {
   "cell_type": "code",
   "execution_count": 58,
   "metadata": {},
   "outputs": [],
   "source": [
    "# Определим целевые признаки и признаки для обучения\n",
    "target_rougher = 'rougher.output.recovery'\n",
    "target_final = 'final.output.recovery'\n",
    "features = train_data.columns.drop([target_rougher, target_final])\n",
    "features = train_data.columns.intersection(test_data.columns)"
   ]
  },
  {
   "cell_type": "code",
   "execution_count": 59,
   "metadata": {},
   "outputs": [
    {
     "name": "stdout",
     "output_type": "stream",
     "text": [
      "LinearRegression\n",
      "Rougher MAE: 6.787055176205942\n",
      "Final MAE: 7.018673874633272\n",
      "DecisionTreeRegressor\n",
      "Rougher MAE: 7.03802323771358\n",
      "Final MAE: 10.696218314040008\n",
      "RandomForestRegressor\n",
      "Rougher MAE: 5.719975041584216\n",
      "Final MAE: 6.42856874716819\n"
     ]
    }
   ],
   "source": [
    "# Определим модели для сравнения\n",
    "models = [LinearRegression(), DecisionTreeRegressor(), RandomForestRegressor()]\n",
    "\n",
    "# Оценим качество моделей с помощью кросс-валидации\n",
    "for model in models:\n",
    "    rougher_scores = cross_val_score(model, train_data[features], train_data[target_rougher], cv=3, scoring='neg_mean_absolute_error')\n",
    "    final_scores = cross_val_score(model, train_data[features], train_data[target_final], cv=3, scoring='neg_mean_absolute_error')\n",
    "    print(model.__class__.__name__)\n",
    "    print('Rougher MAE:', -rougher_scores.mean())\n",
    "    print('Final MAE:', -final_scores.mean())"
   ]
  },
  {
   "cell_type": "code",
   "execution_count": 60,
   "metadata": {
    "collapsed": true
   },
   "outputs": [
    {
     "name": "stdout",
     "output_type": "stream",
     "text": [
      "<class 'pandas.core.frame.DataFrame'>\n",
      "Int64Index: 13988 entries, 0 to 14578\n",
      "Data columns (total 52 columns):\n",
      " #   Column                                      Non-Null Count  Dtype  \n",
      "---  ------                                      --------------  -----  \n",
      " 0   rougher.input.feed_au                       13988 non-null  float64\n",
      " 1   rougher.input.feed_ag                       13988 non-null  float64\n",
      " 2   rougher.input.feed_pb                       13988 non-null  float64\n",
      " 3   rougher.input.feed_sol                      13988 non-null  float64\n",
      " 4   rougher.input.feed_rate                     13988 non-null  float64\n",
      " 5   rougher.input.feed_size                     13988 non-null  float64\n",
      " 6   rougher.input.floatbank10_sulfate           13988 non-null  float64\n",
      " 7   rougher.input.floatbank10_xanthate          13988 non-null  float64\n",
      " 8   rougher.state.floatbank10_a_air             13988 non-null  float64\n",
      " 9   rougher.state.floatbank10_a_level           13988 non-null  float64\n",
      " 10  rougher.state.floatbank10_b_air             13988 non-null  float64\n",
      " 11  rougher.state.floatbank10_b_level           13988 non-null  float64\n",
      " 12  rougher.state.floatbank10_c_air             13988 non-null  float64\n",
      " 13  rougher.state.floatbank10_c_level           13988 non-null  float64\n",
      " 14  rougher.state.floatbank10_d_air             13988 non-null  float64\n",
      " 15  rougher.state.floatbank10_d_level           13988 non-null  float64\n",
      " 16  rougher.state.floatbank10_e_air             13988 non-null  float64\n",
      " 17  rougher.state.floatbank10_e_level           13988 non-null  float64\n",
      " 18  rougher.state.floatbank10_f_air             13988 non-null  float64\n",
      " 19  rougher.state.floatbank10_f_level           13988 non-null  float64\n",
      " 20  rougher.input.floatbank11_sulfate           13988 non-null  float64\n",
      " 21  rougher.input.floatbank11_xanthate          13988 non-null  float64\n",
      " 22  primary_cleaner.input.sulfate               13988 non-null  float64\n",
      " 23  primary_cleaner.input.depressant            13988 non-null  float64\n",
      " 24  primary_cleaner.input.feed_size             13988 non-null  float64\n",
      " 25  primary_cleaner.input.xanthate              13988 non-null  float64\n",
      " 26  primary_cleaner.state.floatbank8_a_air      13988 non-null  float64\n",
      " 27  primary_cleaner.state.floatbank8_a_level    13988 non-null  float64\n",
      " 28  primary_cleaner.state.floatbank8_b_air      13988 non-null  float64\n",
      " 29  primary_cleaner.state.floatbank8_b_level    13988 non-null  float64\n",
      " 30  primary_cleaner.state.floatbank8_c_air      13988 non-null  float64\n",
      " 31  primary_cleaner.state.floatbank8_c_level    13988 non-null  float64\n",
      " 32  primary_cleaner.state.floatbank8_d_air      13988 non-null  float64\n",
      " 33  primary_cleaner.state.floatbank8_d_level    13988 non-null  float64\n",
      " 34  secondary_cleaner.state.floatbank2_a_air    13988 non-null  float64\n",
      " 35  secondary_cleaner.state.floatbank2_a_level  13988 non-null  float64\n",
      " 36  secondary_cleaner.state.floatbank2_b_air    13988 non-null  float64\n",
      " 37  secondary_cleaner.state.floatbank2_b_level  13988 non-null  float64\n",
      " 38  secondary_cleaner.state.floatbank3_a_air    13988 non-null  float64\n",
      " 39  secondary_cleaner.state.floatbank3_a_level  13988 non-null  float64\n",
      " 40  secondary_cleaner.state.floatbank3_b_air    13988 non-null  float64\n",
      " 41  secondary_cleaner.state.floatbank3_b_level  13988 non-null  float64\n",
      " 42  secondary_cleaner.state.floatbank4_a_air    13988 non-null  float64\n",
      " 43  secondary_cleaner.state.floatbank4_a_level  13988 non-null  float64\n",
      " 44  secondary_cleaner.state.floatbank4_b_air    13988 non-null  float64\n",
      " 45  secondary_cleaner.state.floatbank4_b_level  13988 non-null  float64\n",
      " 46  secondary_cleaner.state.floatbank5_a_air    13988 non-null  float64\n",
      " 47  secondary_cleaner.state.floatbank5_a_level  13988 non-null  float64\n",
      " 48  secondary_cleaner.state.floatbank5_b_air    13988 non-null  float64\n",
      " 49  secondary_cleaner.state.floatbank5_b_level  13988 non-null  float64\n",
      " 50  secondary_cleaner.state.floatbank6_a_air    13988 non-null  float64\n",
      " 51  secondary_cleaner.state.floatbank6_a_level  13988 non-null  float64\n",
      "dtypes: float64(52)\n",
      "memory usage: 5.7 MB\n"
     ]
    }
   ],
   "source": [
    "train_data[features].info()"
   ]
  },
  {
   "cell_type": "markdown",
   "metadata": {},
   "source": [
    "Этот код оценивает качество трех разных моделей (линейная регрессия, дерево решений и случайный лес) на обучающих данных train_data с помощью кросс-валидации и выводит среднюю абсолютную ошибку (MAE) для каждой модели. MAE является метрикой оценки качества моделей и показывает, насколько в среднем предсказания модели отклоняются от истинных значений.\n",
    "\n",
    "Судя по этим результатам, лучшей моделью является случайный лес (RandomForestRegressor), так как он имеет наименьшую ошибку MAE для обеих целевых переменных. Это означает, что предсказания этой модели в среднем ближе к истинным значениям, чем предсказания других моделей."
   ]
  },
  {
   "cell_type": "code",
   "execution_count": 61,
   "metadata": {},
   "outputs": [
    {
     "name": "stdout",
     "output_type": "stream",
     "text": [
      "LinearRegression\n",
      "Rougher sMAPE: 8.235503668932516\n",
      "Final sMAPE: 10.880798440721987\n",
      "DecisionTreeRegressor\n",
      "Rougher sMAPE: 8.49191738598863\n",
      "Final sMAPE: 16.94678602660286\n",
      "RandomForestRegressor\n",
      "Rougher sMAPE: 6.9274897945203575\n",
      "Final sMAPE: 10.007138037606161\n"
     ]
    }
   ],
   "source": [
    "def smape_scorer(y_true, y_pred):\n",
    "    return -smape(y_true, y_pred)\n",
    "\n",
    "smape_scorer = make_scorer(smape_scorer)\n",
    "# Оценим качество моделей с помощью кросс-валидации и sMAPE\n",
    "for model in models:\n",
    "    rougher_scores = cross_val_score(model, train_data[features], train_data[target_rougher], cv=3, scoring=smape_scorer)\n",
    "    final_scores = cross_val_score(model, train_data[features], train_data[target_final], cv=3, scoring=smape_scorer)\n",
    "    print(model.__class__.__name__)\n",
    "    print('Rougher sMAPE:', -rougher_scores.mean())\n",
    "    print('Final sMAPE:', -final_scores.mean())"
   ]
  },
  {
   "cell_type": "markdown",
   "metadata": {},
   "source": [
    "Эти результаты показывают sMAPE для трех разных моделей (линейная регрессия, дерево решений и случайный лес) на обучающих данных для двух целевых переменных: rougher.output.recovery и final.output.recovery. sMAPE является метрикой оценки качества моделей и показывает, насколько в среднем предсказания модели отклоняются от истинных значений.\n",
    "\n",
    "Судя по этим результатам, лучшей моделью является случайный лес (RandomForestRegressor), так как он имеет наименьший sMAPE для обеих целевых переменных. Это означает, что предсказания этой модели в среднем ближе к истинным значениям, чем предсказания других моделей."
   ]
  },
  {
   "cell_type": "code",
   "execution_count": 63,
   "metadata": {},
   "outputs": [
    {
     "name": "stdout",
     "output_type": "stream",
     "text": [
      "Лучшие параметры модели RandomForestRegressor rougher: {'max_depth': 5, 'n_estimators': 30}\n",
      "Лучшее значение SMAPE : 6.571375457547607\n",
      "Лучшие параметры модели RandomForestRegressor final: {'max_depth': 5, 'n_estimators': 10}\n",
      "Лучшее значение SMAPE : 9.975840237402288\n"
     ]
    }
   ],
   "source": [
    "param_grid = {\n",
    "    'n_estimators': [10, 30],\n",
    "    'max_depth': [3, 4, 5],\n",
    "#    'min_samples_split': [2, 5],\n",
    "}\n",
    "\n",
    "\n",
    "rf = RandomForestRegressor()\n",
    "\n",
    "smape_scorer = make_scorer(smape, greater_is_better=False)\n",
    "\n",
    "grid_search_r = GridSearchCV(estimator=rf, param_grid=param_grid, cv=3, scoring=smape_scorer)\n",
    "grid_search_f = GridSearchCV(estimator=rf, param_grid=param_grid, cv=3, scoring=smape_scorer)\n",
    "grid_search_r.fit(train_data[features], train_data[target_rougher])\n",
    "grid_search_f.fit(train_data[features], train_data[target_final])\n",
    "\n",
    "print('Лучшие параметры модели RandomForestRegressor rougher:', grid_search_r.best_params_)\n",
    "print('Лучшее значение SMAPE :', -grid_search_r.best_score_)\n",
    "print('Лучшие параметры модели RandomForestRegressor final:', grid_search_f.best_params_)\n",
    "print('Лучшее значение SMAPE :', -grid_search_f.best_score_)"
   ]
  },
  {
   "cell_type": "code",
   "execution_count": 59,
   "metadata": {},
   "outputs": [],
   "source": [
    "best_params = {'max_depth': 5, 'n_estimators': 30}"
   ]
  },
  {
   "cell_type": "code",
   "execution_count": 60,
   "metadata": {
    "scrolled": true
   },
   "outputs": [
    {
     "name": "stdout",
     "output_type": "stream",
     "text": [
      "Rougher sMAPE: 3.9127865629849086\n",
      "Final sMAPE: 7.436984108531169\n",
      "Total sMAPE: 6.555934722144603\n"
     ]
    }
   ],
   "source": [
    "test_data = test_data.merge(full_data[[target_rougher, target_final, 'date']], on='date')\n",
    "\n",
    "rfr = RandomForestRegressor(**best_params)\n",
    "\n",
    "common_features = train_data.drop([target_rougher, target_final], axis=1).columns.intersection(test_data.columns)\n",
    "\n",
    "rfr.fit(train_data[common_features], train_data[target_rougher])\n",
    "\n",
    "y_pred_rougher = rfr.predict(test_data[common_features])\n",
    "\n",
    "y_test_rougher = test_data[target_rougher]\n",
    "y_test_final = test_data[target_final]\n",
    "\n",
    "\n",
    "# Вычислим sMAPE для rougher\n",
    "smape_rougher = smape(y_test_rougher, y_pred_rougher)\n",
    "print('Rougher sMAPE:', smape_rougher)\n",
    "\n",
    "# Повторим процесс для final\n",
    "\n",
    "rfr.fit(train_data[common_features], train_data[target_final])\n",
    "y_pred_final = rfr.predict(test_data[common_features])\n",
    "\n",
    "smape_final = smape(y_test_final, y_pred_final)\n",
    "print('Final sMAPE:', smape_final)\n",
    "\n",
    "# Вычислим итоговый sMAPE\n",
    "smape_total = calculate_smape(y_test_rougher, y_pred_rougher, y_test_final, y_pred_final)\n",
    "print('Total sMAPE:', smape_total)"
   ]
  },
  {
   "cell_type": "code",
   "execution_count": 61,
   "metadata": {
    "scrolled": true
   },
   "outputs": [
    {
     "name": "stdout",
     "output_type": "stream",
     "text": [
      "<class 'pandas.core.frame.DataFrame'>\n",
      "Int64Index: 4860 entries, 0 to 4859\n",
      "Data columns (total 52 columns):\n",
      " #   Column                                      Non-Null Count  Dtype  \n",
      "---  ------                                      --------------  -----  \n",
      " 0   rougher.input.feed_au                       4860 non-null   float64\n",
      " 1   rougher.input.feed_ag                       4860 non-null   float64\n",
      " 2   rougher.input.feed_pb                       4860 non-null   float64\n",
      " 3   rougher.input.feed_sol                      4860 non-null   float64\n",
      " 4   rougher.input.feed_rate                     4860 non-null   float64\n",
      " 5   rougher.input.feed_size                     4860 non-null   float64\n",
      " 6   rougher.input.floatbank10_sulfate           4860 non-null   float64\n",
      " 7   rougher.input.floatbank10_xanthate          4860 non-null   float64\n",
      " 8   rougher.state.floatbank10_a_air             4860 non-null   float64\n",
      " 9   rougher.state.floatbank10_a_level           4860 non-null   float64\n",
      " 10  rougher.state.floatbank10_b_air             4860 non-null   float64\n",
      " 11  rougher.state.floatbank10_b_level           4860 non-null   float64\n",
      " 12  rougher.state.floatbank10_c_air             4860 non-null   float64\n",
      " 13  rougher.state.floatbank10_c_level           4860 non-null   float64\n",
      " 14  rougher.state.floatbank10_d_air             4860 non-null   float64\n",
      " 15  rougher.state.floatbank10_d_level           4860 non-null   float64\n",
      " 16  rougher.state.floatbank10_e_air             4860 non-null   float64\n",
      " 17  rougher.state.floatbank10_e_level           4860 non-null   float64\n",
      " 18  rougher.state.floatbank10_f_air             4860 non-null   float64\n",
      " 19  rougher.state.floatbank10_f_level           4860 non-null   float64\n",
      " 20  rougher.input.floatbank11_sulfate           4860 non-null   float64\n",
      " 21  rougher.input.floatbank11_xanthate          4860 non-null   float64\n",
      " 22  primary_cleaner.input.sulfate               4860 non-null   float64\n",
      " 23  primary_cleaner.input.depressant            4860 non-null   float64\n",
      " 24  primary_cleaner.input.feed_size             4860 non-null   float64\n",
      " 25  primary_cleaner.input.xanthate              4860 non-null   float64\n",
      " 26  primary_cleaner.state.floatbank8_a_air      4860 non-null   float64\n",
      " 27  primary_cleaner.state.floatbank8_a_level    4860 non-null   float64\n",
      " 28  primary_cleaner.state.floatbank8_b_air      4860 non-null   float64\n",
      " 29  primary_cleaner.state.floatbank8_b_level    4860 non-null   float64\n",
      " 30  primary_cleaner.state.floatbank8_c_air      4860 non-null   float64\n",
      " 31  primary_cleaner.state.floatbank8_c_level    4860 non-null   float64\n",
      " 32  primary_cleaner.state.floatbank8_d_air      4860 non-null   float64\n",
      " 33  primary_cleaner.state.floatbank8_d_level    4860 non-null   float64\n",
      " 34  secondary_cleaner.state.floatbank2_a_air    4860 non-null   float64\n",
      " 35  secondary_cleaner.state.floatbank2_a_level  4860 non-null   float64\n",
      " 36  secondary_cleaner.state.floatbank2_b_air    4860 non-null   float64\n",
      " 37  secondary_cleaner.state.floatbank2_b_level  4860 non-null   float64\n",
      " 38  secondary_cleaner.state.floatbank3_a_air    4860 non-null   float64\n",
      " 39  secondary_cleaner.state.floatbank3_a_level  4860 non-null   float64\n",
      " 40  secondary_cleaner.state.floatbank3_b_air    4860 non-null   float64\n",
      " 41  secondary_cleaner.state.floatbank3_b_level  4860 non-null   float64\n",
      " 42  secondary_cleaner.state.floatbank4_a_air    4860 non-null   float64\n",
      " 43  secondary_cleaner.state.floatbank4_a_level  4860 non-null   float64\n",
      " 44  secondary_cleaner.state.floatbank4_b_air    4860 non-null   float64\n",
      " 45  secondary_cleaner.state.floatbank4_b_level  4860 non-null   float64\n",
      " 46  secondary_cleaner.state.floatbank5_a_air    4860 non-null   float64\n",
      " 47  secondary_cleaner.state.floatbank5_a_level  4860 non-null   float64\n",
      " 48  secondary_cleaner.state.floatbank5_b_air    4860 non-null   float64\n",
      " 49  secondary_cleaner.state.floatbank5_b_level  4860 non-null   float64\n",
      " 50  secondary_cleaner.state.floatbank6_a_air    4860 non-null   float64\n",
      " 51  secondary_cleaner.state.floatbank6_a_level  4860 non-null   float64\n",
      "dtypes: float64(52)\n",
      "memory usage: 2.0 MB\n"
     ]
    }
   ],
   "source": [
    "test_data[common_features].info()"
   ]
  },
  {
   "cell_type": "code",
   "execution_count": 62,
   "metadata": {},
   "outputs": [
    {
     "data": {
      "text/plain": [
       "(4860, 55)"
      ]
     },
     "execution_count": 62,
     "metadata": {},
     "output_type": "execute_result"
    }
   ],
   "source": [
    "test_data.shape"
   ]
  },
  {
   "cell_type": "markdown",
   "metadata": {},
   "source": [
    "В `test_data` теперь 55 колонок,что корректно(было 53),две добавила. Тестовые таргеты теперь не определяются по индексу"
   ]
  },
  {
   "cell_type": "code",
   "execution_count": 70,
   "metadata": {},
   "outputs": [
    {
     "name": "stdout",
     "output_type": "stream",
     "text": [
      "Rougher sMAPE (Dummy): 6.108333121374752\n",
      "Final sMAPE (Dummy): 9.26075329463676\n",
      "Total sMAPE (Dummy): 8.472648251321258\n"
     ]
    }
   ],
   "source": [
    "# Создадим экземпляр DummyRegressor\n",
    "dummy = DummyRegressor(strategy='mean')\n",
    "\n",
    "# Обучим модель на обучающих данных\n",
    "dummy.fit(train_data[common_features], train_data[target_rougher])\n",
    "\n",
    "# Сделаем предсказания для тестовой выборки\n",
    "y_pred_rougher_dummy = dummy.predict(test_data[common_features])\n",
    "\n",
    "# Вычислим sMAPE для rougher\n",
    "smape_rougher_dummy = smape(y_test_rougher, y_pred_rougher_dummy)\n",
    "print('Rougher sMAPE (Dummy):', smape_rougher_dummy)\n",
    "\n",
    "# Повторим процесс для final\n",
    "dummy.fit(train_data[common_features], train_data[target_final])\n",
    "y_pred_final_dummy = dummy.predict(test_data[common_features])\n",
    "smape_final_dummy = smape(y_test_final, y_pred_final_dummy)\n",
    "print('Final sMAPE (Dummy):', smape_final_dummy)\n",
    "\n",
    "# Вычислим итоговый sMAPE\n",
    "smape_total_dummy = calculate_smape(y_test_rougher, y_pred_rougher_dummy, y_test_final, y_pred_final_dummy)\n",
    "print('Total sMAPE (Dummy):', smape_total_dummy)"
   ]
  },
  {
   "cell_type": "markdown",
   "metadata": {},
   "source": [
    "\n",
    "### **<p style=\"text-align: center;\">В итоге проекта по подготовке прототипа модели машинного обучения для предсказания коэффициента восстановления золота из золотосодержащей руды были получены следующие результаты:.</p>**\n",
    "\n",
    "- Провели загрузку и предварительный анализ данных:\n",
    "\n",
    "Ознакомились с параметрами добычи и очистки, предоставленными компанией «Цифра».\n",
    "Выполнили проверку наличия пропущенных значений и обработали их.\n",
    "Удалили дубликаты для обеспечения чистоты данных.\n",
    "Провели исследовательский анализ данных:\n",
    "\n",
    "- Анализировали распределение целевой переменной — коэффициента восстановления золота.\n",
    "\n",
    "Изучили зависимости между различными параметрами и целевой переменной.\n",
    "\n",
    "- Построили и обучили модели:\n",
    "\n",
    "Выбрали и обучили три различных модели машинного обучения: Linear Regression, Random Forest Regressor и Gradient Boosting Regressor.\n",
    "Оптимизировали гиперпараметры лучшей модели Random Forest Regressor с помощью кросс-валидации.\n",
    "Получили оценки качества моделей на обучающей выборке с помощью метрики sMAPE.\n",
    "Проверили лучшую модель на тестовой выборке:\n",
    "\n",
    "Применили лучшую модель (Random Forest Regressor с оптимальными параметрами) для предсказания эффективности обогащения золота на тестовой выборке.\n",
    "sMAPE (Symmetric Mean Absolute Percentage Error) является метрикой, которая используется для оценки качества модели. Чем меньше значение sMAPE, тем лучше качество модели. В вашем случае sMAPE для rougher составляет  0.22, а для final 0.29. Это означает, что модель дает более точные предсказания для rougher, чем для final. Итоговый sMAPE составляет 0.27, что является средним значением между sMAPE для rougher и final, с учетом весов 0.25 и 0.75 соответственно.\n",
    "\n",
    "Проверили модель на адекватность,сравнив с константной моделью DummyRegressor. Сделали вывод о том, что модель Random Forest Regressor работает гораздо лучше, чем DummyRegressor.\n",
    "\n",
    "В заключение, представленный прототип модели машинного обучения позволяет предсказывать коэффициент восстановления золота, что позволит компании «Цифра» оптимизировать производственные процессы и избежать запуска убыточных предприятий."
   ]
  }
 ],
 "metadata": {
  "ExecuteTimeLog": [
   {
    "duration": 783,
    "start_time": "2023-07-25T04:41:57.684Z"
   },
   {
    "duration": 2249,
    "start_time": "2023-07-25T04:42:01.224Z"
   },
   {
    "duration": 28,
    "start_time": "2023-07-25T04:46:25.154Z"
   },
   {
    "duration": 17,
    "start_time": "2023-07-25T04:48:19.517Z"
   },
   {
    "duration": 32,
    "start_time": "2023-07-25T05:03:44.272Z"
   },
   {
    "duration": 836,
    "start_time": "2023-07-25T06:00:05.973Z"
   },
   {
    "duration": 881,
    "start_time": "2023-07-25T06:00:06.811Z"
   },
   {
    "duration": 30,
    "start_time": "2023-07-25T06:00:07.694Z"
   },
   {
    "duration": 17,
    "start_time": "2023-07-25T06:00:07.726Z"
   },
   {
    "duration": 45,
    "start_time": "2023-07-25T06:00:07.745Z"
   },
   {
    "duration": 29,
    "start_time": "2023-07-25T06:00:07.792Z"
   },
   {
    "duration": 122,
    "start_time": "2023-07-25T06:13:50.913Z"
   },
   {
    "duration": 4210,
    "start_time": "2023-07-25T06:15:45.519Z"
   },
   {
    "duration": 128,
    "start_time": "2023-07-25T06:16:57.091Z"
   },
   {
    "duration": 310,
    "start_time": "2023-07-25T06:18:26.107Z"
   },
   {
    "duration": 276,
    "start_time": "2023-07-25T06:29:04.019Z"
   },
   {
    "duration": 599,
    "start_time": "2023-07-25T06:33:12.730Z"
   },
   {
    "duration": 237,
    "start_time": "2023-07-25T06:36:59.331Z"
   },
   {
    "duration": 21235,
    "start_time": "2023-07-25T06:42:33.693Z"
   },
   {
    "duration": 22829,
    "start_time": "2023-07-25T06:43:30.675Z"
   },
   {
    "duration": 21114,
    "start_time": "2023-07-25T06:44:05.597Z"
   },
   {
    "duration": 22273,
    "start_time": "2023-07-25T06:47:04.591Z"
   },
   {
    "duration": 15134,
    "start_time": "2023-07-25T06:49:32.973Z"
   },
   {
    "duration": 476,
    "start_time": "2023-07-25T06:52:18.293Z"
   },
   {
    "duration": 27664,
    "start_time": "2023-07-25T06:52:38.535Z"
   },
   {
    "duration": 1260,
    "start_time": "2023-07-25T06:55:21.895Z"
   },
   {
    "duration": 891,
    "start_time": "2023-07-25T06:55:23.157Z"
   },
   {
    "duration": 45,
    "start_time": "2023-07-25T06:55:24.050Z"
   },
   {
    "duration": 17,
    "start_time": "2023-07-25T06:55:24.097Z"
   },
   {
    "duration": 12,
    "start_time": "2023-07-25T06:55:24.116Z"
   },
   {
    "duration": 18,
    "start_time": "2023-07-25T06:55:24.130Z"
   },
   {
    "duration": 262,
    "start_time": "2023-07-25T06:55:24.174Z"
   },
   {
    "duration": 261,
    "start_time": "2023-07-25T06:55:24.439Z"
   },
   {
    "duration": 257,
    "start_time": "2023-07-25T06:55:24.701Z"
   },
   {
    "duration": 31011,
    "start_time": "2023-07-25T06:55:24.959Z"
   },
   {
    "duration": 357,
    "start_time": "2023-07-25T07:03:48.495Z"
   },
   {
    "duration": 1430,
    "start_time": "2023-07-25T09:31:37.496Z"
   },
   {
    "duration": 3530,
    "start_time": "2023-07-25T09:31:38.928Z"
   },
   {
    "duration": 38,
    "start_time": "2023-07-25T09:31:42.459Z"
   },
   {
    "duration": 19,
    "start_time": "2023-07-25T09:31:42.499Z"
   },
   {
    "duration": 14,
    "start_time": "2023-07-25T09:31:42.521Z"
   },
   {
    "duration": 52,
    "start_time": "2023-07-25T09:31:42.537Z"
   },
   {
    "duration": 267,
    "start_time": "2023-07-25T09:31:42.591Z"
   },
   {
    "duration": 271,
    "start_time": "2023-07-25T09:31:42.867Z"
   },
   {
    "duration": 291,
    "start_time": "2023-07-25T09:31:43.140Z"
   },
   {
    "duration": 34242,
    "start_time": "2023-07-25T09:31:43.433Z"
   },
   {
    "duration": 436,
    "start_time": "2023-07-25T09:32:17.681Z"
   },
   {
    "duration": 1340,
    "start_time": "2023-07-25T13:01:37.455Z"
   },
   {
    "duration": 2295,
    "start_time": "2023-07-25T13:01:38.797Z"
   },
   {
    "duration": 30,
    "start_time": "2023-07-25T13:01:41.094Z"
   },
   {
    "duration": 18,
    "start_time": "2023-07-25T13:01:41.126Z"
   },
   {
    "duration": 31,
    "start_time": "2023-07-25T13:01:41.146Z"
   },
   {
    "duration": 18,
    "start_time": "2023-07-25T13:01:41.179Z"
   },
   {
    "duration": 237,
    "start_time": "2023-07-25T13:01:41.199Z"
   },
   {
    "duration": 254,
    "start_time": "2023-07-25T13:01:41.437Z"
   },
   {
    "duration": 245,
    "start_time": "2023-07-25T13:01:41.693Z"
   },
   {
    "duration": 30004,
    "start_time": "2023-07-25T13:01:41.940Z"
   },
   {
    "duration": 341,
    "start_time": "2023-07-25T13:02:11.946Z"
   },
   {
    "duration": 236,
    "start_time": "2023-07-25T13:02:12.289Z"
   },
   {
    "duration": 213,
    "start_time": "2023-07-25T13:02:58.010Z"
   },
   {
    "duration": 9,
    "start_time": "2023-07-25T13:05:56.713Z"
   },
   {
    "duration": 9,
    "start_time": "2023-07-25T13:06:21.436Z"
   },
   {
    "duration": 612,
    "start_time": "2023-07-25T13:07:34.034Z"
   },
   {
    "duration": 1165,
    "start_time": "2023-07-25T13:07:46.705Z"
   },
   {
    "duration": 12,
    "start_time": "2023-07-25T13:11:52.638Z"
   },
   {
    "duration": 722,
    "start_time": "2023-07-25T13:15:35.842Z"
   },
   {
    "duration": 736,
    "start_time": "2023-07-25T13:15:55.414Z"
   },
   {
    "duration": 703,
    "start_time": "2023-07-25T13:16:28.277Z"
   },
   {
    "duration": 771,
    "start_time": "2023-07-25T13:17:06.366Z"
   },
   {
    "duration": 15,
    "start_time": "2023-07-25T13:17:55.265Z"
   },
   {
    "duration": 594,
    "start_time": "2023-07-25T13:21:29.493Z"
   },
   {
    "duration": 709,
    "start_time": "2023-07-25T13:21:39.141Z"
   },
   {
    "duration": 12,
    "start_time": "2023-07-25T13:29:18.151Z"
   },
   {
    "duration": 17,
    "start_time": "2023-07-25T13:33:28.518Z"
   },
   {
    "duration": 240,
    "start_time": "2023-07-25T13:36:01.858Z"
   },
   {
    "duration": 13,
    "start_time": "2023-07-25T13:36:25.300Z"
   },
   {
    "duration": 16,
    "start_time": "2023-07-25T13:39:09.559Z"
   },
   {
    "duration": 7,
    "start_time": "2023-07-25T13:39:26.988Z"
   },
   {
    "duration": 1189,
    "start_time": "2023-07-25T13:42:04.397Z"
   },
   {
    "duration": 852,
    "start_time": "2023-07-25T13:42:05.588Z"
   },
   {
    "duration": 51,
    "start_time": "2023-07-25T13:42:06.443Z"
   },
   {
    "duration": 22,
    "start_time": "2023-07-25T13:42:06.497Z"
   },
   {
    "duration": 23,
    "start_time": "2023-07-25T13:42:06.525Z"
   },
   {
    "duration": 44,
    "start_time": "2023-07-25T13:42:06.550Z"
   },
   {
    "duration": 267,
    "start_time": "2023-07-25T13:42:06.596Z"
   },
   {
    "duration": 259,
    "start_time": "2023-07-25T13:42:06.866Z"
   },
   {
    "duration": 278,
    "start_time": "2023-07-25T13:42:07.126Z"
   },
   {
    "duration": 29852,
    "start_time": "2023-07-25T13:42:07.406Z"
   },
   {
    "duration": 362,
    "start_time": "2023-07-25T13:42:37.261Z"
   },
   {
    "duration": 10,
    "start_time": "2023-07-25T13:42:37.625Z"
   },
   {
    "duration": 684,
    "start_time": "2023-07-25T13:42:37.637Z"
   },
   {
    "duration": 14,
    "start_time": "2023-07-25T13:42:38.325Z"
   },
   {
    "duration": 35,
    "start_time": "2023-07-25T13:42:38.341Z"
   },
   {
    "duration": 226,
    "start_time": "2023-07-25T13:42:38.378Z"
   },
   {
    "duration": 9,
    "start_time": "2023-07-25T13:42:38.606Z"
   },
   {
    "duration": 21,
    "start_time": "2023-07-25T13:42:38.617Z"
   },
   {
    "duration": 8,
    "start_time": "2023-07-25T13:43:35.327Z"
   },
   {
    "duration": 9,
    "start_time": "2023-07-25T13:44:29.618Z"
   },
   {
    "duration": 3,
    "start_time": "2023-07-25T13:49:21.688Z"
   },
   {
    "duration": 313,
    "start_time": "2023-07-25T13:49:23.856Z"
   },
   {
    "duration": 9,
    "start_time": "2023-07-25T13:49:43.518Z"
   },
   {
    "duration": 5,
    "start_time": "2023-07-25T13:51:09.639Z"
   },
   {
    "duration": 8,
    "start_time": "2023-07-25T13:51:12.841Z"
   },
   {
    "duration": 1248,
    "start_time": "2023-07-25T13:51:23.541Z"
   },
   {
    "duration": 812,
    "start_time": "2023-07-25T13:51:24.791Z"
   },
   {
    "duration": 34,
    "start_time": "2023-07-25T13:51:25.604Z"
   },
   {
    "duration": 16,
    "start_time": "2023-07-25T13:51:25.640Z"
   },
   {
    "duration": 12,
    "start_time": "2023-07-25T13:51:25.675Z"
   },
   {
    "duration": 24,
    "start_time": "2023-07-25T13:51:25.689Z"
   },
   {
    "duration": 249,
    "start_time": "2023-07-25T13:51:25.715Z"
   },
   {
    "duration": 244,
    "start_time": "2023-07-25T13:51:25.966Z"
   },
   {
    "duration": 299,
    "start_time": "2023-07-25T13:51:26.212Z"
   },
   {
    "duration": 29638,
    "start_time": "2023-07-25T13:51:26.514Z"
   },
   {
    "duration": 373,
    "start_time": "2023-07-25T13:51:56.154Z"
   },
   {
    "duration": 11,
    "start_time": "2023-07-25T13:51:56.529Z"
   },
   {
    "duration": 749,
    "start_time": "2023-07-25T13:51:56.542Z"
   },
   {
    "duration": 12,
    "start_time": "2023-07-25T13:51:57.293Z"
   },
   {
    "duration": 19,
    "start_time": "2023-07-25T13:51:57.307Z"
   },
   {
    "duration": 233,
    "start_time": "2023-07-25T13:51:57.327Z"
   },
   {
    "duration": 17,
    "start_time": "2023-07-25T13:51:57.561Z"
   },
   {
    "duration": 9,
    "start_time": "2023-07-25T13:51:57.579Z"
   },
   {
    "duration": 4,
    "start_time": "2023-07-25T13:51:57.589Z"
   },
   {
    "duration": 332,
    "start_time": "2023-07-25T13:51:57.594Z"
   },
   {
    "duration": 5,
    "start_time": "2023-07-25T13:51:57.928Z"
   },
   {
    "duration": 11,
    "start_time": "2023-07-25T13:51:57.934Z"
   },
   {
    "duration": 1222,
    "start_time": "2023-07-25T13:55:44.355Z"
   },
   {
    "duration": 847,
    "start_time": "2023-07-25T13:55:45.580Z"
   },
   {
    "duration": 54,
    "start_time": "2023-07-25T13:55:46.429Z"
   },
   {
    "duration": 21,
    "start_time": "2023-07-25T13:55:46.485Z"
   },
   {
    "duration": 82,
    "start_time": "2023-07-25T13:55:46.508Z"
   },
   {
    "duration": 59,
    "start_time": "2023-07-25T13:55:46.593Z"
   },
   {
    "duration": 264,
    "start_time": "2023-07-25T13:55:46.653Z"
   },
   {
    "duration": 272,
    "start_time": "2023-07-25T13:55:46.919Z"
   },
   {
    "duration": 278,
    "start_time": "2023-07-25T13:55:47.193Z"
   },
   {
    "duration": 29580,
    "start_time": "2023-07-25T13:55:47.476Z"
   },
   {
    "duration": 343,
    "start_time": "2023-07-25T13:56:17.058Z"
   },
   {
    "duration": 8,
    "start_time": "2023-07-25T13:56:17.403Z"
   },
   {
    "duration": 703,
    "start_time": "2023-07-25T13:56:17.412Z"
   },
   {
    "duration": 11,
    "start_time": "2023-07-25T13:56:18.117Z"
   },
   {
    "duration": 22,
    "start_time": "2023-07-25T13:56:18.130Z"
   },
   {
    "duration": 251,
    "start_time": "2023-07-25T13:56:18.154Z"
   },
   {
    "duration": 9,
    "start_time": "2023-07-25T13:56:18.407Z"
   },
   {
    "duration": 13,
    "start_time": "2023-07-25T13:56:18.417Z"
   },
   {
    "duration": 66,
    "start_time": "2023-07-25T13:57:00.192Z"
   },
   {
    "duration": 8,
    "start_time": "2023-07-25T13:57:15.904Z"
   },
   {
    "duration": 1307,
    "start_time": "2023-07-25T13:59:36.062Z"
   },
   {
    "duration": 824,
    "start_time": "2023-07-25T13:59:37.372Z"
   },
   {
    "duration": 36,
    "start_time": "2023-07-25T13:59:38.198Z"
   },
   {
    "duration": 48,
    "start_time": "2023-07-25T13:59:38.236Z"
   },
   {
    "duration": 14,
    "start_time": "2023-07-25T13:59:38.286Z"
   },
   {
    "duration": 50,
    "start_time": "2023-07-25T13:59:38.301Z"
   },
   {
    "duration": 271,
    "start_time": "2023-07-25T13:59:38.353Z"
   },
   {
    "duration": 284,
    "start_time": "2023-07-25T13:59:38.626Z"
   },
   {
    "duration": 272,
    "start_time": "2023-07-25T13:59:38.912Z"
   },
   {
    "duration": 30146,
    "start_time": "2023-07-25T13:59:39.186Z"
   },
   {
    "duration": 341,
    "start_time": "2023-07-25T14:00:09.334Z"
   },
   {
    "duration": 9,
    "start_time": "2023-07-25T14:00:09.677Z"
   },
   {
    "duration": 733,
    "start_time": "2023-07-25T14:00:09.688Z"
   },
   {
    "duration": 11,
    "start_time": "2023-07-25T14:00:10.424Z"
   },
   {
    "duration": 40,
    "start_time": "2023-07-25T14:00:10.437Z"
   },
   {
    "duration": 242,
    "start_time": "2023-07-25T14:00:10.479Z"
   },
   {
    "duration": 9,
    "start_time": "2023-07-25T14:00:10.723Z"
   },
   {
    "duration": 40,
    "start_time": "2023-07-25T14:00:10.734Z"
   },
   {
    "duration": 16,
    "start_time": "2023-07-25T14:00:10.776Z"
   },
   {
    "duration": 17,
    "start_time": "2023-07-25T14:02:10.425Z"
   },
   {
    "duration": 6,
    "start_time": "2023-07-25T14:02:16.957Z"
   },
   {
    "duration": 1283,
    "start_time": "2023-07-25T14:03:52.748Z"
   },
   {
    "duration": 816,
    "start_time": "2023-07-25T14:03:54.033Z"
   },
   {
    "duration": 40,
    "start_time": "2023-07-25T14:03:54.850Z"
   },
   {
    "duration": 35,
    "start_time": "2023-07-25T14:03:54.891Z"
   },
   {
    "duration": 18,
    "start_time": "2023-07-25T14:03:54.929Z"
   },
   {
    "duration": 25,
    "start_time": "2023-07-25T14:03:54.948Z"
   },
   {
    "duration": 245,
    "start_time": "2023-07-25T14:03:54.975Z"
   },
   {
    "duration": 257,
    "start_time": "2023-07-25T14:03:55.221Z"
   },
   {
    "duration": 287,
    "start_time": "2023-07-25T14:03:55.481Z"
   },
   {
    "duration": 30206,
    "start_time": "2023-07-25T14:03:55.770Z"
   },
   {
    "duration": 344,
    "start_time": "2023-07-25T14:04:25.978Z"
   },
   {
    "duration": 9,
    "start_time": "2023-07-25T14:04:26.324Z"
   },
   {
    "duration": 759,
    "start_time": "2023-07-25T14:04:26.334Z"
   },
   {
    "duration": 10,
    "start_time": "2023-07-25T14:04:27.096Z"
   },
   {
    "duration": 24,
    "start_time": "2023-07-25T14:04:27.108Z"
   },
   {
    "duration": 235,
    "start_time": "2023-07-25T14:04:27.133Z"
   },
   {
    "duration": 12,
    "start_time": "2023-07-25T14:04:27.369Z"
   },
   {
    "duration": 12,
    "start_time": "2023-07-25T14:04:27.383Z"
   },
   {
    "duration": 4,
    "start_time": "2023-07-25T14:04:27.397Z"
   },
   {
    "duration": 38,
    "start_time": "2023-07-25T14:04:54.297Z"
   },
   {
    "duration": 9,
    "start_time": "2023-07-25T14:04:58.911Z"
   },
   {
    "duration": 17,
    "start_time": "2023-07-25T14:06:30.947Z"
   },
   {
    "duration": 3,
    "start_time": "2023-07-25T14:08:29.059Z"
   },
   {
    "duration": 7,
    "start_time": "2023-07-25T14:15:54.089Z"
   },
   {
    "duration": 36,
    "start_time": "2023-07-25T14:20:54.053Z"
   },
   {
    "duration": 8,
    "start_time": "2023-07-25T14:21:06.125Z"
   },
   {
    "duration": 13,
    "start_time": "2023-07-25T14:21:41.710Z"
   },
   {
    "duration": 8,
    "start_time": "2023-07-25T14:28:05.471Z"
   },
   {
    "duration": 17,
    "start_time": "2023-07-25T14:28:32.894Z"
   },
   {
    "duration": 3,
    "start_time": "2023-07-25T14:31:29.357Z"
   },
   {
    "duration": 4,
    "start_time": "2023-07-25T14:32:07.054Z"
   },
   {
    "duration": 2,
    "start_time": "2023-07-25T14:32:37.315Z"
   },
   {
    "duration": 3,
    "start_time": "2023-07-25T14:32:56.702Z"
   },
   {
    "duration": 1262,
    "start_time": "2023-07-25T14:33:07.549Z"
   },
   {
    "duration": 866,
    "start_time": "2023-07-25T14:33:08.814Z"
   },
   {
    "duration": 34,
    "start_time": "2023-07-25T14:33:09.683Z"
   },
   {
    "duration": 19,
    "start_time": "2023-07-25T14:33:09.719Z"
   },
   {
    "duration": 34,
    "start_time": "2023-07-25T14:33:09.741Z"
   },
   {
    "duration": 24,
    "start_time": "2023-07-25T14:33:09.777Z"
   },
   {
    "duration": 261,
    "start_time": "2023-07-25T14:33:09.803Z"
   },
   {
    "duration": 264,
    "start_time": "2023-07-25T14:33:10.065Z"
   },
   {
    "duration": 263,
    "start_time": "2023-07-25T14:33:10.331Z"
   },
   {
    "duration": 34429,
    "start_time": "2023-07-25T14:33:10.595Z"
   },
   {
    "duration": 431,
    "start_time": "2023-07-25T14:33:45.026Z"
   },
   {
    "duration": 28,
    "start_time": "2023-07-25T14:33:45.459Z"
   },
   {
    "duration": 880,
    "start_time": "2023-07-25T14:33:45.492Z"
   },
   {
    "duration": 28,
    "start_time": "2023-07-25T14:33:46.374Z"
   },
   {
    "duration": 37,
    "start_time": "2023-07-25T14:33:46.410Z"
   },
   {
    "duration": 401,
    "start_time": "2023-07-25T14:33:46.450Z"
   },
   {
    "duration": 11,
    "start_time": "2023-07-25T14:33:46.854Z"
   },
   {
    "duration": 12,
    "start_time": "2023-07-25T14:33:46.875Z"
   },
   {
    "duration": 517,
    "start_time": "2023-07-25T14:33:46.889Z"
   },
   {
    "duration": 4,
    "start_time": "2023-07-25T14:33:47.408Z"
   },
   {
    "duration": 15,
    "start_time": "2023-07-25T14:33:47.414Z"
   },
   {
    "duration": 15,
    "start_time": "2023-07-25T14:33:47.431Z"
   },
   {
    "duration": 47,
    "start_time": "2023-07-25T14:33:47.448Z"
   },
   {
    "duration": 10,
    "start_time": "2023-07-25T14:33:47.504Z"
   },
   {
    "duration": 11,
    "start_time": "2023-07-25T14:33:47.516Z"
   },
   {
    "duration": 13,
    "start_time": "2023-07-25T14:35:12.978Z"
   },
   {
    "duration": 100,
    "start_time": "2023-07-25T14:37:38.734Z"
   },
   {
    "duration": 13,
    "start_time": "2023-07-25T14:37:52.944Z"
   },
   {
    "duration": 3,
    "start_time": "2023-07-25T14:37:59.953Z"
   },
   {
    "duration": 299,
    "start_time": "2023-07-25T14:41:52.124Z"
   },
   {
    "duration": 298,
    "start_time": "2023-07-25T14:45:38.085Z"
   },
   {
    "duration": 133,
    "start_time": "2023-07-25T14:48:55.608Z"
   },
   {
    "duration": 274,
    "start_time": "2023-07-25T14:49:31.758Z"
   },
   {
    "duration": 1843,
    "start_time": "2023-07-26T04:04:53.219Z"
   },
   {
    "duration": 2574,
    "start_time": "2023-07-26T04:04:55.064Z"
   },
   {
    "duration": 36,
    "start_time": "2023-07-26T04:04:57.640Z"
   },
   {
    "duration": 37,
    "start_time": "2023-07-26T04:04:57.678Z"
   },
   {
    "duration": 18,
    "start_time": "2023-07-26T04:04:57.718Z"
   },
   {
    "duration": 87,
    "start_time": "2023-07-26T04:04:57.738Z"
   },
   {
    "duration": 244,
    "start_time": "2023-07-26T04:04:57.826Z"
   },
   {
    "duration": 275,
    "start_time": "2023-07-26T04:04:58.073Z"
   },
   {
    "duration": 285,
    "start_time": "2023-07-26T04:04:58.350Z"
   },
   {
    "duration": 33197,
    "start_time": "2023-07-26T04:04:58.637Z"
   },
   {
    "duration": 391,
    "start_time": "2023-07-26T04:05:31.836Z"
   },
   {
    "duration": 11,
    "start_time": "2023-07-26T04:05:32.229Z"
   },
   {
    "duration": 1220,
    "start_time": "2023-07-26T04:05:32.242Z"
   },
   {
    "duration": 10,
    "start_time": "2023-07-26T04:05:33.465Z"
   },
   {
    "duration": 39,
    "start_time": "2023-07-26T04:05:33.477Z"
   },
   {
    "duration": 230,
    "start_time": "2023-07-26T04:05:33.517Z"
   },
   {
    "duration": 8,
    "start_time": "2023-07-26T04:05:33.749Z"
   },
   {
    "duration": 38,
    "start_time": "2023-07-26T04:05:33.759Z"
   },
   {
    "duration": 44,
    "start_time": "2023-07-26T04:05:33.801Z"
   },
   {
    "duration": 3,
    "start_time": "2023-07-26T04:05:33.847Z"
   },
   {
    "duration": 57,
    "start_time": "2023-07-26T04:05:33.851Z"
   },
   {
    "duration": 42,
    "start_time": "2023-07-26T04:05:33.913Z"
   },
   {
    "duration": 72,
    "start_time": "2023-07-26T04:05:33.956Z"
   },
   {
    "duration": 43,
    "start_time": "2023-07-26T04:05:34.030Z"
   },
   {
    "duration": 28,
    "start_time": "2023-07-26T04:05:34.074Z"
   },
   {
    "duration": 58,
    "start_time": "2023-07-26T04:05:34.104Z"
   },
   {
    "duration": 81,
    "start_time": "2023-07-26T04:05:34.164Z"
   },
   {
    "duration": 2,
    "start_time": "2023-07-26T04:05:34.247Z"
   },
   {
    "duration": 332,
    "start_time": "2023-07-26T04:05:34.251Z"
   },
   {
    "duration": 350,
    "start_time": "2023-07-26T04:05:34.585Z"
   },
   {
    "duration": 13,
    "start_time": "2023-07-26T04:07:59.929Z"
   },
   {
    "duration": 34,
    "start_time": "2023-07-26T04:11:00.733Z"
   },
   {
    "duration": 455,
    "start_time": "2023-07-26T04:11:35.546Z"
   },
   {
    "duration": 116,
    "start_time": "2023-07-26T04:17:41.529Z"
   },
   {
    "duration": 5,
    "start_time": "2023-07-26T04:20:29.444Z"
   },
   {
    "duration": 19,
    "start_time": "2023-07-26T04:29:40.288Z"
   },
   {
    "duration": 20,
    "start_time": "2023-07-26T04:36:44.847Z"
   },
   {
    "duration": 112,
    "start_time": "2023-07-26T04:56:20.738Z"
   },
   {
    "duration": 107,
    "start_time": "2023-07-26T04:58:24.184Z"
   },
   {
    "duration": 184,
    "start_time": "2023-07-26T04:59:35.355Z"
   },
   {
    "duration": 350,
    "start_time": "2023-07-26T05:08:20.885Z"
   },
   {
    "duration": 457,
    "start_time": "2023-07-26T05:08:38.001Z"
   },
   {
    "duration": 263,
    "start_time": "2023-07-26T05:08:59.615Z"
   },
   {
    "duration": 525,
    "start_time": "2023-07-26T05:09:12.671Z"
   },
   {
    "duration": 7,
    "start_time": "2023-07-26T05:12:48.815Z"
   },
   {
    "duration": 921,
    "start_time": "2023-07-26T05:16:22.369Z"
   },
   {
    "duration": 20,
    "start_time": "2023-07-26T05:18:38.340Z"
   },
   {
    "duration": 17,
    "start_time": "2023-07-26T05:19:21.708Z"
   },
   {
    "duration": 3,
    "start_time": "2023-07-26T05:20:32.745Z"
   },
   {
    "duration": 2711,
    "start_time": "2023-07-26T05:24:50.745Z"
   },
   {
    "duration": 5,
    "start_time": "2023-07-26T05:26:21.516Z"
   },
   {
    "duration": 3433,
    "start_time": "2023-07-26T05:28:26.103Z"
   },
   {
    "duration": 8,
    "start_time": "2023-07-26T05:29:26.298Z"
   },
   {
    "duration": 1893,
    "start_time": "2023-07-26T05:29:37.748Z"
   },
   {
    "duration": 4,
    "start_time": "2023-07-26T05:30:12.784Z"
   },
   {
    "duration": 799,
    "start_time": "2023-07-26T05:31:03.001Z"
   },
   {
    "duration": 787,
    "start_time": "2023-07-26T05:32:52.104Z"
   },
   {
    "duration": 587,
    "start_time": "2023-07-26T05:34:03.241Z"
   },
   {
    "duration": 1270,
    "start_time": "2023-07-26T05:34:31.542Z"
   },
   {
    "duration": 968,
    "start_time": "2023-07-26T05:35:30.973Z"
   },
   {
    "duration": 803,
    "start_time": "2023-07-26T05:37:57.329Z"
   },
   {
    "duration": 18,
    "start_time": "2023-07-26T05:44:35.230Z"
   },
   {
    "duration": 18,
    "start_time": "2023-07-26T05:44:50.084Z"
   },
   {
    "duration": 10,
    "start_time": "2023-07-26T05:45:06.794Z"
   },
   {
    "duration": 1830,
    "start_time": "2023-07-26T08:03:45.013Z"
   },
   {
    "duration": 1614,
    "start_time": "2023-07-26T08:03:56.005Z"
   },
   {
    "duration": 2299,
    "start_time": "2023-07-26T08:03:57.621Z"
   },
   {
    "duration": 39,
    "start_time": "2023-07-26T08:03:59.923Z"
   },
   {
    "duration": 25,
    "start_time": "2023-07-26T08:03:59.964Z"
   },
   {
    "duration": 66,
    "start_time": "2023-07-26T08:03:59.992Z"
   },
   {
    "duration": 67,
    "start_time": "2023-07-26T08:04:00.060Z"
   },
   {
    "duration": 291,
    "start_time": "2023-07-26T08:04:00.129Z"
   },
   {
    "duration": 274,
    "start_time": "2023-07-26T08:04:00.422Z"
   },
   {
    "duration": 264,
    "start_time": "2023-07-26T08:04:00.698Z"
   },
   {
    "duration": 31410,
    "start_time": "2023-07-26T08:04:00.965Z"
   },
   {
    "duration": 404,
    "start_time": "2023-07-26T08:04:32.377Z"
   },
   {
    "duration": 10,
    "start_time": "2023-07-26T08:04:32.783Z"
   },
   {
    "duration": 1233,
    "start_time": "2023-07-26T08:04:32.794Z"
   },
   {
    "duration": 12,
    "start_time": "2023-07-26T08:04:34.029Z"
   },
   {
    "duration": 21,
    "start_time": "2023-07-26T08:04:34.052Z"
   },
   {
    "duration": 250,
    "start_time": "2023-07-26T08:04:34.075Z"
   },
   {
    "duration": 25,
    "start_time": "2023-07-26T08:04:34.327Z"
   },
   {
    "duration": 11,
    "start_time": "2023-07-26T08:04:34.354Z"
   },
   {
    "duration": 45,
    "start_time": "2023-07-26T08:04:34.367Z"
   },
   {
    "duration": 3,
    "start_time": "2023-07-26T08:04:34.414Z"
   },
   {
    "duration": 24,
    "start_time": "2023-07-26T08:04:34.419Z"
   },
   {
    "duration": 21,
    "start_time": "2023-07-26T08:04:34.445Z"
   },
   {
    "duration": 31,
    "start_time": "2023-07-26T08:04:34.468Z"
   },
   {
    "duration": 12,
    "start_time": "2023-07-26T08:04:34.501Z"
   },
   {
    "duration": 13,
    "start_time": "2023-07-26T08:04:34.515Z"
   },
   {
    "duration": 26,
    "start_time": "2023-07-26T08:04:34.530Z"
   },
   {
    "duration": 73,
    "start_time": "2023-07-26T08:04:34.558Z"
   },
   {
    "duration": 3,
    "start_time": "2023-07-26T08:04:34.635Z"
   },
   {
    "duration": 289,
    "start_time": "2023-07-26T08:04:34.640Z"
   },
   {
    "duration": 256,
    "start_time": "2023-07-26T08:04:34.931Z"
   },
   {
    "duration": 14,
    "start_time": "2023-07-26T08:04:35.189Z"
   },
   {
    "duration": 448,
    "start_time": "2023-07-26T08:04:35.205Z"
   },
   {
    "duration": 6,
    "start_time": "2023-07-26T08:04:35.655Z"
   },
   {
    "duration": 143,
    "start_time": "2023-07-26T08:04:35.663Z"
   },
   {
    "duration": 224,
    "start_time": "2023-07-26T08:04:35.808Z"
   },
   {
    "duration": 518,
    "start_time": "2023-07-26T08:04:36.034Z"
   },
   {
    "duration": 915,
    "start_time": "2023-07-26T08:04:36.555Z"
   },
   {
    "duration": 923,
    "start_time": "2023-07-26T08:04:37.476Z"
   },
   {
    "duration": 4,
    "start_time": "2023-07-26T08:04:38.402Z"
   },
   {
    "duration": 117,
    "start_time": "2023-07-26T08:07:29.074Z"
   },
   {
    "duration": 13,
    "start_time": "2023-07-26T08:08:14.212Z"
   },
   {
    "duration": 13,
    "start_time": "2023-07-26T08:08:51.074Z"
   },
   {
    "duration": 13,
    "start_time": "2023-07-26T08:09:41.108Z"
   },
   {
    "duration": 12,
    "start_time": "2023-07-26T08:11:23.978Z"
   },
   {
    "duration": 34,
    "start_time": "2023-07-26T08:12:38.001Z"
   },
   {
    "duration": 5,
    "start_time": "2023-07-26T08:13:51.995Z"
   },
   {
    "duration": 31,
    "start_time": "2023-07-26T08:16:42.797Z"
   },
   {
    "duration": 3,
    "start_time": "2023-07-26T08:19:51.014Z"
   },
   {
    "duration": 21,
    "start_time": "2023-07-26T08:20:54.492Z"
   },
   {
    "duration": 4,
    "start_time": "2023-07-26T08:21:51.014Z"
   },
   {
    "duration": 168,
    "start_time": "2023-07-26T08:21:56.548Z"
   },
   {
    "duration": 425,
    "start_time": "2023-07-26T08:25:00.915Z"
   },
   {
    "duration": 7,
    "start_time": "2023-07-26T08:25:32.987Z"
   },
   {
    "duration": 1570,
    "start_time": "2023-07-26T08:28:59.744Z"
   },
   {
    "duration": 786,
    "start_time": "2023-07-26T08:29:01.316Z"
   },
   {
    "duration": 32,
    "start_time": "2023-07-26T08:29:02.104Z"
   },
   {
    "duration": 47,
    "start_time": "2023-07-26T08:29:02.138Z"
   },
   {
    "duration": 119,
    "start_time": "2023-07-26T08:29:02.187Z"
   },
   {
    "duration": 173,
    "start_time": "2023-07-26T08:29:02.308Z"
   },
   {
    "duration": 339,
    "start_time": "2023-07-26T08:29:02.483Z"
   },
   {
    "duration": 274,
    "start_time": "2023-07-26T08:29:02.824Z"
   },
   {
    "duration": 283,
    "start_time": "2023-07-26T08:29:03.100Z"
   },
   {
    "duration": 30445,
    "start_time": "2023-07-26T08:29:03.386Z"
   },
   {
    "duration": 358,
    "start_time": "2023-07-26T08:29:33.833Z"
   },
   {
    "duration": 10,
    "start_time": "2023-07-26T08:29:34.193Z"
   },
   {
    "duration": 710,
    "start_time": "2023-07-26T08:29:34.204Z"
   },
   {
    "duration": 12,
    "start_time": "2023-07-26T08:29:34.916Z"
   },
   {
    "duration": 34,
    "start_time": "2023-07-26T08:29:34.929Z"
   },
   {
    "duration": 236,
    "start_time": "2023-07-26T08:29:34.965Z"
   },
   {
    "duration": 9,
    "start_time": "2023-07-26T08:29:35.203Z"
   },
   {
    "duration": 14,
    "start_time": "2023-07-26T08:29:35.214Z"
   },
   {
    "duration": 55,
    "start_time": "2023-07-26T08:29:35.229Z"
   },
   {
    "duration": 3,
    "start_time": "2023-07-26T08:29:35.286Z"
   },
   {
    "duration": 16,
    "start_time": "2023-07-26T08:29:35.290Z"
   },
   {
    "duration": 33,
    "start_time": "2023-07-26T08:29:35.308Z"
   },
   {
    "duration": 44,
    "start_time": "2023-07-26T08:29:35.344Z"
   },
   {
    "duration": 3,
    "start_time": "2023-07-26T08:29:35.389Z"
   },
   {
    "duration": 24,
    "start_time": "2023-07-26T08:29:35.393Z"
   },
   {
    "duration": 17,
    "start_time": "2023-07-26T08:29:35.418Z"
   },
   {
    "duration": 81,
    "start_time": "2023-07-26T08:29:35.437Z"
   },
   {
    "duration": 3,
    "start_time": "2023-07-26T08:29:35.521Z"
   },
   {
    "duration": 273,
    "start_time": "2023-07-26T08:29:35.525Z"
   },
   {
    "duration": 235,
    "start_time": "2023-07-26T08:29:35.800Z"
   },
   {
    "duration": 23,
    "start_time": "2023-07-26T08:29:36.037Z"
   },
   {
    "duration": 291,
    "start_time": "2023-07-26T08:29:36.062Z"
   },
   {
    "duration": 99,
    "start_time": "2023-07-26T08:29:36.355Z"
   },
   {
    "duration": 25,
    "start_time": "2023-07-26T08:29:36.456Z"
   },
   {
    "duration": 204,
    "start_time": "2023-07-26T08:29:36.483Z"
   },
   {
    "duration": 503,
    "start_time": "2023-07-26T08:29:36.690Z"
   },
   {
    "duration": 1403,
    "start_time": "2023-07-26T08:29:37.195Z"
   },
   {
    "duration": 889,
    "start_time": "2023-07-26T08:29:38.601Z"
   },
   {
    "duration": 4,
    "start_time": "2023-07-26T08:29:39.492Z"
   },
   {
    "duration": 40,
    "start_time": "2023-07-26T08:29:39.497Z"
   },
   {
    "duration": 15,
    "start_time": "2023-07-26T08:29:39.539Z"
   },
   {
    "duration": 126,
    "start_time": "2023-07-26T08:29:39.555Z"
   },
   {
    "duration": 13,
    "start_time": "2023-07-26T08:30:34.592Z"
   },
   {
    "duration": 4,
    "start_time": "2023-07-26T08:30:53.139Z"
   },
   {
    "duration": 192,
    "start_time": "2023-07-26T08:30:58.235Z"
   },
   {
    "duration": 500320,
    "start_time": "2023-07-26T08:32:49.009Z"
   },
   {
    "duration": 984333,
    "start_time": "2023-07-26T08:41:09.331Z"
   },
   {
    "duration": 1736,
    "start_time": "2023-07-26T09:11:23.664Z"
   },
   {
    "duration": 806,
    "start_time": "2023-07-26T09:11:25.403Z"
   },
   {
    "duration": 41,
    "start_time": "2023-07-26T09:11:26.211Z"
   },
   {
    "duration": 252,
    "start_time": "2023-07-26T09:11:26.254Z"
   },
   {
    "duration": 16,
    "start_time": "2023-07-26T09:11:26.509Z"
   },
   {
    "duration": 36,
    "start_time": "2023-07-26T09:11:26.527Z"
   },
   {
    "duration": 271,
    "start_time": "2023-07-26T09:11:26.564Z"
   },
   {
    "duration": 280,
    "start_time": "2023-07-26T09:11:26.837Z"
   },
   {
    "duration": 286,
    "start_time": "2023-07-26T09:11:27.119Z"
   },
   {
    "duration": 32696,
    "start_time": "2023-07-26T09:11:27.407Z"
   },
   {
    "duration": 385,
    "start_time": "2023-07-26T09:12:00.105Z"
   },
   {
    "duration": 11,
    "start_time": "2023-07-26T09:12:00.492Z"
   },
   {
    "duration": 797,
    "start_time": "2023-07-26T09:12:00.505Z"
   },
   {
    "duration": 13,
    "start_time": "2023-07-26T09:12:01.305Z"
   },
   {
    "duration": 99,
    "start_time": "2023-07-26T09:12:01.320Z"
   },
   {
    "duration": 252,
    "start_time": "2023-07-26T09:12:01.420Z"
   },
   {
    "duration": 10,
    "start_time": "2023-07-26T09:12:01.674Z"
   },
   {
    "duration": 51,
    "start_time": "2023-07-26T09:12:01.686Z"
   },
   {
    "duration": 108,
    "start_time": "2023-07-26T09:12:01.739Z"
   },
   {
    "duration": 33,
    "start_time": "2023-07-26T09:12:01.849Z"
   },
   {
    "duration": 38,
    "start_time": "2023-07-26T09:12:01.884Z"
   },
   {
    "duration": 36,
    "start_time": "2023-07-26T09:12:01.925Z"
   },
   {
    "duration": 61,
    "start_time": "2023-07-26T09:12:01.963Z"
   },
   {
    "duration": 3,
    "start_time": "2023-07-26T09:12:02.026Z"
   },
   {
    "duration": 35,
    "start_time": "2023-07-26T09:12:02.031Z"
   },
   {
    "duration": 60,
    "start_time": "2023-07-26T09:12:02.069Z"
   },
   {
    "duration": 105,
    "start_time": "2023-07-26T09:12:02.132Z"
   },
   {
    "duration": 2,
    "start_time": "2023-07-26T09:12:02.239Z"
   },
   {
    "duration": 331,
    "start_time": "2023-07-26T09:12:02.243Z"
   },
   {
    "duration": 252,
    "start_time": "2023-07-26T09:12:02.576Z"
   },
   {
    "duration": 14,
    "start_time": "2023-07-26T09:12:02.830Z"
   },
   {
    "duration": 511,
    "start_time": "2023-07-26T09:12:02.846Z"
   },
   {
    "duration": 6,
    "start_time": "2023-07-26T09:12:03.359Z"
   },
   {
    "duration": 191,
    "start_time": "2023-07-26T09:12:03.367Z"
   },
   {
    "duration": 212,
    "start_time": "2023-07-26T09:12:03.561Z"
   },
   {
    "duration": 991,
    "start_time": "2023-07-26T09:12:03.775Z"
   },
   {
    "duration": 930,
    "start_time": "2023-07-26T09:12:04.768Z"
   },
   {
    "duration": 883,
    "start_time": "2023-07-26T09:12:05.700Z"
   },
   {
    "duration": 5,
    "start_time": "2023-07-26T09:12:06.586Z"
   },
   {
    "duration": 55,
    "start_time": "2023-07-26T09:12:06.593Z"
   },
   {
    "duration": 7,
    "start_time": "2023-07-26T09:12:06.653Z"
   },
   {
    "duration": 98,
    "start_time": "2023-07-26T09:12:06.662Z"
   },
   {
    "duration": 15,
    "start_time": "2023-07-26T09:13:33.650Z"
   },
   {
    "duration": 14,
    "start_time": "2023-07-26T09:13:47.613Z"
   },
   {
    "duration": 124,
    "start_time": "2023-07-26T09:17:33.023Z"
   },
   {
    "duration": 7,
    "start_time": "2023-07-26T09:18:07.410Z"
   },
   {
    "duration": 163,
    "start_time": "2023-07-26T09:18:12.815Z"
   },
   {
    "duration": 163,
    "start_time": "2023-07-26T09:19:27.511Z"
   },
   {
    "duration": 1747,
    "start_time": "2023-07-26T09:26:38.988Z"
   },
   {
    "duration": 882,
    "start_time": "2023-07-26T09:26:40.738Z"
   },
   {
    "duration": 43,
    "start_time": "2023-07-26T09:26:41.622Z"
   },
   {
    "duration": 22,
    "start_time": "2023-07-26T09:26:41.668Z"
   },
   {
    "duration": 14,
    "start_time": "2023-07-26T09:26:41.693Z"
   },
   {
    "duration": 54,
    "start_time": "2023-07-26T09:26:41.709Z"
   },
   {
    "duration": 270,
    "start_time": "2023-07-26T09:26:41.768Z"
   },
   {
    "duration": 295,
    "start_time": "2023-07-26T09:26:42.039Z"
   },
   {
    "duration": 287,
    "start_time": "2023-07-26T09:26:42.335Z"
   },
   {
    "duration": 33542,
    "start_time": "2023-07-26T09:26:42.624Z"
   },
   {
    "duration": 400,
    "start_time": "2023-07-26T09:27:16.168Z"
   },
   {
    "duration": 10,
    "start_time": "2023-07-26T09:27:16.571Z"
   },
   {
    "duration": 751,
    "start_time": "2023-07-26T09:27:16.583Z"
   },
   {
    "duration": 23,
    "start_time": "2023-07-26T09:27:17.338Z"
   },
   {
    "duration": 36,
    "start_time": "2023-07-26T09:27:17.368Z"
   },
   {
    "duration": 277,
    "start_time": "2023-07-26T09:27:17.406Z"
   },
   {
    "duration": 8,
    "start_time": "2023-07-26T09:27:17.685Z"
   },
   {
    "duration": 11,
    "start_time": "2023-07-26T09:27:17.695Z"
   },
   {
    "duration": 71,
    "start_time": "2023-07-26T09:27:17.708Z"
   },
   {
    "duration": 3,
    "start_time": "2023-07-26T09:27:17.781Z"
   },
   {
    "duration": 11,
    "start_time": "2023-07-26T09:27:17.785Z"
   },
   {
    "duration": 26,
    "start_time": "2023-07-26T09:27:17.797Z"
   },
   {
    "duration": 39,
    "start_time": "2023-07-26T09:27:17.825Z"
   },
   {
    "duration": 4,
    "start_time": "2023-07-26T09:27:17.866Z"
   },
   {
    "duration": 10,
    "start_time": "2023-07-26T09:27:17.872Z"
   },
   {
    "duration": 19,
    "start_time": "2023-07-26T09:27:17.884Z"
   },
   {
    "duration": 87,
    "start_time": "2023-07-26T09:27:17.905Z"
   },
   {
    "duration": 3,
    "start_time": "2023-07-26T09:27:17.994Z"
   },
   {
    "duration": 322,
    "start_time": "2023-07-26T09:27:17.999Z"
   },
   {
    "duration": 336,
    "start_time": "2023-07-26T09:27:18.324Z"
   },
   {
    "duration": 17,
    "start_time": "2023-07-26T09:27:18.667Z"
   },
   {
    "duration": 195,
    "start_time": "2023-07-26T09:27:18.687Z"
   },
   {
    "duration": 0,
    "start_time": "2023-07-26T09:27:18.884Z"
   },
   {
    "duration": 0,
    "start_time": "2023-07-26T09:27:18.886Z"
   },
   {
    "duration": 0,
    "start_time": "2023-07-26T09:27:18.887Z"
   },
   {
    "duration": 0,
    "start_time": "2023-07-26T09:27:18.889Z"
   },
   {
    "duration": 0,
    "start_time": "2023-07-26T09:27:18.890Z"
   },
   {
    "duration": 0,
    "start_time": "2023-07-26T09:27:18.892Z"
   },
   {
    "duration": 0,
    "start_time": "2023-07-26T09:27:18.893Z"
   },
   {
    "duration": 0,
    "start_time": "2023-07-26T09:27:18.894Z"
   },
   {
    "duration": 0,
    "start_time": "2023-07-26T09:27:18.895Z"
   },
   {
    "duration": 1102,
    "start_time": "2023-07-26T09:27:58.671Z"
   },
   {
    "duration": 1722,
    "start_time": "2023-07-26T09:28:08.339Z"
   },
   {
    "duration": 929,
    "start_time": "2023-07-26T09:28:10.063Z"
   },
   {
    "duration": 37,
    "start_time": "2023-07-26T09:28:10.994Z"
   },
   {
    "duration": 41,
    "start_time": "2023-07-26T09:28:11.034Z"
   },
   {
    "duration": 26,
    "start_time": "2023-07-26T09:28:11.077Z"
   },
   {
    "duration": 22,
    "start_time": "2023-07-26T09:28:11.105Z"
   },
   {
    "duration": 308,
    "start_time": "2023-07-26T09:28:11.130Z"
   },
   {
    "duration": 287,
    "start_time": "2023-07-26T09:28:11.440Z"
   },
   {
    "duration": 297,
    "start_time": "2023-07-26T09:28:11.729Z"
   },
   {
    "duration": 34910,
    "start_time": "2023-07-26T09:28:12.029Z"
   },
   {
    "duration": 401,
    "start_time": "2023-07-26T09:28:46.941Z"
   },
   {
    "duration": 14,
    "start_time": "2023-07-26T09:28:47.344Z"
   },
   {
    "duration": 771,
    "start_time": "2023-07-26T09:28:47.362Z"
   },
   {
    "duration": 25,
    "start_time": "2023-07-26T09:28:48.135Z"
   },
   {
    "duration": 30,
    "start_time": "2023-07-26T09:28:48.162Z"
   },
   {
    "duration": 310,
    "start_time": "2023-07-26T09:28:48.194Z"
   },
   {
    "duration": 11,
    "start_time": "2023-07-26T09:28:48.507Z"
   },
   {
    "duration": 38,
    "start_time": "2023-07-26T09:28:48.520Z"
   },
   {
    "duration": 84,
    "start_time": "2023-07-26T09:28:48.560Z"
   },
   {
    "duration": 3,
    "start_time": "2023-07-26T09:28:48.646Z"
   },
   {
    "duration": 46,
    "start_time": "2023-07-26T09:28:48.656Z"
   },
   {
    "duration": 18,
    "start_time": "2023-07-26T09:28:48.704Z"
   },
   {
    "duration": 38,
    "start_time": "2023-07-26T09:28:48.725Z"
   },
   {
    "duration": 16,
    "start_time": "2023-07-26T09:28:48.765Z"
   },
   {
    "duration": 15,
    "start_time": "2023-07-26T09:28:48.783Z"
   },
   {
    "duration": 15,
    "start_time": "2023-07-26T09:28:48.800Z"
   },
   {
    "duration": 72,
    "start_time": "2023-07-26T09:28:48.818Z"
   },
   {
    "duration": 3,
    "start_time": "2023-07-26T09:28:48.894Z"
   },
   {
    "duration": 299,
    "start_time": "2023-07-26T09:28:48.898Z"
   },
   {
    "duration": 297,
    "start_time": "2023-07-26T09:28:49.199Z"
   },
   {
    "duration": 14,
    "start_time": "2023-07-26T09:28:49.499Z"
   },
   {
    "duration": 3060,
    "start_time": "2023-07-26T09:28:49.516Z"
   },
   {
    "duration": 78,
    "start_time": "2023-07-26T09:28:52.579Z"
   },
   {
    "duration": 131,
    "start_time": "2023-07-26T09:28:52.663Z"
   },
   {
    "duration": 229,
    "start_time": "2023-07-26T09:28:52.797Z"
   },
   {
    "duration": 548,
    "start_time": "2023-07-26T09:28:53.028Z"
   },
   {
    "duration": 1437,
    "start_time": "2023-07-26T09:28:53.579Z"
   },
   {
    "duration": 938,
    "start_time": "2023-07-26T09:28:55.018Z"
   },
   {
    "duration": 5,
    "start_time": "2023-07-26T09:28:55.964Z"
   },
   {
    "duration": 73,
    "start_time": "2023-07-26T09:28:55.972Z"
   },
   {
    "duration": 9,
    "start_time": "2023-07-26T09:28:56.047Z"
   },
   {
    "duration": 960311,
    "start_time": "2023-07-26T09:32:50.207Z"
   },
   {
    "duration": 2239,
    "start_time": "2023-07-26T09:49:31.904Z"
   },
   {
    "duration": 810,
    "start_time": "2023-07-26T09:49:34.145Z"
   },
   {
    "duration": 39,
    "start_time": "2023-07-26T09:49:34.957Z"
   },
   {
    "duration": 54,
    "start_time": "2023-07-26T09:49:34.998Z"
   },
   {
    "duration": 37,
    "start_time": "2023-07-26T09:49:35.054Z"
   },
   {
    "duration": 61,
    "start_time": "2023-07-26T09:49:35.093Z"
   },
   {
    "duration": 299,
    "start_time": "2023-07-26T09:49:35.156Z"
   },
   {
    "duration": 273,
    "start_time": "2023-07-26T09:49:35.457Z"
   },
   {
    "duration": 280,
    "start_time": "2023-07-26T09:49:35.732Z"
   },
   {
    "duration": 33069,
    "start_time": "2023-07-26T09:49:36.014Z"
   },
   {
    "duration": 402,
    "start_time": "2023-07-26T09:50:09.085Z"
   },
   {
    "duration": 10,
    "start_time": "2023-07-26T09:50:09.489Z"
   },
   {
    "duration": 728,
    "start_time": "2023-07-26T09:50:09.501Z"
   },
   {
    "duration": 27,
    "start_time": "2023-07-26T09:50:10.234Z"
   },
   {
    "duration": 29,
    "start_time": "2023-07-26T09:50:10.263Z"
   },
   {
    "duration": 300,
    "start_time": "2023-07-26T09:50:10.294Z"
   },
   {
    "duration": 10,
    "start_time": "2023-07-26T09:50:10.596Z"
   },
   {
    "duration": 13,
    "start_time": "2023-07-26T09:50:10.607Z"
   },
   {
    "duration": 61,
    "start_time": "2023-07-26T09:50:10.622Z"
   },
   {
    "duration": 2,
    "start_time": "2023-07-26T09:50:10.686Z"
   },
   {
    "duration": 23,
    "start_time": "2023-07-26T09:50:10.690Z"
   },
   {
    "duration": 12,
    "start_time": "2023-07-26T09:50:10.715Z"
   },
   {
    "duration": 32,
    "start_time": "2023-07-26T09:50:10.729Z"
   },
   {
    "duration": 3,
    "start_time": "2023-07-26T09:50:10.764Z"
   },
   {
    "duration": 24,
    "start_time": "2023-07-26T09:50:10.768Z"
   },
   {
    "duration": 23,
    "start_time": "2023-07-26T09:50:10.793Z"
   },
   {
    "duration": 74,
    "start_time": "2023-07-26T09:50:10.818Z"
   },
   {
    "duration": 3,
    "start_time": "2023-07-26T09:50:10.893Z"
   },
   {
    "duration": 299,
    "start_time": "2023-07-26T09:50:10.898Z"
   },
   {
    "duration": 274,
    "start_time": "2023-07-26T09:50:11.200Z"
   },
   {
    "duration": 14,
    "start_time": "2023-07-26T09:50:11.476Z"
   },
   {
    "duration": 360,
    "start_time": "2023-07-26T09:50:11.492Z"
   },
   {
    "duration": 9,
    "start_time": "2023-07-26T09:50:11.856Z"
   },
   {
    "duration": 97,
    "start_time": "2023-07-26T09:50:11.870Z"
   },
   {
    "duration": 215,
    "start_time": "2023-07-26T09:50:11.971Z"
   },
   {
    "duration": 1054,
    "start_time": "2023-07-26T09:50:12.187Z"
   },
   {
    "duration": 916,
    "start_time": "2023-07-26T09:50:13.243Z"
   },
   {
    "duration": 909,
    "start_time": "2023-07-26T09:50:14.162Z"
   },
   {
    "duration": 4,
    "start_time": "2023-07-26T09:50:15.073Z"
   },
   {
    "duration": 56,
    "start_time": "2023-07-26T09:50:15.078Z"
   },
   {
    "duration": 5,
    "start_time": "2023-07-26T09:50:15.138Z"
   },
   {
    "duration": 499621,
    "start_time": "2023-07-26T09:50:15.145Z"
   },
   {
    "duration": 112589,
    "start_time": "2023-07-26T10:05:23.902Z"
   },
   {
    "duration": 5732,
    "start_time": "2023-07-26T13:08:58.287Z"
   },
   {
    "duration": 4488,
    "start_time": "2023-07-26T13:09:04.020Z"
   },
   {
    "duration": 28,
    "start_time": "2023-07-26T13:09:08.509Z"
   },
   {
    "duration": 19,
    "start_time": "2023-07-26T13:09:08.539Z"
   },
   {
    "duration": 13,
    "start_time": "2023-07-26T13:09:08.560Z"
   },
   {
    "duration": 23,
    "start_time": "2023-07-26T13:09:08.582Z"
   },
   {
    "duration": 247,
    "start_time": "2023-07-26T13:09:08.607Z"
   },
   {
    "duration": 256,
    "start_time": "2023-07-26T13:09:08.856Z"
   },
   {
    "duration": 268,
    "start_time": "2023-07-26T13:09:09.114Z"
   },
   {
    "duration": 32906,
    "start_time": "2023-07-26T13:09:09.386Z"
   },
   {
    "duration": 371,
    "start_time": "2023-07-26T13:09:42.294Z"
   },
   {
    "duration": 16,
    "start_time": "2023-07-26T13:09:42.667Z"
   },
   {
    "duration": 731,
    "start_time": "2023-07-26T13:09:42.687Z"
   },
   {
    "duration": 12,
    "start_time": "2023-07-26T13:09:43.420Z"
   },
   {
    "duration": 18,
    "start_time": "2023-07-26T13:09:43.434Z"
   },
   {
    "duration": 262,
    "start_time": "2023-07-26T13:09:43.454Z"
   },
   {
    "duration": 9,
    "start_time": "2023-07-26T13:09:43.717Z"
   },
   {
    "duration": 18,
    "start_time": "2023-07-26T13:09:43.727Z"
   },
   {
    "duration": 58,
    "start_time": "2023-07-26T13:09:43.747Z"
   },
   {
    "duration": 3,
    "start_time": "2023-07-26T13:09:43.809Z"
   },
   {
    "duration": 23,
    "start_time": "2023-07-26T13:09:43.813Z"
   },
   {
    "duration": 19,
    "start_time": "2023-07-26T13:09:43.838Z"
   },
   {
    "duration": 47,
    "start_time": "2023-07-26T13:09:43.859Z"
   },
   {
    "duration": 8,
    "start_time": "2023-07-26T13:09:43.907Z"
   },
   {
    "duration": 10,
    "start_time": "2023-07-26T13:09:43.917Z"
   },
   {
    "duration": 13,
    "start_time": "2023-07-26T13:09:43.929Z"
   },
   {
    "duration": 69,
    "start_time": "2023-07-26T13:09:43.944Z"
   },
   {
    "duration": 2,
    "start_time": "2023-07-26T13:09:44.017Z"
   },
   {
    "duration": 283,
    "start_time": "2023-07-26T13:09:44.020Z"
   },
   {
    "duration": 256,
    "start_time": "2023-07-26T13:09:44.304Z"
   },
   {
    "duration": 19,
    "start_time": "2023-07-26T13:09:44.562Z"
   },
   {
    "duration": 1216,
    "start_time": "2023-07-26T13:09:44.588Z"
   },
   {
    "duration": 72,
    "start_time": "2023-07-26T13:09:45.812Z"
   },
   {
    "duration": 25,
    "start_time": "2023-07-26T13:09:45.897Z"
   },
   {
    "duration": 235,
    "start_time": "2023-07-26T13:09:45.924Z"
   },
   {
    "duration": 511,
    "start_time": "2023-07-26T13:09:46.161Z"
   },
   {
    "duration": 1284,
    "start_time": "2023-07-26T13:09:46.674Z"
   },
   {
    "duration": 869,
    "start_time": "2023-07-26T13:09:47.960Z"
   },
   {
    "duration": 4,
    "start_time": "2023-07-26T13:09:48.831Z"
   },
   {
    "duration": 71,
    "start_time": "2023-07-26T13:09:48.838Z"
   },
   {
    "duration": 4,
    "start_time": "2023-07-26T13:09:48.911Z"
   },
   {
    "duration": 23,
    "start_time": "2023-07-26T13:09:48.917Z"
   },
   {
    "duration": 4,
    "start_time": "2023-07-27T14:11:42.204Z"
   },
   {
    "duration": 1740,
    "start_time": "2023-07-27T14:11:42.211Z"
   },
   {
    "duration": 2223,
    "start_time": "2023-07-27T14:11:43.953Z"
   },
   {
    "duration": 33,
    "start_time": "2023-07-27T14:11:46.178Z"
   },
   {
    "duration": 20,
    "start_time": "2023-07-27T14:11:46.213Z"
   },
   {
    "duration": 13,
    "start_time": "2023-07-27T14:11:46.235Z"
   },
   {
    "duration": 35,
    "start_time": "2023-07-27T14:11:46.250Z"
   },
   {
    "duration": 286,
    "start_time": "2023-07-27T14:11:46.287Z"
   },
   {
    "duration": 280,
    "start_time": "2023-07-27T14:11:46.575Z"
   },
   {
    "duration": 260,
    "start_time": "2023-07-27T14:11:46.857Z"
   },
   {
    "duration": 30988,
    "start_time": "2023-07-27T14:11:47.119Z"
   },
   {
    "duration": 362,
    "start_time": "2023-07-27T14:12:18.109Z"
   },
   {
    "duration": 3,
    "start_time": "2023-07-27T14:14:10.183Z"
   },
   {
    "duration": 34,
    "start_time": "2023-07-27T14:14:10.190Z"
   },
   {
    "duration": 764,
    "start_time": "2023-07-27T14:14:10.226Z"
   },
   {
    "duration": 32,
    "start_time": "2023-07-27T14:14:10.992Z"
   },
   {
    "duration": 28,
    "start_time": "2023-07-27T14:14:11.026Z"
   },
   {
    "duration": 24,
    "start_time": "2023-07-27T14:14:11.057Z"
   },
   {
    "duration": 19,
    "start_time": "2023-07-27T14:14:11.083Z"
   },
   {
    "duration": 249,
    "start_time": "2023-07-27T14:14:11.104Z"
   },
   {
    "duration": 254,
    "start_time": "2023-07-27T14:14:11.355Z"
   },
   {
    "duration": 253,
    "start_time": "2023-07-27T14:14:11.611Z"
   },
   {
    "duration": 31943,
    "start_time": "2023-07-27T14:14:11.865Z"
   },
   {
    "duration": 365,
    "start_time": "2023-07-27T14:14:43.809Z"
   },
   {
    "duration": 3,
    "start_time": "2023-07-27T14:14:44.175Z"
   },
   {
    "duration": 18,
    "start_time": "2023-07-27T14:14:44.180Z"
   },
   {
    "duration": 25,
    "start_time": "2023-07-27T14:14:44.201Z"
   },
   {
    "duration": 15,
    "start_time": "2023-07-27T14:14:44.228Z"
   },
   {
    "duration": 15,
    "start_time": "2023-07-27T14:15:16.551Z"
   },
   {
    "duration": 3,
    "start_time": "2023-07-27T14:15:24.005Z"
   },
   {
    "duration": 9,
    "start_time": "2023-07-27T14:15:27.865Z"
   },
   {
    "duration": 8,
    "start_time": "2023-07-27T14:15:45.159Z"
   },
   {
    "duration": 9,
    "start_time": "2023-07-27T14:15:53.887Z"
   },
   {
    "duration": 3,
    "start_time": "2023-07-27T14:18:50.517Z"
   },
   {
    "duration": 3,
    "start_time": "2023-07-27T14:18:53.358Z"
   },
   {
    "duration": 9,
    "start_time": "2023-07-27T14:19:19.170Z"
   },
   {
    "duration": 5,
    "start_time": "2023-07-27T14:24:47.790Z"
   },
   {
    "duration": 15,
    "start_time": "2023-07-27T14:24:54.970Z"
   },
   {
    "duration": 2,
    "start_time": "2023-07-27T14:25:11.399Z"
   },
   {
    "duration": 11,
    "start_time": "2023-07-27T14:26:05.158Z"
   },
   {
    "duration": 10,
    "start_time": "2023-07-27T14:26:10.421Z"
   },
   {
    "duration": 2,
    "start_time": "2023-07-27T14:26:20.897Z"
   },
   {
    "duration": 4,
    "start_time": "2023-07-27T23:50:35.891Z"
   },
   {
    "duration": 1567,
    "start_time": "2023-07-27T23:50:35.897Z"
   },
   {
    "duration": 3726,
    "start_time": "2023-07-27T23:50:37.466Z"
   },
   {
    "duration": 30,
    "start_time": "2023-07-27T23:50:41.194Z"
   },
   {
    "duration": 19,
    "start_time": "2023-07-27T23:50:41.227Z"
   },
   {
    "duration": 13,
    "start_time": "2023-07-27T23:50:41.247Z"
   },
   {
    "duration": 18,
    "start_time": "2023-07-27T23:50:41.274Z"
   },
   {
    "duration": 238,
    "start_time": "2023-07-27T23:50:41.294Z"
   },
   {
    "duration": 241,
    "start_time": "2023-07-27T23:50:41.534Z"
   },
   {
    "duration": 247,
    "start_time": "2023-07-27T23:50:41.777Z"
   },
   {
    "duration": 29014,
    "start_time": "2023-07-27T23:50:42.025Z"
   },
   {
    "duration": 330,
    "start_time": "2023-07-27T23:51:11.040Z"
   },
   {
    "duration": 4,
    "start_time": "2023-07-27T23:51:11.371Z"
   },
   {
    "duration": 7,
    "start_time": "2023-07-27T23:51:11.378Z"
   },
   {
    "duration": 3,
    "start_time": "2023-07-27T23:51:11.387Z"
   },
   {
    "duration": 6,
    "start_time": "2023-07-27T23:51:11.391Z"
   },
   {
    "duration": 10,
    "start_time": "2023-07-27T23:51:11.399Z"
   },
   {
    "duration": 3,
    "start_time": "2023-07-27T23:51:11.410Z"
   },
   {
    "duration": 12,
    "start_time": "2023-07-27T23:51:11.415Z"
   },
   {
    "duration": 20,
    "start_time": "2023-07-27T23:51:11.429Z"
   },
   {
    "duration": 4,
    "start_time": "2023-07-27T23:51:11.451Z"
   },
   {
    "duration": 19,
    "start_time": "2023-07-27T23:51:11.457Z"
   },
   {
    "duration": 8,
    "start_time": "2023-07-27T23:51:11.477Z"
   },
   {
    "duration": 16,
    "start_time": "2023-07-27T23:51:11.487Z"
   },
   {
    "duration": 11,
    "start_time": "2023-07-27T23:51:11.504Z"
   },
   {
    "duration": 10,
    "start_time": "2023-07-27T23:51:11.516Z"
   },
   {
    "duration": 10,
    "start_time": "2023-07-27T23:51:11.528Z"
   },
   {
    "duration": 11,
    "start_time": "2023-07-27T23:51:11.540Z"
   },
   {
    "duration": 24,
    "start_time": "2023-07-27T23:51:11.553Z"
   },
   {
    "duration": 4,
    "start_time": "2023-07-27T23:51:11.579Z"
   },
   {
    "duration": 4,
    "start_time": "2023-07-27T23:51:11.584Z"
   },
   {
    "duration": 8,
    "start_time": "2023-07-27T23:52:02.951Z"
   },
   {
    "duration": 184,
    "start_time": "2023-07-27T23:52:46.757Z"
   },
   {
    "duration": 3,
    "start_time": "2023-07-27T23:53:57.532Z"
   },
   {
    "duration": 7,
    "start_time": "2023-07-28T00:08:58.004Z"
   },
   {
    "duration": 115,
    "start_time": "2023-07-28T00:15:12.571Z"
   },
   {
    "duration": 19,
    "start_time": "2023-07-28T00:15:51.122Z"
   },
   {
    "duration": 3,
    "start_time": "2023-07-28T00:26:31.244Z"
   },
   {
    "duration": 8,
    "start_time": "2023-07-28T00:26:34.545Z"
   },
   {
    "duration": 5,
    "start_time": "2023-07-28T00:28:45.108Z"
   },
   {
    "duration": 4,
    "start_time": "2023-07-28T00:29:04.339Z"
   },
   {
    "duration": 3,
    "start_time": "2023-07-28T00:29:21.098Z"
   },
   {
    "duration": 7,
    "start_time": "2023-07-28T00:29:23.702Z"
   },
   {
    "duration": 6,
    "start_time": "2023-07-28T00:29:47.613Z"
   },
   {
    "duration": 5,
    "start_time": "2023-07-28T00:30:03.640Z"
   },
   {
    "duration": 6,
    "start_time": "2023-07-28T00:34:12.902Z"
   },
   {
    "duration": 8,
    "start_time": "2023-07-28T00:38:02.276Z"
   },
   {
    "duration": 1381,
    "start_time": "2023-07-28T00:38:02.286Z"
   },
   {
    "duration": 781,
    "start_time": "2023-07-28T00:38:03.668Z"
   },
   {
    "duration": 34,
    "start_time": "2023-07-28T00:38:04.450Z"
   },
   {
    "duration": 26,
    "start_time": "2023-07-28T00:38:04.486Z"
   },
   {
    "duration": 12,
    "start_time": "2023-07-28T00:38:04.515Z"
   },
   {
    "duration": 22,
    "start_time": "2023-07-28T00:38:04.529Z"
   },
   {
    "duration": 227,
    "start_time": "2023-07-28T00:38:04.553Z"
   },
   {
    "duration": 224,
    "start_time": "2023-07-28T00:38:04.781Z"
   },
   {
    "duration": 228,
    "start_time": "2023-07-28T00:38:05.007Z"
   },
   {
    "duration": 27027,
    "start_time": "2023-07-28T00:38:05.236Z"
   },
   {
    "duration": 314,
    "start_time": "2023-07-28T00:38:32.265Z"
   },
   {
    "duration": 3,
    "start_time": "2023-07-28T00:38:40.540Z"
   },
   {
    "duration": 9,
    "start_time": "2023-07-28T00:38:42.710Z"
   },
   {
    "duration": 358,
    "start_time": "2023-07-28T01:01:07.668Z"
   },
   {
    "duration": 363,
    "start_time": "2023-07-28T01:01:25.235Z"
   },
   {
    "duration": 788,
    "start_time": "2023-07-28T01:01:42.570Z"
   },
   {
    "duration": 442,
    "start_time": "2023-07-28T01:03:55.085Z"
   },
   {
    "duration": 3,
    "start_time": "2023-07-28T01:09:37.259Z"
   },
   {
    "duration": 1471,
    "start_time": "2023-07-28T01:17:04.997Z"
   },
   {
    "duration": 856,
    "start_time": "2023-07-28T01:17:19.867Z"
   },
   {
    "duration": 6,
    "start_time": "2023-07-28T01:17:27.965Z"
   },
   {
    "duration": 8,
    "start_time": "2023-07-28T01:26:05.876Z"
   },
   {
    "duration": 9,
    "start_time": "2023-07-28T01:26:42.991Z"
   },
   {
    "duration": 8,
    "start_time": "2023-07-28T01:30:26.550Z"
   },
   {
    "duration": 799,
    "start_time": "2023-07-28T01:35:41.770Z"
   },
   {
    "duration": 1534,
    "start_time": "2023-07-28T01:40:06.138Z"
   },
   {
    "duration": 2318,
    "start_time": "2023-07-28T01:51:06.468Z"
   },
   {
    "duration": 1361,
    "start_time": "2023-07-28T01:51:25.373Z"
   },
   {
    "duration": 1322,
    "start_time": "2023-07-28T01:53:10.561Z"
   },
   {
    "duration": 6,
    "start_time": "2023-07-28T01:57:49.301Z"
   },
   {
    "duration": 5,
    "start_time": "2023-07-28T02:05:38.323Z"
   },
   {
    "duration": 3,
    "start_time": "2023-07-28T02:16:10.639Z"
   },
   {
    "duration": 2,
    "start_time": "2023-07-28T02:20:21.049Z"
   },
   {
    "duration": 3,
    "start_time": "2023-07-28T02:20:23.400Z"
   },
   {
    "duration": 4,
    "start_time": "2023-07-28T02:20:40.464Z"
   },
   {
    "duration": 3,
    "start_time": "2023-07-28T02:20:49.068Z"
   },
   {
    "duration": 16,
    "start_time": "2023-07-28T02:30:08.756Z"
   },
   {
    "duration": 14,
    "start_time": "2023-07-28T02:31:40.390Z"
   },
   {
    "duration": 3,
    "start_time": "2023-07-28T02:32:22.144Z"
   },
   {
    "duration": 737,
    "start_time": "2023-07-28T02:32:31.445Z"
   },
   {
    "duration": 12,
    "start_time": "2023-07-28T02:35:45.917Z"
   },
   {
    "duration": 140,
    "start_time": "2023-07-28T02:35:48.917Z"
   },
   {
    "duration": 453,
    "start_time": "2023-07-28T02:43:55.933Z"
   },
   {
    "duration": 144,
    "start_time": "2023-07-28T02:44:14.714Z"
   },
   {
    "duration": 4,
    "start_time": "2023-07-28T02:45:06.317Z"
   },
   {
    "duration": 1321,
    "start_time": "2023-07-28T02:45:06.323Z"
   },
   {
    "duration": 762,
    "start_time": "2023-07-28T02:45:07.646Z"
   },
   {
    "duration": 27,
    "start_time": "2023-07-28T02:45:08.410Z"
   },
   {
    "duration": 16,
    "start_time": "2023-07-28T02:45:08.439Z"
   },
   {
    "duration": 28,
    "start_time": "2023-07-28T02:45:08.457Z"
   },
   {
    "duration": 20,
    "start_time": "2023-07-28T02:45:08.487Z"
   },
   {
    "duration": 219,
    "start_time": "2023-07-28T02:45:08.508Z"
   },
   {
    "duration": 220,
    "start_time": "2023-07-28T02:45:08.728Z"
   },
   {
    "duration": 218,
    "start_time": "2023-07-28T02:45:08.950Z"
   },
   {
    "duration": 27373,
    "start_time": "2023-07-28T02:45:09.174Z"
   },
   {
    "duration": 314,
    "start_time": "2023-07-28T02:45:36.548Z"
   },
   {
    "duration": 3,
    "start_time": "2023-07-28T02:45:36.864Z"
   },
   {
    "duration": 26,
    "start_time": "2023-07-28T02:45:36.868Z"
   },
   {
    "duration": 4,
    "start_time": "2023-07-28T02:45:36.895Z"
   },
   {
    "duration": 5,
    "start_time": "2023-07-28T02:45:36.900Z"
   },
   {
    "duration": 7,
    "start_time": "2023-07-28T02:45:36.906Z"
   },
   {
    "duration": 10,
    "start_time": "2023-07-28T02:45:36.914Z"
   },
   {
    "duration": 12,
    "start_time": "2023-07-28T02:45:36.926Z"
   },
   {
    "duration": 3,
    "start_time": "2023-07-28T02:45:36.939Z"
   },
   {
    "duration": 6,
    "start_time": "2023-07-28T02:45:36.943Z"
   },
   {
    "duration": 24,
    "start_time": "2023-07-28T02:45:36.951Z"
   },
   {
    "duration": 2,
    "start_time": "2023-07-28T02:45:36.977Z"
   },
   {
    "duration": 28,
    "start_time": "2023-07-28T02:45:36.981Z"
   },
   {
    "duration": 5,
    "start_time": "2023-07-28T02:45:37.011Z"
   },
   {
    "duration": 14,
    "start_time": "2023-07-28T02:45:37.018Z"
   },
   {
    "duration": 2,
    "start_time": "2023-07-28T02:45:37.034Z"
   },
   {
    "duration": 11,
    "start_time": "2023-07-28T02:45:37.039Z"
   },
   {
    "duration": 3,
    "start_time": "2023-07-28T02:45:37.051Z"
   },
   {
    "duration": 13,
    "start_time": "2023-07-28T02:45:37.055Z"
   },
   {
    "duration": 19,
    "start_time": "2023-07-28T02:45:37.069Z"
   },
   {
    "duration": 2,
    "start_time": "2023-07-28T02:45:37.089Z"
   },
   {
    "duration": 7,
    "start_time": "2023-07-28T02:45:37.093Z"
   },
   {
    "duration": 11,
    "start_time": "2023-07-28T02:45:37.101Z"
   },
   {
    "duration": 3,
    "start_time": "2023-07-28T02:45:37.113Z"
   },
   {
    "duration": 9,
    "start_time": "2023-07-28T02:45:37.117Z"
   },
   {
    "duration": 191,
    "start_time": "2023-07-28T02:45:37.128Z"
   },
   {
    "duration": 2,
    "start_time": "2023-07-28T02:45:37.321Z"
   },
   {
    "duration": 9,
    "start_time": "2023-07-28T02:45:37.325Z"
   },
   {
    "duration": 5,
    "start_time": "2023-07-28T02:45:37.336Z"
   },
   {
    "duration": 14,
    "start_time": "2023-07-28T02:45:37.343Z"
   },
   {
    "duration": 170,
    "start_time": "2023-07-28T02:45:37.375Z"
   },
   {
    "duration": 3,
    "start_time": "2023-07-28T02:45:37.546Z"
   },
   {
    "duration": 465,
    "start_time": "2023-07-28T02:45:37.551Z"
   },
   {
    "duration": 1280,
    "start_time": "2023-07-28T02:45:38.018Z"
   },
   {
    "duration": 2,
    "start_time": "2023-07-28T02:45:39.300Z"
   },
   {
    "duration": 12,
    "start_time": "2023-07-28T02:45:39.304Z"
   },
   {
    "duration": 21,
    "start_time": "2023-07-28T02:45:39.318Z"
   },
   {
    "duration": 8,
    "start_time": "2023-07-28T02:45:39.341Z"
   },
   {
    "duration": 18,
    "start_time": "2023-07-28T02:45:39.351Z"
   },
   {
    "duration": 27,
    "start_time": "2023-07-28T02:45:39.371Z"
   },
   {
    "duration": 54,
    "start_time": "2023-07-28T02:45:39.399Z"
   },
   {
    "duration": 221716,
    "start_time": "2023-07-28T02:45:39.455Z"
   },
   {
    "duration": 218533,
    "start_time": "2023-07-28T02:49:39.479Z"
   },
   {
    "duration": 219407,
    "start_time": "2023-07-28T02:55:17.743Z"
   },
   {
    "duration": 230251,
    "start_time": "2023-07-28T04:11:14.761Z"
   },
   {
    "duration": 11,
    "start_time": "2023-07-28T04:29:29.758Z"
   },
   {
    "duration": 7,
    "start_time": "2023-07-28T04:29:50.494Z"
   },
   {
    "duration": 3,
    "start_time": "2023-07-28T04:35:55.045Z"
   },
   {
    "duration": 1658,
    "start_time": "2023-07-28T04:35:55.050Z"
   },
   {
    "duration": 830,
    "start_time": "2023-07-28T04:35:56.710Z"
   },
   {
    "duration": 34,
    "start_time": "2023-07-28T04:35:57.541Z"
   },
   {
    "duration": 29,
    "start_time": "2023-07-28T04:35:57.578Z"
   },
   {
    "duration": 21,
    "start_time": "2023-07-28T04:35:57.609Z"
   },
   {
    "duration": 21,
    "start_time": "2023-07-28T04:35:57.631Z"
   },
   {
    "duration": 247,
    "start_time": "2023-07-28T04:35:57.654Z"
   },
   {
    "duration": 254,
    "start_time": "2023-07-28T04:35:57.903Z"
   },
   {
    "duration": 255,
    "start_time": "2023-07-28T04:35:58.159Z"
   },
   {
    "duration": 30702,
    "start_time": "2023-07-28T04:35:58.416Z"
   },
   {
    "duration": 367,
    "start_time": "2023-07-28T04:36:29.120Z"
   },
   {
    "duration": 4,
    "start_time": "2023-07-28T04:36:29.489Z"
   },
   {
    "duration": 30,
    "start_time": "2023-07-28T04:36:29.494Z"
   },
   {
    "duration": 24,
    "start_time": "2023-07-28T04:36:29.526Z"
   },
   {
    "duration": 17,
    "start_time": "2023-07-28T04:36:29.552Z"
   },
   {
    "duration": 30,
    "start_time": "2023-07-28T04:36:29.571Z"
   },
   {
    "duration": 3,
    "start_time": "2023-07-28T04:36:29.603Z"
   },
   {
    "duration": 50,
    "start_time": "2023-07-28T04:36:29.608Z"
   },
   {
    "duration": 11,
    "start_time": "2023-07-28T04:36:29.660Z"
   },
   {
    "duration": 22,
    "start_time": "2023-07-28T04:36:29.672Z"
   },
   {
    "duration": 14,
    "start_time": "2023-07-28T04:36:29.702Z"
   },
   {
    "duration": 2,
    "start_time": "2023-07-28T04:36:29.718Z"
   },
   {
    "duration": 14,
    "start_time": "2023-07-28T04:36:29.722Z"
   },
   {
    "duration": 28,
    "start_time": "2023-07-28T04:36:29.737Z"
   },
   {
    "duration": 25,
    "start_time": "2023-07-28T04:36:29.767Z"
   },
   {
    "duration": 11,
    "start_time": "2023-07-28T04:36:29.793Z"
   },
   {
    "duration": 8,
    "start_time": "2023-07-28T04:36:29.811Z"
   },
   {
    "duration": 5,
    "start_time": "2023-07-28T04:36:29.823Z"
   },
   {
    "duration": 13,
    "start_time": "2023-07-28T04:36:29.829Z"
   },
   {
    "duration": 52,
    "start_time": "2023-07-28T04:36:29.844Z"
   },
   {
    "duration": 7,
    "start_time": "2023-07-28T04:36:29.899Z"
   },
   {
    "duration": 15,
    "start_time": "2023-07-28T04:36:29.907Z"
   },
   {
    "duration": 15,
    "start_time": "2023-07-28T04:36:29.924Z"
   },
   {
    "duration": 3,
    "start_time": "2023-07-28T04:36:29.941Z"
   },
   {
    "duration": 25,
    "start_time": "2023-07-28T04:36:29.945Z"
   },
   {
    "duration": 225,
    "start_time": "2023-07-28T04:36:29.972Z"
   },
   {
    "duration": 3,
    "start_time": "2023-07-28T04:36:30.202Z"
   },
   {
    "duration": 38,
    "start_time": "2023-07-28T04:36:30.206Z"
   },
   {
    "duration": 39,
    "start_time": "2023-07-28T04:36:30.246Z"
   },
   {
    "duration": 50,
    "start_time": "2023-07-28T04:36:30.287Z"
   },
   {
    "duration": 219,
    "start_time": "2023-07-28T04:36:30.339Z"
   },
   {
    "duration": 3,
    "start_time": "2023-07-28T04:36:30.559Z"
   },
   {
    "duration": 599,
    "start_time": "2023-07-28T04:36:30.563Z"
   },
   {
    "duration": 1342,
    "start_time": "2023-07-28T04:36:31.164Z"
   },
   {
    "duration": 2,
    "start_time": "2023-07-28T04:36:32.508Z"
   },
   {
    "duration": 52,
    "start_time": "2023-07-28T04:36:32.512Z"
   },
   {
    "duration": 70,
    "start_time": "2023-07-28T04:36:32.566Z"
   },
   {
    "duration": 70,
    "start_time": "2023-07-28T04:36:32.637Z"
   },
   {
    "duration": 24,
    "start_time": "2023-07-28T04:36:32.709Z"
   },
   {
    "duration": 126,
    "start_time": "2023-07-28T04:36:32.734Z"
   },
   {
    "duration": 261,
    "start_time": "2023-07-28T04:36:32.861Z"
   },
   {
    "duration": 245864,
    "start_time": "2023-07-28T04:36:33.124Z"
   },
   {
    "duration": 248662,
    "start_time": "2023-07-28T04:40:38.998Z"
   },
   {
    "duration": 378611,
    "start_time": "2023-07-28T04:44:47.661Z"
   },
   {
    "duration": 13876,
    "start_time": "2023-07-28T04:58:10.351Z"
   },
   {
    "duration": 534,
    "start_time": "2023-07-28T05:02:33.255Z"
   },
   {
    "duration": 15032,
    "start_time": "2023-07-28T05:10:49.767Z"
   },
   {
    "duration": 5,
    "start_time": "2023-07-28T05:12:47.929Z"
   },
   {
    "duration": 5,
    "start_time": "2023-07-28T05:13:08.533Z"
   },
   {
    "duration": 9,
    "start_time": "2023-07-28T05:14:05.671Z"
   },
   {
    "duration": 12325,
    "start_time": "2023-07-28T05:15:11.752Z"
   },
   {
    "duration": 3,
    "start_time": "2023-07-28T05:20:27.153Z"
   },
   {
    "duration": 4,
    "start_time": "2023-07-28T05:20:35.828Z"
   },
   {
    "duration": 13,
    "start_time": "2023-07-28T05:20:52.299Z"
   },
   {
    "duration": 23045,
    "start_time": "2023-07-28T05:26:01.948Z"
   },
   {
    "duration": 5,
    "start_time": "2023-07-28T05:33:27.916Z"
   },
   {
    "duration": 21,
    "start_time": "2023-07-28T05:33:49.701Z"
   },
   {
    "duration": 564,
    "start_time": "2023-07-28T05:41:04.059Z"
   },
   {
    "duration": 430,
    "start_time": "2023-07-28T05:41:48.271Z"
   },
   {
    "duration": 412,
    "start_time": "2023-07-28T05:42:31.411Z"
   },
   {
    "duration": 614,
    "start_time": "2023-07-28T05:44:51.332Z"
   },
   {
    "duration": 708,
    "start_time": "2023-07-28T05:45:35.229Z"
   },
   {
    "duration": 3,
    "start_time": "2023-07-28T05:46:05.442Z"
   },
   {
    "duration": 4,
    "start_time": "2023-07-28T05:50:36.562Z"
   },
   {
    "duration": 1730,
    "start_time": "2023-07-28T05:50:36.568Z"
   },
   {
    "duration": 963,
    "start_time": "2023-07-28T05:50:38.301Z"
   },
   {
    "duration": 47,
    "start_time": "2023-07-28T05:50:39.267Z"
   },
   {
    "duration": 22,
    "start_time": "2023-07-28T05:50:39.320Z"
   },
   {
    "duration": 12,
    "start_time": "2023-07-28T05:50:39.344Z"
   },
   {
    "duration": 44,
    "start_time": "2023-07-28T05:50:39.357Z"
   },
   {
    "duration": 268,
    "start_time": "2023-07-28T05:50:39.404Z"
   },
   {
    "duration": 270,
    "start_time": "2023-07-28T05:50:39.694Z"
   },
   {
    "duration": 299,
    "start_time": "2023-07-28T05:50:39.968Z"
   },
   {
    "duration": 36740,
    "start_time": "2023-07-28T05:50:40.269Z"
   },
   {
    "duration": 398,
    "start_time": "2023-07-28T05:51:17.011Z"
   },
   {
    "duration": 3,
    "start_time": "2023-07-28T05:51:17.411Z"
   },
   {
    "duration": 12,
    "start_time": "2023-07-28T05:51:17.416Z"
   },
   {
    "duration": 25,
    "start_time": "2023-07-28T05:51:17.430Z"
   },
   {
    "duration": 51,
    "start_time": "2023-07-28T05:51:17.457Z"
   },
   {
    "duration": 43,
    "start_time": "2023-07-28T05:51:17.510Z"
   },
   {
    "duration": 34,
    "start_time": "2023-07-28T05:51:17.554Z"
   },
   {
    "duration": 26,
    "start_time": "2023-07-28T05:51:17.590Z"
   },
   {
    "duration": 9,
    "start_time": "2023-07-28T05:51:17.618Z"
   },
   {
    "duration": 26,
    "start_time": "2023-07-28T05:51:17.629Z"
   },
   {
    "duration": 25,
    "start_time": "2023-07-28T05:51:17.657Z"
   },
   {
    "duration": 11,
    "start_time": "2023-07-28T05:51:17.693Z"
   },
   {
    "duration": 14,
    "start_time": "2023-07-28T05:51:17.711Z"
   },
   {
    "duration": 20,
    "start_time": "2023-07-28T05:51:17.729Z"
   },
   {
    "duration": 30,
    "start_time": "2023-07-28T05:51:17.751Z"
   },
   {
    "duration": 18,
    "start_time": "2023-07-28T05:51:17.784Z"
   },
   {
    "duration": 19,
    "start_time": "2023-07-28T05:51:17.806Z"
   },
   {
    "duration": 8,
    "start_time": "2023-07-28T05:51:17.827Z"
   },
   {
    "duration": 32,
    "start_time": "2023-07-28T05:51:17.836Z"
   },
   {
    "duration": 27,
    "start_time": "2023-07-28T05:51:17.870Z"
   },
   {
    "duration": 8,
    "start_time": "2023-07-28T05:51:17.899Z"
   },
   {
    "duration": 17,
    "start_time": "2023-07-28T05:51:17.909Z"
   },
   {
    "duration": 14,
    "start_time": "2023-07-28T05:51:17.929Z"
   },
   {
    "duration": 11,
    "start_time": "2023-07-28T05:51:17.945Z"
   },
   {
    "duration": 32,
    "start_time": "2023-07-28T05:51:17.958Z"
   },
   {
    "duration": 293,
    "start_time": "2023-07-28T05:51:17.992Z"
   },
   {
    "duration": 4,
    "start_time": "2023-07-28T05:51:18.287Z"
   },
   {
    "duration": 20,
    "start_time": "2023-07-28T05:51:18.293Z"
   },
   {
    "duration": 22,
    "start_time": "2023-07-28T05:51:18.315Z"
   },
   {
    "duration": 56,
    "start_time": "2023-07-28T05:51:18.338Z"
   },
   {
    "duration": 247,
    "start_time": "2023-07-28T05:51:18.398Z"
   },
   {
    "duration": 3,
    "start_time": "2023-07-28T05:51:18.647Z"
   },
   {
    "duration": 604,
    "start_time": "2023-07-28T05:51:24.536Z"
   },
   {
    "duration": 622,
    "start_time": "2023-07-28T05:54:46.618Z"
   },
   {
    "duration": 475,
    "start_time": "2023-07-28T06:02:45.597Z"
   },
   {
    "duration": 9,
    "start_time": "2023-07-28T06:04:56.415Z"
   },
   {
    "duration": 2011,
    "start_time": "2023-07-28T06:04:56.427Z"
   },
   {
    "duration": 1095,
    "start_time": "2023-07-28T06:04:58.440Z"
   },
   {
    "duration": 49,
    "start_time": "2023-07-28T06:04:59.538Z"
   },
   {
    "duration": 30,
    "start_time": "2023-07-28T06:04:59.603Z"
   },
   {
    "duration": 19,
    "start_time": "2023-07-28T06:04:59.635Z"
   },
   {
    "duration": 35,
    "start_time": "2023-07-28T06:04:59.656Z"
   },
   {
    "duration": 318,
    "start_time": "2023-07-28T06:04:59.702Z"
   },
   {
    "duration": 345,
    "start_time": "2023-07-28T06:05:00.026Z"
   },
   {
    "duration": 358,
    "start_time": "2023-07-28T06:05:00.373Z"
   },
   {
    "duration": 38027,
    "start_time": "2023-07-28T06:05:00.736Z"
   },
   {
    "duration": 446,
    "start_time": "2023-07-28T06:05:38.765Z"
   },
   {
    "duration": 6,
    "start_time": "2023-07-28T06:05:39.217Z"
   },
   {
    "duration": 17,
    "start_time": "2023-07-28T06:05:39.227Z"
   },
   {
    "duration": 13,
    "start_time": "2023-07-28T06:05:39.246Z"
   },
   {
    "duration": 30,
    "start_time": "2023-07-28T06:05:39.261Z"
   },
   {
    "duration": 10,
    "start_time": "2023-07-28T06:05:39.294Z"
   },
   {
    "duration": 17,
    "start_time": "2023-07-28T06:05:39.308Z"
   },
   {
    "duration": 15,
    "start_time": "2023-07-28T06:05:39.328Z"
   },
   {
    "duration": 18,
    "start_time": "2023-07-28T06:05:39.345Z"
   },
   {
    "duration": 4,
    "start_time": "2023-07-28T06:05:39.365Z"
   },
   {
    "duration": 34,
    "start_time": "2023-07-28T06:05:39.371Z"
   },
   {
    "duration": 6,
    "start_time": "2023-07-28T06:05:39.407Z"
   },
   {
    "duration": 21,
    "start_time": "2023-07-28T06:05:39.416Z"
   },
   {
    "duration": 2,
    "start_time": "2023-07-28T06:05:39.439Z"
   },
   {
    "duration": 14,
    "start_time": "2023-07-28T06:05:39.443Z"
   },
   {
    "duration": 6,
    "start_time": "2023-07-28T06:05:39.459Z"
   },
   {
    "duration": 29,
    "start_time": "2023-07-28T06:05:39.467Z"
   },
   {
    "duration": 10,
    "start_time": "2023-07-28T06:05:39.498Z"
   },
   {
    "duration": 10,
    "start_time": "2023-07-28T06:05:39.510Z"
   },
   {
    "duration": 17,
    "start_time": "2023-07-28T06:05:39.522Z"
   },
   {
    "duration": 2,
    "start_time": "2023-07-28T06:05:39.543Z"
   },
   {
    "duration": 16,
    "start_time": "2023-07-28T06:05:39.546Z"
   },
   {
    "duration": 33,
    "start_time": "2023-07-28T06:05:39.563Z"
   },
   {
    "duration": 4,
    "start_time": "2023-07-28T06:05:39.598Z"
   },
   {
    "duration": 17,
    "start_time": "2023-07-28T06:05:39.603Z"
   },
   {
    "duration": 271,
    "start_time": "2023-07-28T06:05:39.622Z"
   },
   {
    "duration": 4,
    "start_time": "2023-07-28T06:05:39.903Z"
   },
   {
    "duration": 29,
    "start_time": "2023-07-28T06:05:39.908Z"
   },
   {
    "duration": 10,
    "start_time": "2023-07-28T06:05:39.939Z"
   },
   {
    "duration": 19,
    "start_time": "2023-07-28T06:05:39.952Z"
   },
   {
    "duration": 249,
    "start_time": "2023-07-28T06:05:39.972Z"
   },
   {
    "duration": 11,
    "start_time": "2023-07-28T06:05:40.228Z"
   },
   {
    "duration": 11,
    "start_time": "2023-07-28T06:05:46.632Z"
   },
   {
    "duration": 34,
    "start_time": "2023-07-28T06:06:29.792Z"
   },
   {
    "duration": 222,
    "start_time": "2023-07-28T06:10:10.810Z"
   },
   {
    "duration": 34,
    "start_time": "2023-07-28T06:16:19.119Z"
   },
   {
    "duration": 7,
    "start_time": "2023-07-28T06:16:39.418Z"
   },
   {
    "duration": 2014,
    "start_time": "2023-07-28T06:16:39.427Z"
   },
   {
    "duration": 1192,
    "start_time": "2023-07-28T06:16:41.443Z"
   },
   {
    "duration": 42,
    "start_time": "2023-07-28T06:16:42.644Z"
   },
   {
    "duration": 42,
    "start_time": "2023-07-28T06:16:42.695Z"
   },
   {
    "duration": 17,
    "start_time": "2023-07-28T06:16:42.741Z"
   },
   {
    "duration": 31,
    "start_time": "2023-07-28T06:16:42.760Z"
   },
   {
    "duration": 309,
    "start_time": "2023-07-28T06:16:42.802Z"
   },
   {
    "duration": 298,
    "start_time": "2023-07-28T06:16:43.116Z"
   },
   {
    "duration": 296,
    "start_time": "2023-07-28T06:16:43.416Z"
   },
   {
    "duration": 41746,
    "start_time": "2023-07-28T06:16:43.717Z"
   },
   {
    "duration": 465,
    "start_time": "2023-07-28T06:17:25.465Z"
   },
   {
    "duration": 11,
    "start_time": "2023-07-28T06:17:25.939Z"
   },
   {
    "duration": 9,
    "start_time": "2023-07-28T06:17:25.955Z"
   },
   {
    "duration": 3,
    "start_time": "2023-07-28T06:17:25.965Z"
   },
   {
    "duration": 17,
    "start_time": "2023-07-28T06:17:25.969Z"
   },
   {
    "duration": 8,
    "start_time": "2023-07-28T06:17:25.988Z"
   },
   {
    "duration": 15,
    "start_time": "2023-07-28T06:17:25.998Z"
   },
   {
    "duration": 23,
    "start_time": "2023-07-28T06:17:26.015Z"
   },
   {
    "duration": 3,
    "start_time": "2023-07-28T06:17:26.040Z"
   },
   {
    "duration": 20,
    "start_time": "2023-07-28T06:17:26.045Z"
   },
   {
    "duration": 46,
    "start_time": "2023-07-28T06:17:26.067Z"
   },
   {
    "duration": 16,
    "start_time": "2023-07-28T06:17:26.117Z"
   },
   {
    "duration": 25,
    "start_time": "2023-07-28T06:17:26.141Z"
   },
   {
    "duration": 17,
    "start_time": "2023-07-28T06:17:26.168Z"
   },
   {
    "duration": 28,
    "start_time": "2023-07-28T06:17:26.193Z"
   },
   {
    "duration": 18,
    "start_time": "2023-07-28T06:17:26.223Z"
   },
   {
    "duration": 12,
    "start_time": "2023-07-28T06:17:26.243Z"
   },
   {
    "duration": 2,
    "start_time": "2023-07-28T06:17:26.257Z"
   },
   {
    "duration": 2,
    "start_time": "2023-07-28T06:17:26.261Z"
   },
   {
    "duration": 23,
    "start_time": "2023-07-28T06:17:26.266Z"
   },
   {
    "duration": 7,
    "start_time": "2023-07-28T06:17:26.294Z"
   },
   {
    "duration": 9,
    "start_time": "2023-07-28T06:17:26.303Z"
   },
   {
    "duration": 27,
    "start_time": "2023-07-28T06:17:26.317Z"
   },
   {
    "duration": 3,
    "start_time": "2023-07-28T06:17:26.352Z"
   },
   {
    "duration": 13,
    "start_time": "2023-07-28T06:17:26.357Z"
   },
   {
    "duration": 298,
    "start_time": "2023-07-28T06:17:26.371Z"
   },
   {
    "duration": 160,
    "start_time": "2023-07-28T06:17:42.409Z"
   },
   {
    "duration": 17,
    "start_time": "2023-07-28T06:21:04.928Z"
   },
   {
    "duration": 8,
    "start_time": "2023-07-28T06:27:57.724Z"
   },
   {
    "duration": 3,
    "start_time": "2023-07-28T06:28:08.141Z"
   },
   {
    "duration": 1792,
    "start_time": "2023-07-28T06:28:08.147Z"
   },
   {
    "duration": 1121,
    "start_time": "2023-07-28T06:28:09.942Z"
   },
   {
    "duration": 44,
    "start_time": "2023-07-28T06:28:11.064Z"
   },
   {
    "duration": 25,
    "start_time": "2023-07-28T06:28:11.110Z"
   },
   {
    "duration": 16,
    "start_time": "2023-07-28T06:28:11.137Z"
   },
   {
    "duration": 78,
    "start_time": "2023-07-28T06:28:11.154Z"
   },
   {
    "duration": 274,
    "start_time": "2023-07-28T06:28:11.237Z"
   },
   {
    "duration": 311,
    "start_time": "2023-07-28T06:28:11.512Z"
   },
   {
    "duration": 282,
    "start_time": "2023-07-28T06:28:11.835Z"
   },
   {
    "duration": 37836,
    "start_time": "2023-07-28T06:28:12.119Z"
   },
   {
    "duration": 575,
    "start_time": "2023-07-28T06:28:49.957Z"
   },
   {
    "duration": 6,
    "start_time": "2023-07-28T06:28:50.541Z"
   },
   {
    "duration": 78,
    "start_time": "2023-07-28T06:28:50.551Z"
   },
   {
    "duration": 24,
    "start_time": "2023-07-28T06:28:50.636Z"
   },
   {
    "duration": 5,
    "start_time": "2023-07-28T06:28:50.662Z"
   },
   {
    "duration": 28,
    "start_time": "2023-07-28T06:28:50.669Z"
   },
   {
    "duration": 19,
    "start_time": "2023-07-28T06:28:50.699Z"
   },
   {
    "duration": 18,
    "start_time": "2023-07-28T06:28:50.723Z"
   },
   {
    "duration": 10,
    "start_time": "2023-07-28T06:28:50.743Z"
   },
   {
    "duration": 25,
    "start_time": "2023-07-28T06:28:50.759Z"
   },
   {
    "duration": 37,
    "start_time": "2023-07-28T06:28:50.788Z"
   },
   {
    "duration": 9,
    "start_time": "2023-07-28T06:28:50.827Z"
   },
   {
    "duration": 12,
    "start_time": "2023-07-28T06:28:50.840Z"
   },
   {
    "duration": 7,
    "start_time": "2023-07-28T06:28:50.854Z"
   },
   {
    "duration": 13,
    "start_time": "2023-07-28T06:28:50.863Z"
   },
   {
    "duration": 41,
    "start_time": "2023-07-28T06:28:50.878Z"
   },
   {
    "duration": 45,
    "start_time": "2023-07-28T06:28:50.921Z"
   },
   {
    "duration": 13,
    "start_time": "2023-07-28T06:28:50.968Z"
   },
   {
    "duration": 28,
    "start_time": "2023-07-28T06:28:50.982Z"
   },
   {
    "duration": 31,
    "start_time": "2023-07-28T06:28:51.012Z"
   },
   {
    "duration": 8,
    "start_time": "2023-07-28T06:28:51.045Z"
   },
   {
    "duration": 7,
    "start_time": "2023-07-28T06:28:51.055Z"
   },
   {
    "duration": 28,
    "start_time": "2023-07-28T06:28:51.064Z"
   },
   {
    "duration": 5,
    "start_time": "2023-07-28T06:28:51.096Z"
   },
   {
    "duration": 17,
    "start_time": "2023-07-28T06:28:51.104Z"
   },
   {
    "duration": 9,
    "start_time": "2023-07-28T06:28:51.123Z"
   },
   {
    "duration": 24,
    "start_time": "2023-07-28T06:28:51.133Z"
   },
   {
    "duration": 178,
    "start_time": "2023-07-28T06:29:12.935Z"
   },
   {
    "duration": 3,
    "start_time": "2023-07-28T06:33:02.652Z"
   },
   {
    "duration": 1530,
    "start_time": "2023-07-28T06:33:02.657Z"
   },
   {
    "duration": 896,
    "start_time": "2023-07-28T06:33:04.195Z"
   },
   {
    "duration": 31,
    "start_time": "2023-07-28T06:33:05.094Z"
   },
   {
    "duration": 17,
    "start_time": "2023-07-28T06:33:05.127Z"
   },
   {
    "duration": 11,
    "start_time": "2023-07-28T06:33:05.145Z"
   },
   {
    "duration": 40,
    "start_time": "2023-07-28T06:33:05.157Z"
   },
   {
    "duration": 250,
    "start_time": "2023-07-28T06:33:05.199Z"
   },
   {
    "duration": 268,
    "start_time": "2023-07-28T06:33:05.451Z"
   },
   {
    "duration": 277,
    "start_time": "2023-07-28T06:33:05.720Z"
   },
   {
    "duration": 34205,
    "start_time": "2023-07-28T06:33:06.004Z"
   },
   {
    "duration": 440,
    "start_time": "2023-07-28T06:33:40.212Z"
   },
   {
    "duration": 3,
    "start_time": "2023-07-28T06:33:40.654Z"
   },
   {
    "duration": 46,
    "start_time": "2023-07-28T06:33:40.659Z"
   },
   {
    "duration": 20,
    "start_time": "2023-07-28T06:33:40.717Z"
   },
   {
    "duration": 70,
    "start_time": "2023-07-28T06:33:40.739Z"
   },
   {
    "duration": 49,
    "start_time": "2023-07-28T06:33:40.812Z"
   },
   {
    "duration": 44,
    "start_time": "2023-07-28T06:33:40.863Z"
   },
   {
    "duration": 34,
    "start_time": "2023-07-28T06:33:40.911Z"
   },
   {
    "duration": 61,
    "start_time": "2023-07-28T06:33:40.947Z"
   },
   {
    "duration": 15,
    "start_time": "2023-07-28T06:33:41.011Z"
   },
   {
    "duration": 20,
    "start_time": "2023-07-28T06:33:41.028Z"
   },
   {
    "duration": 2,
    "start_time": "2023-07-28T06:33:41.050Z"
   },
   {
    "duration": 10,
    "start_time": "2023-07-28T06:33:41.056Z"
   },
   {
    "duration": 28,
    "start_time": "2023-07-28T06:33:41.068Z"
   },
   {
    "duration": 25,
    "start_time": "2023-07-28T06:33:41.098Z"
   },
   {
    "duration": 11,
    "start_time": "2023-07-28T06:33:41.125Z"
   },
   {
    "duration": 20,
    "start_time": "2023-07-28T06:33:41.138Z"
   },
   {
    "duration": 11,
    "start_time": "2023-07-28T06:33:41.160Z"
   },
   {
    "duration": 21,
    "start_time": "2023-07-28T06:33:41.172Z"
   },
   {
    "duration": 30,
    "start_time": "2023-07-28T06:33:41.195Z"
   },
   {
    "duration": 23,
    "start_time": "2023-07-28T06:33:41.227Z"
   },
   {
    "duration": 12,
    "start_time": "2023-07-28T06:33:41.252Z"
   },
   {
    "duration": 15,
    "start_time": "2023-07-28T06:33:41.265Z"
   },
   {
    "duration": 14,
    "start_time": "2023-07-28T06:33:41.286Z"
   },
   {
    "duration": 23,
    "start_time": "2023-07-28T06:33:41.302Z"
   },
   {
    "duration": 15,
    "start_time": "2023-07-28T06:33:41.326Z"
   },
   {
    "duration": 43,
    "start_time": "2023-07-28T06:33:41.343Z"
   },
   {
    "duration": 8,
    "start_time": "2023-07-28T06:33:41.388Z"
   },
   {
    "duration": 17,
    "start_time": "2023-07-28T06:33:41.397Z"
   },
   {
    "duration": 3,
    "start_time": "2023-07-28T06:33:41.416Z"
   },
   {
    "duration": 38,
    "start_time": "2023-07-28T06:33:41.421Z"
   },
   {
    "duration": 220,
    "start_time": "2023-07-28T06:33:41.460Z"
   },
   {
    "duration": 9,
    "start_time": "2023-07-28T06:33:41.690Z"
   },
   {
    "duration": 552,
    "start_time": "2023-07-28T06:33:41.705Z"
   },
   {
    "duration": 9,
    "start_time": "2023-07-28T06:33:42.258Z"
   },
   {
    "duration": 26,
    "start_time": "2023-07-28T06:33:42.269Z"
   },
   {
    "duration": 973,
    "start_time": "2023-07-28T06:33:42.296Z"
   },
   {
    "duration": 4,
    "start_time": "2023-07-28T06:33:43.270Z"
   },
   {
    "duration": 70,
    "start_time": "2023-07-28T06:33:43.276Z"
   },
   {
    "duration": 19,
    "start_time": "2023-07-28T06:33:43.348Z"
   },
   {
    "duration": 41,
    "start_time": "2023-07-28T06:33:43.368Z"
   },
   {
    "duration": 30,
    "start_time": "2023-07-28T06:33:43.411Z"
   },
   {
    "duration": 53,
    "start_time": "2023-07-28T06:33:43.442Z"
   },
   {
    "duration": 44,
    "start_time": "2023-07-28T06:33:43.496Z"
   },
   {
    "duration": 238605,
    "start_time": "2023-07-28T06:33:43.542Z"
   },
   {
    "duration": 265300,
    "start_time": "2023-07-28T06:37:42.149Z"
   },
   {
    "duration": 384350,
    "start_time": "2023-07-28T06:42:07.451Z"
   },
   {
    "duration": 22365,
    "start_time": "2023-07-28T06:48:31.802Z"
   },
   {
    "duration": 31,
    "start_time": "2023-07-28T06:48:54.169Z"
   },
   {
    "duration": 4,
    "start_time": "2023-07-28T18:53:21.534Z"
   },
   {
    "duration": 4611,
    "start_time": "2023-07-28T18:53:21.541Z"
   },
   {
    "duration": 2056,
    "start_time": "2023-07-28T18:53:26.153Z"
   },
   {
    "duration": 34,
    "start_time": "2023-07-28T18:53:28.210Z"
   },
   {
    "duration": 18,
    "start_time": "2023-07-28T18:53:28.246Z"
   },
   {
    "duration": 11,
    "start_time": "2023-07-28T18:53:28.265Z"
   },
   {
    "duration": 15,
    "start_time": "2023-07-28T18:53:28.278Z"
   },
   {
    "duration": 232,
    "start_time": "2023-07-28T18:53:28.294Z"
   },
   {
    "duration": 235,
    "start_time": "2023-07-28T18:53:28.528Z"
   },
   {
    "duration": 222,
    "start_time": "2023-07-28T18:53:28.764Z"
   },
   {
    "duration": 26448,
    "start_time": "2023-07-28T18:53:28.988Z"
   },
   {
    "duration": 399,
    "start_time": "2023-07-28T18:53:55.438Z"
   },
   {
    "duration": 3,
    "start_time": "2023-07-28T18:53:55.839Z"
   },
   {
    "duration": 9,
    "start_time": "2023-07-28T18:53:55.845Z"
   },
   {
    "duration": 9,
    "start_time": "2023-07-28T18:53:55.855Z"
   },
   {
    "duration": 11,
    "start_time": "2023-07-28T18:53:55.866Z"
   },
   {
    "duration": 15,
    "start_time": "2023-07-28T18:53:55.879Z"
   },
   {
    "duration": 13,
    "start_time": "2023-07-28T18:53:55.895Z"
   },
   {
    "duration": 8,
    "start_time": "2023-07-28T18:53:55.909Z"
   },
   {
    "duration": 2,
    "start_time": "2023-07-28T18:53:55.918Z"
   },
   {
    "duration": 9,
    "start_time": "2023-07-28T18:53:55.923Z"
   },
   {
    "duration": 24,
    "start_time": "2023-07-28T18:53:55.934Z"
   },
   {
    "duration": 12,
    "start_time": "2023-07-28T18:53:55.960Z"
   },
   {
    "duration": 5,
    "start_time": "2023-07-28T18:53:55.974Z"
   },
   {
    "duration": 5,
    "start_time": "2023-07-28T18:53:55.981Z"
   },
   {
    "duration": 12,
    "start_time": "2023-07-28T18:53:55.987Z"
   },
   {
    "duration": 6,
    "start_time": "2023-07-28T18:53:56.001Z"
   },
   {
    "duration": 9,
    "start_time": "2023-07-28T18:53:56.009Z"
   },
   {
    "duration": 16,
    "start_time": "2023-07-28T18:53:56.019Z"
   },
   {
    "duration": 13,
    "start_time": "2023-07-28T18:53:56.038Z"
   },
   {
    "duration": 13,
    "start_time": "2023-07-28T18:53:56.053Z"
   },
   {
    "duration": 2,
    "start_time": "2023-07-28T18:53:56.067Z"
   },
   {
    "duration": 29,
    "start_time": "2023-07-28T18:53:56.071Z"
   },
   {
    "duration": 10,
    "start_time": "2023-07-28T18:53:56.101Z"
   },
   {
    "duration": 2,
    "start_time": "2023-07-28T18:53:56.113Z"
   },
   {
    "duration": 15,
    "start_time": "2023-07-28T18:53:56.117Z"
   },
   {
    "duration": 8,
    "start_time": "2023-07-28T18:53:56.134Z"
   },
   {
    "duration": 9,
    "start_time": "2023-07-28T18:53:56.143Z"
   },
   {
    "duration": 7,
    "start_time": "2023-07-28T18:53:56.153Z"
   },
   {
    "duration": 15,
    "start_time": "2023-07-28T18:53:56.161Z"
   },
   {
    "duration": 12,
    "start_time": "2023-07-28T18:53:56.180Z"
   },
   {
    "duration": 17,
    "start_time": "2023-07-28T18:53:56.193Z"
   },
   {
    "duration": 179,
    "start_time": "2023-07-28T18:53:56.212Z"
   },
   {
    "duration": 2,
    "start_time": "2023-07-28T18:53:56.393Z"
   },
   {
    "duration": 449,
    "start_time": "2023-07-28T18:53:56.396Z"
   },
   {
    "duration": 9,
    "start_time": "2023-07-28T18:53:56.846Z"
   },
   {
    "duration": 8,
    "start_time": "2023-07-28T18:53:56.857Z"
   },
   {
    "duration": 762,
    "start_time": "2023-07-28T18:53:56.866Z"
   },
   {
    "duration": 4,
    "start_time": "2023-07-28T18:53:57.629Z"
   },
   {
    "duration": 15,
    "start_time": "2023-07-28T18:53:57.634Z"
   },
   {
    "duration": 6,
    "start_time": "2023-07-28T18:53:57.651Z"
   },
   {
    "duration": 10,
    "start_time": "2023-07-28T18:53:57.658Z"
   },
   {
    "duration": 10,
    "start_time": "2023-07-28T18:53:57.670Z"
   },
   {
    "duration": 6,
    "start_time": "2023-07-28T18:53:57.682Z"
   },
   {
    "duration": 363,
    "start_time": "2023-07-28T18:53:57.690Z"
   },
   {
    "duration": 15,
    "start_time": "2023-07-28T18:55:26.262Z"
   },
   {
    "duration": 109,
    "start_time": "2023-07-28T19:03:07.437Z"
   },
   {
    "duration": 8,
    "start_time": "2023-07-28T19:03:36.252Z"
   },
   {
    "duration": 24,
    "start_time": "2023-07-28T19:04:50.023Z"
   },
   {
    "duration": 4,
    "start_time": "2023-07-29T05:18:09.645Z"
   },
   {
    "duration": 1552,
    "start_time": "2023-07-29T05:18:09.651Z"
   },
   {
    "duration": 1948,
    "start_time": "2023-07-29T05:18:11.204Z"
   },
   {
    "duration": 24,
    "start_time": "2023-07-29T05:18:13.154Z"
   },
   {
    "duration": 52,
    "start_time": "2023-07-29T05:18:13.180Z"
   },
   {
    "duration": 12,
    "start_time": "2023-07-29T05:18:13.233Z"
   },
   {
    "duration": 16,
    "start_time": "2023-07-29T05:18:13.247Z"
   },
   {
    "duration": 211,
    "start_time": "2023-07-29T05:18:13.265Z"
   },
   {
    "duration": 235,
    "start_time": "2023-07-29T05:18:13.478Z"
   },
   {
    "duration": 211,
    "start_time": "2023-07-29T05:18:13.715Z"
   },
   {
    "duration": 24519,
    "start_time": "2023-07-29T05:18:13.927Z"
   },
   {
    "duration": 380,
    "start_time": "2023-07-29T05:18:38.448Z"
   },
   {
    "duration": 2,
    "start_time": "2023-07-29T05:18:38.831Z"
   },
   {
    "duration": 9,
    "start_time": "2023-07-29T05:18:38.835Z"
   },
   {
    "duration": 12,
    "start_time": "2023-07-29T05:18:38.845Z"
   },
   {
    "duration": 6,
    "start_time": "2023-07-29T05:18:38.858Z"
   },
   {
    "duration": 7,
    "start_time": "2023-07-29T05:18:38.866Z"
   },
   {
    "duration": 8,
    "start_time": "2023-07-29T05:18:38.874Z"
   },
   {
    "duration": 9,
    "start_time": "2023-07-29T05:18:38.883Z"
   },
   {
    "duration": 2,
    "start_time": "2023-07-29T05:18:38.894Z"
   },
   {
    "duration": 3,
    "start_time": "2023-07-29T05:18:38.898Z"
   },
   {
    "duration": 9,
    "start_time": "2023-07-29T05:18:38.903Z"
   },
   {
    "duration": 6,
    "start_time": "2023-07-29T05:18:38.913Z"
   },
   {
    "duration": 8,
    "start_time": "2023-07-29T05:18:38.920Z"
   },
   {
    "duration": 9,
    "start_time": "2023-07-29T05:18:38.929Z"
   },
   {
    "duration": 7,
    "start_time": "2023-07-29T05:18:38.939Z"
   },
   {
    "duration": 8,
    "start_time": "2023-07-29T05:18:38.947Z"
   },
   {
    "duration": 7,
    "start_time": "2023-07-29T05:18:38.956Z"
   },
   {
    "duration": 4,
    "start_time": "2023-07-29T05:18:38.964Z"
   },
   {
    "duration": 7,
    "start_time": "2023-07-29T05:18:38.969Z"
   },
   {
    "duration": 12,
    "start_time": "2023-07-29T05:18:38.977Z"
   },
   {
    "duration": 9,
    "start_time": "2023-07-29T05:18:38.991Z"
   },
   {
    "duration": 7,
    "start_time": "2023-07-29T05:18:39.001Z"
   },
   {
    "duration": 9,
    "start_time": "2023-07-29T05:18:39.009Z"
   },
   {
    "duration": 2,
    "start_time": "2023-07-29T05:18:39.020Z"
   },
   {
    "duration": 13,
    "start_time": "2023-07-29T05:18:39.024Z"
   },
   {
    "duration": 2,
    "start_time": "2023-07-29T05:18:39.041Z"
   },
   {
    "duration": 8,
    "start_time": "2023-07-29T05:18:39.044Z"
   },
   {
    "duration": 3,
    "start_time": "2023-07-29T05:18:39.054Z"
   },
   {
    "duration": 5,
    "start_time": "2023-07-29T05:18:39.059Z"
   },
   {
    "duration": 6,
    "start_time": "2023-07-29T05:18:39.065Z"
   },
   {
    "duration": 28,
    "start_time": "2023-07-29T05:18:39.072Z"
   },
   {
    "duration": 180,
    "start_time": "2023-07-29T05:18:39.102Z"
   },
   {
    "duration": 3,
    "start_time": "2023-07-29T05:18:39.284Z"
   },
   {
    "duration": 421,
    "start_time": "2023-07-29T05:18:39.288Z"
   },
   {
    "duration": 7,
    "start_time": "2023-07-29T05:18:39.710Z"
   },
   {
    "duration": 13,
    "start_time": "2023-07-29T05:18:39.719Z"
   },
   {
    "duration": 741,
    "start_time": "2023-07-29T05:19:15.685Z"
   },
   {
    "duration": 3,
    "start_time": "2023-07-29T05:37:13.450Z"
   },
   {
    "duration": 1261,
    "start_time": "2023-07-29T05:37:13.454Z"
   },
   {
    "duration": 668,
    "start_time": "2023-07-29T05:37:14.717Z"
   },
   {
    "duration": 32,
    "start_time": "2023-07-29T05:37:15.387Z"
   },
   {
    "duration": 15,
    "start_time": "2023-07-29T05:37:15.421Z"
   },
   {
    "duration": 10,
    "start_time": "2023-07-29T05:37:15.438Z"
   },
   {
    "duration": 14,
    "start_time": "2023-07-29T05:37:15.449Z"
   },
   {
    "duration": 241,
    "start_time": "2023-07-29T05:37:15.464Z"
   },
   {
    "duration": 228,
    "start_time": "2023-07-29T05:37:15.707Z"
   },
   {
    "duration": 220,
    "start_time": "2023-07-29T05:37:15.936Z"
   },
   {
    "duration": 24952,
    "start_time": "2023-07-29T05:37:16.158Z"
   },
   {
    "duration": 400,
    "start_time": "2023-07-29T05:37:41.112Z"
   },
   {
    "duration": 3,
    "start_time": "2023-07-29T05:37:41.514Z"
   },
   {
    "duration": 15,
    "start_time": "2023-07-29T05:37:41.518Z"
   },
   {
    "duration": 21,
    "start_time": "2023-07-29T05:37:41.534Z"
   },
   {
    "duration": 7,
    "start_time": "2023-07-29T05:37:41.556Z"
   },
   {
    "duration": 33,
    "start_time": "2023-07-29T05:37:41.564Z"
   },
   {
    "duration": 18,
    "start_time": "2023-07-29T05:37:41.599Z"
   },
   {
    "duration": 28,
    "start_time": "2023-07-29T05:37:41.619Z"
   },
   {
    "duration": 8,
    "start_time": "2023-07-29T05:37:41.649Z"
   },
   {
    "duration": 10,
    "start_time": "2023-07-29T05:37:41.659Z"
   },
   {
    "duration": 28,
    "start_time": "2023-07-29T05:37:41.671Z"
   },
   {
    "duration": 17,
    "start_time": "2023-07-29T05:37:41.701Z"
   },
   {
    "duration": 9,
    "start_time": "2023-07-29T05:37:41.723Z"
   },
   {
    "duration": 17,
    "start_time": "2023-07-29T05:37:41.734Z"
   },
   {
    "duration": 8,
    "start_time": "2023-07-29T05:37:41.752Z"
   },
   {
    "duration": 7,
    "start_time": "2023-07-29T05:37:41.761Z"
   },
   {
    "duration": 10,
    "start_time": "2023-07-29T05:37:41.770Z"
   },
   {
    "duration": 9,
    "start_time": "2023-07-29T05:37:41.781Z"
   },
   {
    "duration": 21,
    "start_time": "2023-07-29T05:37:41.792Z"
   },
   {
    "duration": 23,
    "start_time": "2023-07-29T05:37:41.814Z"
   },
   {
    "duration": 21,
    "start_time": "2023-07-29T05:37:41.839Z"
   },
   {
    "duration": 36,
    "start_time": "2023-07-29T05:37:41.861Z"
   },
   {
    "duration": 10,
    "start_time": "2023-07-29T05:37:41.898Z"
   },
   {
    "duration": 17,
    "start_time": "2023-07-29T05:37:41.909Z"
   },
   {
    "duration": 28,
    "start_time": "2023-07-29T05:37:41.928Z"
   },
   {
    "duration": 55,
    "start_time": "2023-07-29T05:37:41.958Z"
   },
   {
    "duration": 22,
    "start_time": "2023-07-29T05:37:42.015Z"
   },
   {
    "duration": 35,
    "start_time": "2023-07-29T05:37:42.038Z"
   },
   {
    "duration": 7,
    "start_time": "2023-07-29T05:37:42.074Z"
   },
   {
    "duration": 9,
    "start_time": "2023-07-29T05:37:42.082Z"
   },
   {
    "duration": 32,
    "start_time": "2023-07-29T05:37:42.092Z"
   },
   {
    "duration": 182,
    "start_time": "2023-07-29T05:37:42.125Z"
   },
   {
    "duration": 15,
    "start_time": "2023-07-29T05:37:42.309Z"
   },
   {
    "duration": 482,
    "start_time": "2023-07-29T05:37:42.326Z"
   },
   {
    "duration": 7,
    "start_time": "2023-07-29T05:37:42.810Z"
   },
   {
    "duration": 21,
    "start_time": "2023-07-29T05:37:42.818Z"
   },
   {
    "duration": 723,
    "start_time": "2023-07-29T05:37:42.840Z"
   },
   {
    "duration": 2,
    "start_time": "2023-07-29T05:37:43.564Z"
   },
   {
    "duration": 10,
    "start_time": "2023-07-29T05:37:43.568Z"
   },
   {
    "duration": 6,
    "start_time": "2023-07-29T05:37:43.580Z"
   },
   {
    "duration": 6,
    "start_time": "2023-07-29T05:37:43.587Z"
   },
   {
    "duration": 7,
    "start_time": "2023-07-29T05:37:43.599Z"
   },
   {
    "duration": 9,
    "start_time": "2023-07-29T05:37:43.607Z"
   },
   {
    "duration": 7,
    "start_time": "2023-07-29T05:37:43.617Z"
   },
   {
    "duration": 5,
    "start_time": "2023-07-29T05:37:43.625Z"
   },
   {
    "duration": 1653,
    "start_time": "2023-07-29T05:37:43.631Z"
   },
   {
    "duration": 1358,
    "start_time": "2023-07-29T05:37:45.286Z"
   },
   {
    "duration": 3,
    "start_time": "2023-07-29T05:39:07.056Z"
   },
   {
    "duration": 1395,
    "start_time": "2023-07-29T05:39:07.061Z"
   },
   {
    "duration": 710,
    "start_time": "2023-07-29T05:39:08.458Z"
   },
   {
    "duration": 24,
    "start_time": "2023-07-29T05:39:09.170Z"
   },
   {
    "duration": 16,
    "start_time": "2023-07-29T05:39:09.200Z"
   },
   {
    "duration": 11,
    "start_time": "2023-07-29T05:39:09.217Z"
   },
   {
    "duration": 16,
    "start_time": "2023-07-29T05:39:09.229Z"
   },
   {
    "duration": 243,
    "start_time": "2023-07-29T05:39:09.246Z"
   },
   {
    "duration": 241,
    "start_time": "2023-07-29T05:39:09.491Z"
   },
   {
    "duration": 212,
    "start_time": "2023-07-29T05:39:09.734Z"
   },
   {
    "duration": 24925,
    "start_time": "2023-07-29T05:39:09.949Z"
   },
   {
    "duration": 374,
    "start_time": "2023-07-29T05:39:34.876Z"
   },
   {
    "duration": 2,
    "start_time": "2023-07-29T05:39:35.252Z"
   },
   {
    "duration": 10,
    "start_time": "2023-07-29T05:39:35.256Z"
   },
   {
    "duration": 32,
    "start_time": "2023-07-29T05:39:35.267Z"
   },
   {
    "duration": 16,
    "start_time": "2023-07-29T05:39:35.300Z"
   },
   {
    "duration": 29,
    "start_time": "2023-07-29T05:39:35.318Z"
   },
   {
    "duration": 23,
    "start_time": "2023-07-29T05:39:35.349Z"
   },
   {
    "duration": 29,
    "start_time": "2023-07-29T05:39:35.374Z"
   },
   {
    "duration": 26,
    "start_time": "2023-07-29T05:39:35.405Z"
   },
   {
    "duration": 34,
    "start_time": "2023-07-29T05:39:35.432Z"
   },
   {
    "duration": 38,
    "start_time": "2023-07-29T05:39:35.468Z"
   },
   {
    "duration": 35,
    "start_time": "2023-07-29T05:39:35.507Z"
   },
   {
    "duration": 34,
    "start_time": "2023-07-29T05:39:35.543Z"
   },
   {
    "duration": 12,
    "start_time": "2023-07-29T05:39:35.579Z"
   },
   {
    "duration": 21,
    "start_time": "2023-07-29T05:39:35.592Z"
   },
   {
    "duration": 11,
    "start_time": "2023-07-29T05:39:35.615Z"
   },
   {
    "duration": 34,
    "start_time": "2023-07-29T05:39:35.627Z"
   },
   {
    "duration": 18,
    "start_time": "2023-07-29T05:39:35.664Z"
   },
   {
    "duration": 5,
    "start_time": "2023-07-29T05:39:35.684Z"
   },
   {
    "duration": 26,
    "start_time": "2023-07-29T05:39:35.690Z"
   },
   {
    "duration": 7,
    "start_time": "2023-07-29T05:39:35.717Z"
   },
   {
    "duration": 20,
    "start_time": "2023-07-29T05:39:35.725Z"
   },
   {
    "duration": 24,
    "start_time": "2023-07-29T05:39:35.746Z"
   },
   {
    "duration": 16,
    "start_time": "2023-07-29T05:39:35.771Z"
   },
   {
    "duration": 8,
    "start_time": "2023-07-29T05:39:35.788Z"
   },
   {
    "duration": 20,
    "start_time": "2023-07-29T05:39:35.797Z"
   },
   {
    "duration": 10,
    "start_time": "2023-07-29T05:39:35.819Z"
   },
   {
    "duration": 18,
    "start_time": "2023-07-29T05:39:35.831Z"
   },
   {
    "duration": 23,
    "start_time": "2023-07-29T05:39:35.850Z"
   },
   {
    "duration": 9,
    "start_time": "2023-07-29T05:39:35.874Z"
   },
   {
    "duration": 36,
    "start_time": "2023-07-29T05:39:35.885Z"
   },
   {
    "duration": 244,
    "start_time": "2023-07-29T05:39:35.923Z"
   },
   {
    "duration": 3,
    "start_time": "2023-07-29T05:39:36.168Z"
   },
   {
    "duration": 439,
    "start_time": "2023-07-29T05:39:36.172Z"
   },
   {
    "duration": 8,
    "start_time": "2023-07-29T05:39:36.612Z"
   },
   {
    "duration": 12,
    "start_time": "2023-07-29T05:39:36.621Z"
   },
   {
    "duration": 695,
    "start_time": "2023-07-29T05:39:36.634Z"
   },
   {
    "duration": 2,
    "start_time": "2023-07-29T05:39:37.331Z"
   },
   {
    "duration": 16,
    "start_time": "2023-07-29T05:39:37.335Z"
   },
   {
    "duration": 4,
    "start_time": "2023-07-29T05:39:37.353Z"
   },
   {
    "duration": 7,
    "start_time": "2023-07-29T05:39:37.358Z"
   },
   {
    "duration": 5,
    "start_time": "2023-07-29T05:39:37.367Z"
   },
   {
    "duration": 7,
    "start_time": "2023-07-29T05:39:37.374Z"
   },
   {
    "duration": 6,
    "start_time": "2023-07-29T05:39:37.382Z"
   },
   {
    "duration": 4,
    "start_time": "2023-07-29T05:39:37.390Z"
   },
   {
    "duration": 5,
    "start_time": "2023-07-29T05:39:37.396Z"
   },
   {
    "duration": 1744,
    "start_time": "2023-07-29T05:39:44.548Z"
   },
   {
    "duration": 3,
    "start_time": "2023-07-29T05:41:55.537Z"
   },
   {
    "duration": 1372,
    "start_time": "2023-07-29T05:41:55.541Z"
   },
   {
    "duration": 669,
    "start_time": "2023-07-29T05:41:56.915Z"
   },
   {
    "duration": 25,
    "start_time": "2023-07-29T05:41:57.585Z"
   },
   {
    "duration": 25,
    "start_time": "2023-07-29T05:41:57.611Z"
   },
   {
    "duration": 20,
    "start_time": "2023-07-29T05:41:57.638Z"
   },
   {
    "duration": 52,
    "start_time": "2023-07-29T05:41:57.659Z"
   },
   {
    "duration": 215,
    "start_time": "2023-07-29T05:41:57.712Z"
   },
   {
    "duration": 223,
    "start_time": "2023-07-29T05:41:57.928Z"
   },
   {
    "duration": 220,
    "start_time": "2023-07-29T05:41:58.152Z"
   },
   {
    "duration": 3,
    "start_time": "2023-07-29T05:42:46.841Z"
   },
   {
    "duration": 1386,
    "start_time": "2023-07-29T05:42:46.850Z"
   },
   {
    "duration": 663,
    "start_time": "2023-07-29T05:42:48.237Z"
   },
   {
    "duration": 24,
    "start_time": "2023-07-29T05:42:48.901Z"
   },
   {
    "duration": 35,
    "start_time": "2023-07-29T05:42:48.927Z"
   },
   {
    "duration": 16,
    "start_time": "2023-07-29T05:42:48.964Z"
   },
   {
    "duration": 26,
    "start_time": "2023-07-29T05:42:48.981Z"
   },
   {
    "duration": 206,
    "start_time": "2023-07-29T05:42:49.009Z"
   },
   {
    "duration": 218,
    "start_time": "2023-07-29T05:42:49.217Z"
   },
   {
    "duration": 206,
    "start_time": "2023-07-29T05:42:49.436Z"
   },
   {
    "duration": 25069,
    "start_time": "2023-07-29T05:42:49.645Z"
   },
   {
    "duration": 374,
    "start_time": "2023-07-29T05:43:14.716Z"
   },
   {
    "duration": 2,
    "start_time": "2023-07-29T05:43:15.092Z"
   },
   {
    "duration": 14,
    "start_time": "2023-07-29T05:43:15.099Z"
   },
   {
    "duration": 2,
    "start_time": "2023-07-29T05:43:15.115Z"
   },
   {
    "duration": 5,
    "start_time": "2023-07-29T05:43:15.119Z"
   },
   {
    "duration": 6,
    "start_time": "2023-07-29T05:43:15.125Z"
   },
   {
    "duration": 4,
    "start_time": "2023-07-29T05:43:15.132Z"
   },
   {
    "duration": 11,
    "start_time": "2023-07-29T05:43:15.137Z"
   },
   {
    "duration": 2,
    "start_time": "2023-07-29T05:43:15.149Z"
   },
   {
    "duration": 5,
    "start_time": "2023-07-29T05:43:15.152Z"
   },
   {
    "duration": 16,
    "start_time": "2023-07-29T05:43:15.158Z"
   },
   {
    "duration": 4,
    "start_time": "2023-07-29T05:43:15.176Z"
   },
   {
    "duration": 9,
    "start_time": "2023-07-29T05:43:15.181Z"
   },
   {
    "duration": 8,
    "start_time": "2023-07-29T05:43:15.191Z"
   },
   {
    "duration": 7,
    "start_time": "2023-07-29T05:43:15.201Z"
   },
   {
    "duration": 2,
    "start_time": "2023-07-29T05:43:15.210Z"
   },
   {
    "duration": 4,
    "start_time": "2023-07-29T05:43:15.214Z"
   },
   {
    "duration": 4,
    "start_time": "2023-07-29T05:43:15.221Z"
   },
   {
    "duration": 8,
    "start_time": "2023-07-29T05:43:15.226Z"
   },
   {
    "duration": 16,
    "start_time": "2023-07-29T05:43:15.236Z"
   },
   {
    "duration": 3,
    "start_time": "2023-07-29T05:43:15.253Z"
   },
   {
    "duration": 17,
    "start_time": "2023-07-29T05:43:15.257Z"
   },
   {
    "duration": 15,
    "start_time": "2023-07-29T05:43:15.276Z"
   },
   {
    "duration": 7,
    "start_time": "2023-07-29T05:43:15.292Z"
   },
   {
    "duration": 2,
    "start_time": "2023-07-29T05:43:15.301Z"
   },
   {
    "duration": 5,
    "start_time": "2023-07-29T05:43:15.304Z"
   },
   {
    "duration": 6,
    "start_time": "2023-07-29T05:43:15.311Z"
   },
   {
    "duration": 8,
    "start_time": "2023-07-29T05:43:15.318Z"
   },
   {
    "duration": 5,
    "start_time": "2023-07-29T05:43:15.327Z"
   },
   {
    "duration": 4,
    "start_time": "2023-07-29T05:43:15.334Z"
   },
   {
    "duration": 16,
    "start_time": "2023-07-29T05:43:15.341Z"
   },
   {
    "duration": 199,
    "start_time": "2023-07-29T05:43:15.358Z"
   },
   {
    "duration": 2,
    "start_time": "2023-07-29T05:43:15.559Z"
   },
   {
    "duration": 456,
    "start_time": "2023-07-29T05:43:15.562Z"
   },
   {
    "duration": 9,
    "start_time": "2023-07-29T05:43:16.021Z"
   },
   {
    "duration": 15,
    "start_time": "2023-07-29T05:43:16.031Z"
   },
   {
    "duration": 736,
    "start_time": "2023-07-29T05:43:16.047Z"
   },
   {
    "duration": 3,
    "start_time": "2023-07-29T05:43:16.784Z"
   },
   {
    "duration": 35,
    "start_time": "2023-07-29T05:43:16.788Z"
   },
   {
    "duration": 10,
    "start_time": "2023-07-29T05:43:16.825Z"
   },
   {
    "duration": 4,
    "start_time": "2023-07-29T05:43:16.837Z"
   },
   {
    "duration": 7,
    "start_time": "2023-07-29T05:43:16.842Z"
   },
   {
    "duration": 14,
    "start_time": "2023-07-29T05:43:16.851Z"
   },
   {
    "duration": 12,
    "start_time": "2023-07-29T05:43:16.866Z"
   },
   {
    "duration": 9,
    "start_time": "2023-07-29T05:43:16.879Z"
   },
   {
    "duration": 7,
    "start_time": "2023-07-29T05:43:16.890Z"
   },
   {
    "duration": 297296,
    "start_time": "2023-07-29T05:43:23.387Z"
   },
   {
    "duration": 3,
    "start_time": "2023-07-29T05:48:41.616Z"
   },
   {
    "duration": 1481,
    "start_time": "2023-07-29T05:48:41.621Z"
   },
   {
    "duration": 704,
    "start_time": "2023-07-29T05:48:43.103Z"
   },
   {
    "duration": 24,
    "start_time": "2023-07-29T05:48:43.809Z"
   },
   {
    "duration": 18,
    "start_time": "2023-07-29T05:48:43.835Z"
   },
   {
    "duration": 10,
    "start_time": "2023-07-29T05:48:43.855Z"
   },
   {
    "duration": 37,
    "start_time": "2023-07-29T05:48:43.867Z"
   },
   {
    "duration": 226,
    "start_time": "2023-07-29T05:48:43.906Z"
   },
   {
    "duration": 234,
    "start_time": "2023-07-29T05:48:44.134Z"
   },
   {
    "duration": 212,
    "start_time": "2023-07-29T05:48:44.369Z"
   },
   {
    "duration": 24152,
    "start_time": "2023-07-29T05:48:44.582Z"
   },
   {
    "duration": 402,
    "start_time": "2023-07-29T05:49:08.736Z"
   },
   {
    "duration": 3,
    "start_time": "2023-07-29T05:49:09.139Z"
   },
   {
    "duration": 23,
    "start_time": "2023-07-29T05:49:09.143Z"
   },
   {
    "duration": 6,
    "start_time": "2023-07-29T05:49:09.167Z"
   },
   {
    "duration": 10,
    "start_time": "2023-07-29T05:49:09.174Z"
   },
   {
    "duration": 12,
    "start_time": "2023-07-29T05:49:09.185Z"
   },
   {
    "duration": 8,
    "start_time": "2023-07-29T05:49:09.198Z"
   },
   {
    "duration": 18,
    "start_time": "2023-07-29T05:49:09.207Z"
   },
   {
    "duration": 2,
    "start_time": "2023-07-29T05:49:09.226Z"
   },
   {
    "duration": 12,
    "start_time": "2023-07-29T05:49:09.229Z"
   },
   {
    "duration": 15,
    "start_time": "2023-07-29T05:49:09.242Z"
   },
   {
    "duration": 7,
    "start_time": "2023-07-29T05:49:09.259Z"
   },
   {
    "duration": 3,
    "start_time": "2023-07-29T05:49:09.269Z"
   },
   {
    "duration": 5,
    "start_time": "2023-07-29T05:49:09.273Z"
   },
   {
    "duration": 21,
    "start_time": "2023-07-29T05:49:09.280Z"
   },
   {
    "duration": 2,
    "start_time": "2023-07-29T05:49:09.303Z"
   },
   {
    "duration": 8,
    "start_time": "2023-07-29T05:49:09.307Z"
   },
   {
    "duration": 7,
    "start_time": "2023-07-29T05:49:09.317Z"
   },
   {
    "duration": 5,
    "start_time": "2023-07-29T05:49:09.326Z"
   },
   {
    "duration": 17,
    "start_time": "2023-07-29T05:49:09.332Z"
   },
   {
    "duration": 2,
    "start_time": "2023-07-29T05:49:09.350Z"
   },
   {
    "duration": 3,
    "start_time": "2023-07-29T05:49:09.354Z"
   },
   {
    "duration": 8,
    "start_time": "2023-07-29T05:49:09.359Z"
   },
   {
    "duration": 2,
    "start_time": "2023-07-29T05:49:09.368Z"
   },
   {
    "duration": 9,
    "start_time": "2023-07-29T05:49:09.371Z"
   },
   {
    "duration": 5,
    "start_time": "2023-07-29T05:49:09.382Z"
   },
   {
    "duration": 5,
    "start_time": "2023-07-29T05:49:09.399Z"
   },
   {
    "duration": 6,
    "start_time": "2023-07-29T05:49:09.406Z"
   },
   {
    "duration": 6,
    "start_time": "2023-07-29T05:49:09.414Z"
   },
   {
    "duration": 6,
    "start_time": "2023-07-29T05:49:09.421Z"
   },
   {
    "duration": 20,
    "start_time": "2023-07-29T05:49:09.428Z"
   },
   {
    "duration": 183,
    "start_time": "2023-07-29T05:49:09.450Z"
   },
   {
    "duration": 3,
    "start_time": "2023-07-29T05:49:09.635Z"
   },
   {
    "duration": 478,
    "start_time": "2023-07-29T05:49:09.639Z"
   },
   {
    "duration": 8,
    "start_time": "2023-07-29T05:49:10.119Z"
   },
   {
    "duration": 7,
    "start_time": "2023-07-29T05:49:10.128Z"
   },
   {
    "duration": 754,
    "start_time": "2023-07-29T05:49:10.136Z"
   },
   {
    "duration": 3,
    "start_time": "2023-07-29T05:49:10.891Z"
   },
   {
    "duration": 6,
    "start_time": "2023-07-29T05:49:10.899Z"
   },
   {
    "duration": 5,
    "start_time": "2023-07-29T05:49:10.907Z"
   },
   {
    "duration": 5,
    "start_time": "2023-07-29T05:49:10.914Z"
   },
   {
    "duration": 10,
    "start_time": "2023-07-29T05:49:10.920Z"
   },
   {
    "duration": 11,
    "start_time": "2023-07-29T05:49:10.932Z"
   },
   {
    "duration": 7,
    "start_time": "2023-07-29T05:49:10.945Z"
   },
   {
    "duration": 4,
    "start_time": "2023-07-29T05:49:10.953Z"
   },
   {
    "duration": 7,
    "start_time": "2023-07-29T05:49:10.958Z"
   },
   {
    "duration": 677157,
    "start_time": "2023-07-29T05:49:34.891Z"
   },
   {
    "duration": 3,
    "start_time": "2023-07-29T06:03:11.019Z"
   },
   {
    "duration": 683365,
    "start_time": "2023-07-29T06:03:36.073Z"
   },
   {
    "duration": 1121857,
    "start_time": "2023-07-29T06:33:11.636Z"
   },
   {
    "duration": 571207,
    "start_time": "2023-07-29T07:09:22.971Z"
   },
   {
    "duration": 122,
    "start_time": "2023-07-29T07:22:59.745Z"
   },
   {
    "duration": 28402,
    "start_time": "2023-07-29T07:24:09.457Z"
   },
   {
    "duration": 15050,
    "start_time": "2023-07-29T07:34:22.084Z"
   },
   {
    "duration": 15381,
    "start_time": "2023-07-29T07:39:40.789Z"
   },
   {
    "duration": 14948,
    "start_time": "2023-07-29T07:51:14.781Z"
   },
   {
    "duration": 38,
    "start_time": "2023-07-29T07:51:35.970Z"
   },
   {
    "duration": 14295,
    "start_time": "2023-07-29T07:51:49.773Z"
   },
   {
    "duration": 25,
    "start_time": "2023-07-29T07:52:22.987Z"
   },
   {
    "duration": 14872,
    "start_time": "2023-07-29T08:02:22.016Z"
   },
   {
    "duration": 22,
    "start_time": "2023-07-29T08:08:12.618Z"
   },
   {
    "duration": 13742,
    "start_time": "2023-07-29T08:08:25.439Z"
   },
   {
    "duration": 4,
    "start_time": "2023-07-29T09:34:53.812Z"
   },
   {
    "duration": 1798,
    "start_time": "2023-07-29T09:34:53.818Z"
   },
   {
    "duration": 3187,
    "start_time": "2023-07-29T09:34:55.618Z"
   },
   {
    "duration": 33,
    "start_time": "2023-07-29T09:34:58.807Z"
   },
   {
    "duration": 26,
    "start_time": "2023-07-29T09:34:58.843Z"
   },
   {
    "duration": 13,
    "start_time": "2023-07-29T09:34:58.871Z"
   },
   {
    "duration": 17,
    "start_time": "2023-07-29T09:34:58.887Z"
   },
   {
    "duration": 254,
    "start_time": "2023-07-29T09:34:58.906Z"
   },
   {
    "duration": 239,
    "start_time": "2023-07-29T09:34:59.161Z"
   },
   {
    "duration": 242,
    "start_time": "2023-07-29T09:34:59.402Z"
   },
   {
    "duration": 29146,
    "start_time": "2023-07-29T09:34:59.646Z"
   },
   {
    "duration": 339,
    "start_time": "2023-07-29T09:35:28.794Z"
   },
   {
    "duration": 3,
    "start_time": "2023-07-29T09:35:29.136Z"
   },
   {
    "duration": 20,
    "start_time": "2023-07-29T09:35:29.143Z"
   },
   {
    "duration": 3,
    "start_time": "2023-07-29T09:35:29.165Z"
   },
   {
    "duration": 4,
    "start_time": "2023-07-29T09:35:29.170Z"
   },
   {
    "duration": 14,
    "start_time": "2023-07-29T09:35:29.176Z"
   },
   {
    "duration": 5,
    "start_time": "2023-07-29T09:35:29.191Z"
   },
   {
    "duration": 11,
    "start_time": "2023-07-29T09:35:29.198Z"
   },
   {
    "duration": 3,
    "start_time": "2023-07-29T09:35:29.210Z"
   },
   {
    "duration": 9,
    "start_time": "2023-07-29T09:35:29.216Z"
   },
   {
    "duration": 12,
    "start_time": "2023-07-29T09:35:29.227Z"
   },
   {
    "duration": 22,
    "start_time": "2023-07-29T09:35:29.240Z"
   },
   {
    "duration": 11,
    "start_time": "2023-07-29T09:35:29.264Z"
   },
   {
    "duration": 5,
    "start_time": "2023-07-29T09:35:29.276Z"
   },
   {
    "duration": 11,
    "start_time": "2023-07-29T09:35:29.282Z"
   },
   {
    "duration": 6,
    "start_time": "2023-07-29T09:35:29.295Z"
   },
   {
    "duration": 11,
    "start_time": "2023-07-29T09:35:29.303Z"
   },
   {
    "duration": 6,
    "start_time": "2023-07-29T09:35:29.315Z"
   },
   {
    "duration": 5,
    "start_time": "2023-07-29T09:35:29.322Z"
   },
   {
    "duration": 11,
    "start_time": "2023-07-29T09:35:29.328Z"
   },
   {
    "duration": 2,
    "start_time": "2023-07-29T09:35:29.359Z"
   },
   {
    "duration": 15,
    "start_time": "2023-07-29T09:35:29.363Z"
   },
   {
    "duration": 12,
    "start_time": "2023-07-29T09:35:29.380Z"
   },
   {
    "duration": 3,
    "start_time": "2023-07-29T09:35:29.394Z"
   },
   {
    "duration": 3,
    "start_time": "2023-07-29T09:35:29.399Z"
   },
   {
    "duration": 4,
    "start_time": "2023-07-29T09:35:29.404Z"
   },
   {
    "duration": 5,
    "start_time": "2023-07-29T09:35:29.410Z"
   },
   {
    "duration": 4,
    "start_time": "2023-07-29T09:35:29.417Z"
   },
   {
    "duration": 7,
    "start_time": "2023-07-29T09:35:29.423Z"
   },
   {
    "duration": 3,
    "start_time": "2023-07-29T09:35:29.434Z"
   },
   {
    "duration": 35,
    "start_time": "2023-07-29T09:35:29.439Z"
   },
   {
    "duration": 196,
    "start_time": "2023-07-29T09:35:29.476Z"
   },
   {
    "duration": 3,
    "start_time": "2023-07-29T09:35:29.673Z"
   },
   {
    "duration": 413,
    "start_time": "2023-07-29T09:35:29.678Z"
   },
   {
    "duration": 9,
    "start_time": "2023-07-29T09:35:30.093Z"
   },
   {
    "duration": 54,
    "start_time": "2023-07-29T09:35:30.104Z"
   },
   {
    "duration": 882,
    "start_time": "2023-07-29T09:35:30.160Z"
   },
   {
    "duration": 3,
    "start_time": "2023-07-29T09:35:31.044Z"
   },
   {
    "duration": 61,
    "start_time": "2023-07-29T09:35:31.049Z"
   },
   {
    "duration": 41,
    "start_time": "2023-07-29T09:35:31.112Z"
   },
   {
    "duration": 18,
    "start_time": "2023-07-29T09:35:31.155Z"
   },
   {
    "duration": 20,
    "start_time": "2023-07-29T09:35:31.175Z"
   },
   {
    "duration": 37,
    "start_time": "2023-07-29T09:35:31.197Z"
   },
   {
    "duration": 64,
    "start_time": "2023-07-29T09:35:31.236Z"
   },
   {
    "duration": 24,
    "start_time": "2023-07-29T09:35:31.302Z"
   },
   {
    "duration": 33,
    "start_time": "2023-07-29T09:35:31.329Z"
   },
   {
    "duration": 627241,
    "start_time": "2023-07-29T09:35:31.364Z"
   },
   {
    "duration": 8,
    "start_time": "2023-07-29T12:41:01.025Z"
   },
   {
    "duration": 2441,
    "start_time": "2023-07-29T12:41:01.036Z"
   },
   {
    "duration": 3768,
    "start_time": "2023-07-29T12:41:03.479Z"
   },
   {
    "duration": 37,
    "start_time": "2023-07-29T12:41:07.249Z"
   },
   {
    "duration": 43,
    "start_time": "2023-07-29T12:41:07.291Z"
   },
   {
    "duration": 28,
    "start_time": "2023-07-29T12:41:07.335Z"
   },
   {
    "duration": 69,
    "start_time": "2023-07-29T12:41:07.365Z"
   },
   {
    "duration": 339,
    "start_time": "2023-07-29T12:41:07.439Z"
   },
   {
    "duration": 391,
    "start_time": "2023-07-29T12:41:07.780Z"
   },
   {
    "duration": 355,
    "start_time": "2023-07-29T12:41:08.172Z"
   },
   {
    "duration": 42974,
    "start_time": "2023-07-29T12:41:08.529Z"
   },
   {
    "duration": 558,
    "start_time": "2023-07-29T12:41:51.505Z"
   },
   {
    "duration": 5,
    "start_time": "2023-07-29T12:41:52.065Z"
   },
   {
    "duration": 40,
    "start_time": "2023-07-29T12:41:52.073Z"
   },
   {
    "duration": 32,
    "start_time": "2023-07-29T12:41:52.116Z"
   },
   {
    "duration": 56,
    "start_time": "2023-07-29T12:41:52.150Z"
   },
   {
    "duration": 41,
    "start_time": "2023-07-29T12:41:52.214Z"
   },
   {
    "duration": 52,
    "start_time": "2023-07-29T12:41:52.257Z"
   },
   {
    "duration": 43,
    "start_time": "2023-07-29T12:41:52.311Z"
   },
   {
    "duration": 57,
    "start_time": "2023-07-29T12:41:52.356Z"
   },
   {
    "duration": 11,
    "start_time": "2023-07-29T12:41:52.415Z"
   },
   {
    "duration": 24,
    "start_time": "2023-07-29T12:41:52.428Z"
   },
   {
    "duration": 21,
    "start_time": "2023-07-29T12:41:52.454Z"
   },
   {
    "duration": 8,
    "start_time": "2023-07-29T12:41:52.478Z"
   },
   {
    "duration": 2,
    "start_time": "2023-07-29T12:41:52.490Z"
   },
   {
    "duration": 14,
    "start_time": "2023-07-29T12:41:52.494Z"
   },
   {
    "duration": 4,
    "start_time": "2023-07-29T12:41:52.510Z"
   },
   {
    "duration": 23,
    "start_time": "2023-07-29T12:41:52.517Z"
   },
   {
    "duration": 15,
    "start_time": "2023-07-29T12:41:52.543Z"
   },
   {
    "duration": 32,
    "start_time": "2023-07-29T12:41:52.560Z"
   },
   {
    "duration": 26,
    "start_time": "2023-07-29T12:41:52.595Z"
   },
   {
    "duration": 8,
    "start_time": "2023-07-29T12:41:52.624Z"
   },
   {
    "duration": 40,
    "start_time": "2023-07-29T12:41:52.634Z"
   },
   {
    "duration": 26,
    "start_time": "2023-07-29T12:41:52.677Z"
   },
   {
    "duration": 7,
    "start_time": "2023-07-29T12:41:52.706Z"
   },
   {
    "duration": 22,
    "start_time": "2023-07-29T12:41:52.715Z"
   },
   {
    "duration": 13,
    "start_time": "2023-07-29T12:41:52.739Z"
   },
   {
    "duration": 10,
    "start_time": "2023-07-29T12:41:52.754Z"
   },
   {
    "duration": 5,
    "start_time": "2023-07-29T12:41:52.766Z"
   },
   {
    "duration": 9,
    "start_time": "2023-07-29T12:41:52.773Z"
   },
   {
    "duration": 11,
    "start_time": "2023-07-29T12:41:52.786Z"
   },
   {
    "duration": 33,
    "start_time": "2023-07-29T12:41:52.803Z"
   },
   {
    "duration": 275,
    "start_time": "2023-07-29T12:41:52.838Z"
   },
   {
    "duration": 22,
    "start_time": "2023-07-29T12:41:53.119Z"
   },
   {
    "duration": 532,
    "start_time": "2023-07-29T12:41:53.148Z"
   },
   {
    "duration": 21,
    "start_time": "2023-07-29T12:41:53.682Z"
   },
   {
    "duration": 27,
    "start_time": "2023-07-29T12:41:53.704Z"
   },
   {
    "duration": 1266,
    "start_time": "2023-07-29T12:41:53.734Z"
   },
   {
    "duration": 5,
    "start_time": "2023-07-29T12:41:55.003Z"
   },
   {
    "duration": 36,
    "start_time": "2023-07-29T12:41:55.013Z"
   },
   {
    "duration": 16,
    "start_time": "2023-07-29T12:41:55.054Z"
   },
   {
    "duration": 19,
    "start_time": "2023-07-29T12:41:55.074Z"
   },
   {
    "duration": 21,
    "start_time": "2023-07-29T12:41:55.099Z"
   },
   {
    "duration": 34,
    "start_time": "2023-07-29T12:41:55.123Z"
   },
   {
    "duration": 7,
    "start_time": "2023-07-29T12:41:55.161Z"
   },
   {
    "duration": 6,
    "start_time": "2023-07-29T12:41:55.172Z"
   },
   {
    "duration": 16,
    "start_time": "2023-07-29T12:41:55.181Z"
   },
   {
    "duration": 868820,
    "start_time": "2023-07-29T12:41:55.200Z"
   },
   {
    "duration": 831906,
    "start_time": "2023-07-29T12:56:24.027Z"
   },
   {
    "duration": 3,
    "start_time": "2023-07-29T13:10:15.935Z"
   },
   {
    "duration": 666344,
    "start_time": "2023-07-29T13:10:15.940Z"
   },
   {
    "duration": 4,
    "start_time": "2023-07-29T13:21:22.288Z"
   },
   {
    "duration": 32813,
    "start_time": "2023-07-29T13:43:25.427Z"
   },
   {
    "duration": 20,
    "start_time": "2023-07-29T13:44:32.532Z"
   },
   {
    "duration": 5,
    "start_time": "2023-07-30T09:15:52.666Z"
   },
   {
    "duration": 5872,
    "start_time": "2023-07-30T09:15:52.673Z"
   },
   {
    "duration": 2211,
    "start_time": "2023-07-30T09:15:58.547Z"
   },
   {
    "duration": 34,
    "start_time": "2023-07-30T09:16:00.761Z"
   },
   {
    "duration": 22,
    "start_time": "2023-07-30T09:16:00.797Z"
   },
   {
    "duration": 46,
    "start_time": "2023-07-30T09:16:00.821Z"
   },
   {
    "duration": 40,
    "start_time": "2023-07-30T09:16:00.871Z"
   },
   {
    "duration": 212,
    "start_time": "2023-07-30T09:16:00.913Z"
   },
   {
    "duration": 212,
    "start_time": "2023-07-30T09:16:01.127Z"
   },
   {
    "duration": 287,
    "start_time": "2023-07-30T09:16:01.341Z"
   },
   {
    "duration": 33751,
    "start_time": "2023-07-30T09:16:01.631Z"
   },
   {
    "duration": 411,
    "start_time": "2023-07-30T09:16:35.384Z"
   },
   {
    "duration": 3,
    "start_time": "2023-07-30T09:16:35.797Z"
   },
   {
    "duration": 21,
    "start_time": "2023-07-30T09:16:35.802Z"
   },
   {
    "duration": 15,
    "start_time": "2023-07-30T09:16:35.824Z"
   },
   {
    "duration": 10,
    "start_time": "2023-07-30T09:16:35.841Z"
   },
   {
    "duration": 17,
    "start_time": "2023-07-30T09:16:35.854Z"
   },
   {
    "duration": 26,
    "start_time": "2023-07-30T09:16:35.873Z"
   },
   {
    "duration": 23,
    "start_time": "2023-07-30T09:16:35.901Z"
   },
   {
    "duration": 37,
    "start_time": "2023-07-30T09:16:35.926Z"
   },
   {
    "duration": 48,
    "start_time": "2023-07-30T09:16:35.966Z"
   },
   {
    "duration": 42,
    "start_time": "2023-07-30T09:16:36.016Z"
   },
   {
    "duration": 15,
    "start_time": "2023-07-30T09:16:36.060Z"
   },
   {
    "duration": 59,
    "start_time": "2023-07-30T09:16:36.076Z"
   },
   {
    "duration": 16,
    "start_time": "2023-07-30T09:16:36.137Z"
   },
   {
    "duration": 36,
    "start_time": "2023-07-30T09:16:36.155Z"
   },
   {
    "duration": 12,
    "start_time": "2023-07-30T09:16:36.193Z"
   },
   {
    "duration": 29,
    "start_time": "2023-07-30T09:16:36.207Z"
   },
   {
    "duration": 16,
    "start_time": "2023-07-30T09:16:36.242Z"
   },
   {
    "duration": 14,
    "start_time": "2023-07-30T09:16:36.260Z"
   },
   {
    "duration": 18,
    "start_time": "2023-07-30T09:16:36.276Z"
   },
   {
    "duration": 7,
    "start_time": "2023-07-30T09:16:36.295Z"
   },
   {
    "duration": 15,
    "start_time": "2023-07-30T09:16:36.303Z"
   },
   {
    "duration": 18,
    "start_time": "2023-07-30T09:16:36.320Z"
   },
   {
    "duration": 7,
    "start_time": "2023-07-30T09:16:36.339Z"
   },
   {
    "duration": 7,
    "start_time": "2023-07-30T09:16:36.348Z"
   },
   {
    "duration": 56,
    "start_time": "2023-07-30T09:16:36.357Z"
   },
   {
    "duration": 19,
    "start_time": "2023-07-30T09:16:36.415Z"
   },
   {
    "duration": 14,
    "start_time": "2023-07-30T09:16:36.436Z"
   },
   {
    "duration": 5,
    "start_time": "2023-07-30T09:16:36.455Z"
   },
   {
    "duration": 12,
    "start_time": "2023-07-30T09:16:36.462Z"
   },
   {
    "duration": 24,
    "start_time": "2023-07-30T09:16:36.475Z"
   },
   {
    "duration": 204,
    "start_time": "2023-07-30T09:16:36.501Z"
   },
   {
    "duration": 2,
    "start_time": "2023-07-30T09:16:36.707Z"
   },
   {
    "duration": 475,
    "start_time": "2023-07-30T09:16:36.711Z"
   },
   {
    "duration": 9,
    "start_time": "2023-07-30T09:16:37.187Z"
   },
   {
    "duration": 7,
    "start_time": "2023-07-30T09:16:37.198Z"
   },
   {
    "duration": 1418,
    "start_time": "2023-07-30T09:16:37.207Z"
   },
   {
    "duration": 3,
    "start_time": "2023-07-30T09:16:38.626Z"
   },
   {
    "duration": 12,
    "start_time": "2023-07-30T09:16:38.631Z"
   },
   {
    "duration": 9,
    "start_time": "2023-07-30T09:16:38.644Z"
   },
   {
    "duration": 8,
    "start_time": "2023-07-30T09:16:38.654Z"
   },
   {
    "duration": 11,
    "start_time": "2023-07-30T09:16:38.664Z"
   },
   {
    "duration": 8,
    "start_time": "2023-07-30T09:16:38.676Z"
   },
   {
    "duration": 9,
    "start_time": "2023-07-30T09:16:38.686Z"
   },
   {
    "duration": 5,
    "start_time": "2023-07-30T09:16:38.697Z"
   },
   {
    "duration": 9,
    "start_time": "2023-07-30T09:16:38.704Z"
   },
   {
    "duration": 737169,
    "start_time": "2023-07-30T09:16:38.715Z"
   },
   {
    "duration": 17,
    "start_time": "2023-07-30T09:35:47.716Z"
   },
   {
    "duration": 155,
    "start_time": "2023-07-30T09:41:41.251Z"
   },
   {
    "duration": 38,
    "start_time": "2023-07-30T09:42:04.152Z"
   },
   {
    "duration": 461336,
    "start_time": "2023-07-30T09:42:16.195Z"
   },
   {
    "duration": 14350,
    "start_time": "2023-07-30T09:50:21.381Z"
   },
   {
    "duration": 80890,
    "start_time": "2023-07-30T09:50:37.067Z"
   },
   {
    "duration": 4815,
    "start_time": "2023-07-30T09:53:03.056Z"
   },
   {
    "duration": 15,
    "start_time": "2023-07-30T09:53:51.299Z"
   },
   {
    "duration": 14,
    "start_time": "2023-07-30T09:55:54.090Z"
   },
   {
    "duration": 32,
    "start_time": "2023-07-30T09:56:23.347Z"
   },
   {
    "duration": 8,
    "start_time": "2023-07-30T09:57:15.051Z"
   },
   {
    "duration": 22,
    "start_time": "2023-07-30T10:00:34.748Z"
   },
   {
    "duration": 5,
    "start_time": "2023-07-30T10:04:06.516Z"
   },
   {
    "duration": 3,
    "start_time": "2023-07-30T12:35:54.655Z"
   },
   {
    "duration": 1621,
    "start_time": "2023-07-30T12:35:54.662Z"
   },
   {
    "duration": 2481,
    "start_time": "2023-07-30T12:35:56.286Z"
   },
   {
    "duration": 35,
    "start_time": "2023-07-30T12:35:58.769Z"
   },
   {
    "duration": 26,
    "start_time": "2023-07-30T12:35:58.807Z"
   },
   {
    "duration": 13,
    "start_time": "2023-07-30T12:35:58.835Z"
   },
   {
    "duration": 38,
    "start_time": "2023-07-30T12:35:58.849Z"
   },
   {
    "duration": 260,
    "start_time": "2023-07-30T12:35:58.890Z"
   },
   {
    "duration": 271,
    "start_time": "2023-07-30T12:35:59.152Z"
   },
   {
    "duration": 263,
    "start_time": "2023-07-30T12:35:59.424Z"
   },
   {
    "duration": 32309,
    "start_time": "2023-07-30T12:35:59.690Z"
   },
   {
    "duration": 396,
    "start_time": "2023-07-30T12:36:32.000Z"
   },
   {
    "duration": 4,
    "start_time": "2023-07-30T12:36:32.398Z"
   },
   {
    "duration": 20,
    "start_time": "2023-07-30T12:36:32.403Z"
   },
   {
    "duration": 22,
    "start_time": "2023-07-30T12:36:32.425Z"
   },
   {
    "duration": 25,
    "start_time": "2023-07-30T12:36:32.449Z"
   },
   {
    "duration": 28,
    "start_time": "2023-07-30T12:36:32.487Z"
   },
   {
    "duration": 42,
    "start_time": "2023-07-30T12:36:32.516Z"
   },
   {
    "duration": 34,
    "start_time": "2023-07-30T12:36:32.560Z"
   },
   {
    "duration": 20,
    "start_time": "2023-07-30T12:36:32.597Z"
   },
   {
    "duration": 29,
    "start_time": "2023-07-30T12:36:32.620Z"
   },
   {
    "duration": 43,
    "start_time": "2023-07-30T12:36:32.651Z"
   },
   {
    "duration": 16,
    "start_time": "2023-07-30T12:36:32.696Z"
   },
   {
    "duration": 33,
    "start_time": "2023-07-30T12:36:32.714Z"
   },
   {
    "duration": 15,
    "start_time": "2023-07-30T12:36:32.750Z"
   },
   {
    "duration": 38,
    "start_time": "2023-07-30T12:36:32.767Z"
   },
   {
    "duration": 16,
    "start_time": "2023-07-30T12:36:32.808Z"
   },
   {
    "duration": 21,
    "start_time": "2023-07-30T12:36:32.826Z"
   },
   {
    "duration": 6,
    "start_time": "2023-07-30T12:36:32.853Z"
   },
   {
    "duration": 27,
    "start_time": "2023-07-30T12:36:32.860Z"
   },
   {
    "duration": 17,
    "start_time": "2023-07-30T12:36:32.889Z"
   },
   {
    "duration": 5,
    "start_time": "2023-07-30T12:36:32.908Z"
   },
   {
    "duration": 33,
    "start_time": "2023-07-30T12:36:32.915Z"
   },
   {
    "duration": 14,
    "start_time": "2023-07-30T12:36:32.950Z"
   },
   {
    "duration": 18,
    "start_time": "2023-07-30T12:36:32.966Z"
   },
   {
    "duration": 13,
    "start_time": "2023-07-30T12:36:32.986Z"
   },
   {
    "duration": 15,
    "start_time": "2023-07-30T12:36:33.000Z"
   },
   {
    "duration": 12,
    "start_time": "2023-07-30T12:36:33.016Z"
   },
   {
    "duration": 9,
    "start_time": "2023-07-30T12:36:33.029Z"
   },
   {
    "duration": 7,
    "start_time": "2023-07-30T12:36:33.040Z"
   },
   {
    "duration": 6,
    "start_time": "2023-07-30T12:36:33.048Z"
   },
   {
    "duration": 20,
    "start_time": "2023-07-30T12:36:33.056Z"
   },
   {
    "duration": 204,
    "start_time": "2023-07-30T12:36:33.079Z"
   },
   {
    "duration": 3,
    "start_time": "2023-07-30T12:36:33.286Z"
   },
   {
    "duration": 421,
    "start_time": "2023-07-30T12:36:33.290Z"
   },
   {
    "duration": 9,
    "start_time": "2023-07-30T12:36:33.713Z"
   },
   {
    "duration": 27,
    "start_time": "2023-07-30T12:36:33.723Z"
   },
   {
    "duration": 881,
    "start_time": "2023-07-30T12:36:33.752Z"
   },
   {
    "duration": 3,
    "start_time": "2023-07-30T12:36:34.634Z"
   },
   {
    "duration": 4,
    "start_time": "2023-07-30T12:40:00.255Z"
   },
   {
    "duration": 2034,
    "start_time": "2023-07-30T12:40:00.261Z"
   },
   {
    "duration": 755,
    "start_time": "2023-07-30T12:40:02.297Z"
   },
   {
    "duration": 38,
    "start_time": "2023-07-30T12:40:03.053Z"
   },
   {
    "duration": 20,
    "start_time": "2023-07-30T12:40:03.093Z"
   },
   {
    "duration": 26,
    "start_time": "2023-07-30T12:40:03.115Z"
   },
   {
    "duration": 23,
    "start_time": "2023-07-30T12:40:03.143Z"
   },
   {
    "duration": 238,
    "start_time": "2023-07-30T12:40:03.168Z"
   },
   {
    "duration": 251,
    "start_time": "2023-07-30T12:40:03.407Z"
   },
   {
    "duration": 263,
    "start_time": "2023-07-30T12:40:03.659Z"
   },
   {
    "duration": 30433,
    "start_time": "2023-07-30T12:40:03.925Z"
   },
   {
    "duration": 349,
    "start_time": "2023-07-30T12:40:34.384Z"
   },
   {
    "duration": 3,
    "start_time": "2023-07-30T12:40:34.735Z"
   },
   {
    "duration": 11,
    "start_time": "2023-07-30T12:40:34.739Z"
   },
   {
    "duration": 87,
    "start_time": "2023-07-30T12:40:34.751Z"
   },
   {
    "duration": 8,
    "start_time": "2023-07-30T12:40:34.840Z"
   },
   {
    "duration": 8,
    "start_time": "2023-07-30T12:40:34.849Z"
   },
   {
    "duration": 4,
    "start_time": "2023-07-30T12:40:34.859Z"
   },
   {
    "duration": 12,
    "start_time": "2023-07-30T12:40:34.865Z"
   },
   {
    "duration": 4,
    "start_time": "2023-07-30T12:40:34.878Z"
   },
   {
    "duration": 13,
    "start_time": "2023-07-30T12:40:34.884Z"
   },
   {
    "duration": 18,
    "start_time": "2023-07-30T12:40:34.899Z"
   },
   {
    "duration": 19,
    "start_time": "2023-07-30T12:40:34.919Z"
   },
   {
    "duration": 50,
    "start_time": "2023-07-30T12:40:34.940Z"
   },
   {
    "duration": 14,
    "start_time": "2023-07-30T12:40:34.992Z"
   },
   {
    "duration": 30,
    "start_time": "2023-07-30T12:40:35.008Z"
   },
   {
    "duration": 22,
    "start_time": "2023-07-30T12:40:35.040Z"
   },
   {
    "duration": 34,
    "start_time": "2023-07-30T12:40:35.064Z"
   },
   {
    "duration": 5,
    "start_time": "2023-07-30T12:40:35.103Z"
   },
   {
    "duration": 7,
    "start_time": "2023-07-30T12:40:35.110Z"
   },
   {
    "duration": 22,
    "start_time": "2023-07-30T12:40:35.119Z"
   },
   {
    "duration": 3,
    "start_time": "2023-07-30T12:40:35.143Z"
   },
   {
    "duration": 20,
    "start_time": "2023-07-30T12:40:35.147Z"
   },
   {
    "duration": 19,
    "start_time": "2023-07-30T12:40:35.169Z"
   },
   {
    "duration": 9,
    "start_time": "2023-07-30T12:40:35.190Z"
   },
   {
    "duration": 20,
    "start_time": "2023-07-30T12:40:35.201Z"
   },
   {
    "duration": 35,
    "start_time": "2023-07-30T12:40:35.223Z"
   },
   {
    "duration": 41,
    "start_time": "2023-07-30T12:40:35.260Z"
   },
   {
    "duration": 24,
    "start_time": "2023-07-30T12:40:35.303Z"
   },
   {
    "duration": 38,
    "start_time": "2023-07-30T12:40:35.329Z"
   },
   {
    "duration": 30,
    "start_time": "2023-07-30T12:40:35.369Z"
   },
   {
    "duration": 39,
    "start_time": "2023-07-30T12:40:35.401Z"
   },
   {
    "duration": 199,
    "start_time": "2023-07-30T12:40:35.442Z"
   },
   {
    "duration": 3,
    "start_time": "2023-07-30T12:40:35.643Z"
   },
   {
    "duration": 464,
    "start_time": "2023-07-30T12:40:35.648Z"
   },
   {
    "duration": 9,
    "start_time": "2023-07-30T12:40:36.114Z"
   },
   {
    "duration": 18,
    "start_time": "2023-07-30T12:40:36.125Z"
   },
   {
    "duration": 920,
    "start_time": "2023-07-30T12:40:36.145Z"
   },
   {
    "duration": 6,
    "start_time": "2023-07-30T12:40:37.067Z"
   },
   {
    "duration": 8,
    "start_time": "2023-07-30T12:40:37.075Z"
   },
   {
    "duration": 7,
    "start_time": "2023-07-30T12:40:37.084Z"
   },
   {
    "duration": 5,
    "start_time": "2023-07-30T12:40:37.092Z"
   },
   {
    "duration": 9,
    "start_time": "2023-07-30T12:40:37.099Z"
   },
   {
    "duration": 12,
    "start_time": "2023-07-30T12:40:37.110Z"
   },
   {
    "duration": 9,
    "start_time": "2023-07-30T12:40:37.124Z"
   },
   {
    "duration": 8,
    "start_time": "2023-07-30T12:40:37.134Z"
   },
   {
    "duration": 7,
    "start_time": "2023-07-30T12:40:49.683Z"
   },
   {
    "duration": 3,
    "start_time": "2023-07-30T12:42:20.182Z"
   },
   {
    "duration": 448,
    "start_time": "2023-07-30T12:42:35.916Z"
   },
   {
    "duration": 4,
    "start_time": "2023-07-30T12:45:20.965Z"
   },
   {
    "duration": 1686,
    "start_time": "2023-07-30T12:45:20.971Z"
   },
   {
    "duration": 807,
    "start_time": "2023-07-30T12:45:22.659Z"
   },
   {
    "duration": 32,
    "start_time": "2023-07-30T12:45:23.468Z"
   },
   {
    "duration": 19,
    "start_time": "2023-07-30T12:45:23.503Z"
   },
   {
    "duration": 13,
    "start_time": "2023-07-30T12:45:23.523Z"
   },
   {
    "duration": 47,
    "start_time": "2023-07-30T12:45:23.537Z"
   },
   {
    "duration": 244,
    "start_time": "2023-07-30T12:45:23.585Z"
   },
   {
    "duration": 260,
    "start_time": "2023-07-30T12:45:23.831Z"
   },
   {
    "duration": 254,
    "start_time": "2023-07-30T12:45:24.093Z"
   },
   {
    "duration": 30782,
    "start_time": "2023-07-30T12:45:24.349Z"
   },
   {
    "duration": 381,
    "start_time": "2023-07-30T12:45:55.152Z"
   },
   {
    "duration": 3,
    "start_time": "2023-07-30T12:45:55.535Z"
   },
   {
    "duration": 33,
    "start_time": "2023-07-30T12:45:55.544Z"
   },
   {
    "duration": 20,
    "start_time": "2023-07-30T12:45:55.579Z"
   },
   {
    "duration": 28,
    "start_time": "2023-07-30T12:45:55.600Z"
   },
   {
    "duration": 32,
    "start_time": "2023-07-30T12:45:55.630Z"
   },
   {
    "duration": 22,
    "start_time": "2023-07-30T12:45:55.665Z"
   },
   {
    "duration": 27,
    "start_time": "2023-07-30T12:45:55.689Z"
   },
   {
    "duration": 8,
    "start_time": "2023-07-30T12:45:55.719Z"
   },
   {
    "duration": 40,
    "start_time": "2023-07-30T12:45:55.730Z"
   },
   {
    "duration": 33,
    "start_time": "2023-07-30T12:45:55.772Z"
   },
   {
    "duration": 16,
    "start_time": "2023-07-30T12:45:55.807Z"
   },
   {
    "duration": 42,
    "start_time": "2023-07-30T12:45:55.825Z"
   },
   {
    "duration": 26,
    "start_time": "2023-07-30T12:45:55.868Z"
   },
   {
    "duration": 16,
    "start_time": "2023-07-30T12:45:55.896Z"
   },
   {
    "duration": 13,
    "start_time": "2023-07-30T12:45:55.914Z"
   },
   {
    "duration": 15,
    "start_time": "2023-07-30T12:45:55.930Z"
   },
   {
    "duration": 27,
    "start_time": "2023-07-30T12:45:55.947Z"
   },
   {
    "duration": 10,
    "start_time": "2023-07-30T12:45:55.977Z"
   },
   {
    "duration": 49,
    "start_time": "2023-07-30T12:45:55.988Z"
   },
   {
    "duration": 6,
    "start_time": "2023-07-30T12:45:56.039Z"
   },
   {
    "duration": 24,
    "start_time": "2023-07-30T12:45:56.047Z"
   },
   {
    "duration": 40,
    "start_time": "2023-07-30T12:45:56.073Z"
   },
   {
    "duration": 26,
    "start_time": "2023-07-30T12:45:56.115Z"
   },
   {
    "duration": 13,
    "start_time": "2023-07-30T12:45:56.143Z"
   },
   {
    "duration": 22,
    "start_time": "2023-07-30T12:45:56.158Z"
   },
   {
    "duration": 59,
    "start_time": "2023-07-30T12:45:56.182Z"
   },
   {
    "duration": 15,
    "start_time": "2023-07-30T12:45:56.244Z"
   },
   {
    "duration": 15,
    "start_time": "2023-07-30T12:45:56.261Z"
   },
   {
    "duration": 16,
    "start_time": "2023-07-30T12:45:56.283Z"
   },
   {
    "duration": 32,
    "start_time": "2023-07-30T12:45:56.301Z"
   },
   {
    "duration": 231,
    "start_time": "2023-07-30T12:45:56.335Z"
   },
   {
    "duration": 4,
    "start_time": "2023-07-30T12:45:56.568Z"
   },
   {
    "duration": 445,
    "start_time": "2023-07-30T12:45:56.574Z"
   },
   {
    "duration": 9,
    "start_time": "2023-07-30T12:45:57.020Z"
   },
   {
    "duration": 19,
    "start_time": "2023-07-30T12:45:57.030Z"
   },
   {
    "duration": 856,
    "start_time": "2023-07-30T12:45:57.051Z"
   },
   {
    "duration": 2,
    "start_time": "2023-07-30T12:45:57.909Z"
   },
   {
    "duration": 49,
    "start_time": "2023-07-30T12:45:57.913Z"
   },
   {
    "duration": 7,
    "start_time": "2023-07-30T12:45:57.964Z"
   },
   {
    "duration": 12,
    "start_time": "2023-07-30T12:45:57.973Z"
   },
   {
    "duration": 13,
    "start_time": "2023-07-30T12:45:57.987Z"
   },
   {
    "duration": 29,
    "start_time": "2023-07-30T12:45:58.002Z"
   },
   {
    "duration": 27,
    "start_time": "2023-07-30T12:45:58.033Z"
   },
   {
    "duration": 9,
    "start_time": "2023-07-30T12:45:58.061Z"
   },
   {
    "duration": 15,
    "start_time": "2023-07-30T12:45:58.072Z"
   },
   {
    "duration": 5,
    "start_time": "2023-07-30T13:37:45.975Z"
   },
   {
    "duration": 1590,
    "start_time": "2023-07-30T13:37:45.983Z"
   },
   {
    "duration": 733,
    "start_time": "2023-07-30T13:37:47.575Z"
   },
   {
    "duration": 31,
    "start_time": "2023-07-30T13:37:48.310Z"
   },
   {
    "duration": 30,
    "start_time": "2023-07-30T13:37:48.343Z"
   },
   {
    "duration": 17,
    "start_time": "2023-07-30T13:37:48.376Z"
   },
   {
    "duration": 16,
    "start_time": "2023-07-30T13:37:48.394Z"
   },
   {
    "duration": 258,
    "start_time": "2023-07-30T13:37:48.412Z"
   },
   {
    "duration": 286,
    "start_time": "2023-07-30T13:37:48.673Z"
   },
   {
    "duration": 304,
    "start_time": "2023-07-30T13:37:48.961Z"
   },
   {
    "duration": 32156,
    "start_time": "2023-07-30T13:37:49.267Z"
   },
   {
    "duration": 427,
    "start_time": "2023-07-30T13:38:21.425Z"
   },
   {
    "duration": 3,
    "start_time": "2023-07-30T13:38:21.855Z"
   },
   {
    "duration": 16,
    "start_time": "2023-07-30T13:38:21.861Z"
   },
   {
    "duration": 12,
    "start_time": "2023-07-30T13:38:21.880Z"
   },
   {
    "duration": 8,
    "start_time": "2023-07-30T13:38:21.894Z"
   },
   {
    "duration": 17,
    "start_time": "2023-07-30T13:38:21.904Z"
   },
   {
    "duration": 12,
    "start_time": "2023-07-30T13:38:21.922Z"
   },
   {
    "duration": 11,
    "start_time": "2023-07-30T13:38:21.936Z"
   },
   {
    "duration": 10,
    "start_time": "2023-07-30T13:38:21.949Z"
   },
   {
    "duration": 10,
    "start_time": "2023-07-30T13:38:21.961Z"
   },
   {
    "duration": 16,
    "start_time": "2023-07-30T13:38:21.973Z"
   },
   {
    "duration": 6,
    "start_time": "2023-07-30T13:38:21.991Z"
   },
   {
    "duration": 18,
    "start_time": "2023-07-30T13:38:22.001Z"
   },
   {
    "duration": 13,
    "start_time": "2023-07-30T13:38:22.021Z"
   },
   {
    "duration": 14,
    "start_time": "2023-07-30T13:38:22.036Z"
   },
   {
    "duration": 6,
    "start_time": "2023-07-30T13:38:22.052Z"
   },
   {
    "duration": 11,
    "start_time": "2023-07-30T13:38:22.060Z"
   },
   {
    "duration": 5,
    "start_time": "2023-07-30T13:38:22.074Z"
   },
   {
    "duration": 14,
    "start_time": "2023-07-30T13:38:22.081Z"
   },
   {
    "duration": 34,
    "start_time": "2023-07-30T13:38:22.097Z"
   },
   {
    "duration": 3,
    "start_time": "2023-07-30T13:38:22.133Z"
   },
   {
    "duration": 33,
    "start_time": "2023-07-30T13:38:22.138Z"
   },
   {
    "duration": 34,
    "start_time": "2023-07-30T13:38:22.173Z"
   },
   {
    "duration": 11,
    "start_time": "2023-07-30T13:38:22.208Z"
   },
   {
    "duration": 12,
    "start_time": "2023-07-30T13:38:22.220Z"
   },
   {
    "duration": 17,
    "start_time": "2023-07-30T13:38:22.234Z"
   },
   {
    "duration": 10,
    "start_time": "2023-07-30T13:38:22.252Z"
   },
   {
    "duration": 27,
    "start_time": "2023-07-30T13:38:22.264Z"
   },
   {
    "duration": 6,
    "start_time": "2023-07-30T13:38:22.293Z"
   },
   {
    "duration": 14,
    "start_time": "2023-07-30T13:38:22.300Z"
   },
   {
    "duration": 23,
    "start_time": "2023-07-30T13:38:22.316Z"
   },
   {
    "duration": 214,
    "start_time": "2023-07-30T13:38:22.340Z"
   },
   {
    "duration": 3,
    "start_time": "2023-07-30T13:38:22.555Z"
   },
   {
    "duration": 475,
    "start_time": "2023-07-30T13:38:22.560Z"
   },
   {
    "duration": 9,
    "start_time": "2023-07-30T13:38:23.037Z"
   },
   {
    "duration": 9,
    "start_time": "2023-07-30T13:38:23.047Z"
   },
   {
    "duration": 980,
    "start_time": "2023-07-30T13:38:23.058Z"
   },
   {
    "duration": 3,
    "start_time": "2023-07-30T13:38:24.043Z"
   },
   {
    "duration": 77,
    "start_time": "2023-07-30T13:38:24.048Z"
   },
   {
    "duration": 7,
    "start_time": "2023-07-30T13:38:24.127Z"
   },
   {
    "duration": 14,
    "start_time": "2023-07-30T13:38:24.136Z"
   },
   {
    "duration": 18,
    "start_time": "2023-07-30T13:38:24.153Z"
   },
   {
    "duration": 37,
    "start_time": "2023-07-30T13:38:24.174Z"
   },
   {
    "duration": 13,
    "start_time": "2023-07-30T13:38:24.214Z"
   },
   {
    "duration": 15,
    "start_time": "2023-07-30T13:38:24.230Z"
   },
   {
    "duration": 18,
    "start_time": "2023-07-30T13:38:24.247Z"
   },
   {
    "duration": 5,
    "start_time": "2023-07-30T13:40:04.014Z"
   },
   {
    "duration": 521,
    "start_time": "2023-07-30T13:40:06.400Z"
   },
   {
    "duration": 7,
    "start_time": "2023-07-30T13:41:03.951Z"
   },
   {
    "duration": 4,
    "start_time": "2023-07-30T13:42:18.048Z"
   },
   {
    "duration": 1762,
    "start_time": "2023-07-30T13:42:18.055Z"
   },
   {
    "duration": 843,
    "start_time": "2023-07-30T13:42:19.819Z"
   },
   {
    "duration": 49,
    "start_time": "2023-07-30T13:42:20.666Z"
   },
   {
    "duration": 36,
    "start_time": "2023-07-30T13:42:20.718Z"
   },
   {
    "duration": 37,
    "start_time": "2023-07-30T13:42:20.758Z"
   },
   {
    "duration": 29,
    "start_time": "2023-07-30T13:42:20.799Z"
   },
   {
    "duration": 286,
    "start_time": "2023-07-30T13:42:20.830Z"
   },
   {
    "duration": 302,
    "start_time": "2023-07-30T13:42:21.119Z"
   },
   {
    "duration": 346,
    "start_time": "2023-07-30T13:42:21.423Z"
   },
   {
    "duration": 33956,
    "start_time": "2023-07-30T13:42:21.775Z"
   },
   {
    "duration": 390,
    "start_time": "2023-07-30T13:42:55.733Z"
   },
   {
    "duration": 3,
    "start_time": "2023-07-30T13:42:56.125Z"
   },
   {
    "duration": 16,
    "start_time": "2023-07-30T13:42:56.130Z"
   },
   {
    "duration": 3,
    "start_time": "2023-07-30T13:42:56.148Z"
   },
   {
    "duration": 22,
    "start_time": "2023-07-30T13:42:56.153Z"
   },
   {
    "duration": 7,
    "start_time": "2023-07-30T13:42:56.176Z"
   },
   {
    "duration": 9,
    "start_time": "2023-07-30T13:42:56.185Z"
   },
   {
    "duration": 11,
    "start_time": "2023-07-30T13:42:56.196Z"
   },
   {
    "duration": 3,
    "start_time": "2023-07-30T13:42:56.209Z"
   },
   {
    "duration": 10,
    "start_time": "2023-07-30T13:42:56.214Z"
   },
   {
    "duration": 12,
    "start_time": "2023-07-30T13:42:56.226Z"
   },
   {
    "duration": 3,
    "start_time": "2023-07-30T13:42:56.239Z"
   },
   {
    "duration": 25,
    "start_time": "2023-07-30T13:42:56.246Z"
   },
   {
    "duration": 3,
    "start_time": "2023-07-30T13:42:56.273Z"
   },
   {
    "duration": 24,
    "start_time": "2023-07-30T13:42:56.277Z"
   },
   {
    "duration": 8,
    "start_time": "2023-07-30T13:42:56.303Z"
   },
   {
    "duration": 32,
    "start_time": "2023-07-30T13:42:56.313Z"
   },
   {
    "duration": 35,
    "start_time": "2023-07-30T13:42:56.347Z"
   },
   {
    "duration": 34,
    "start_time": "2023-07-30T13:42:56.385Z"
   },
   {
    "duration": 36,
    "start_time": "2023-07-30T13:42:56.421Z"
   },
   {
    "duration": 3,
    "start_time": "2023-07-30T13:42:56.460Z"
   },
   {
    "duration": 21,
    "start_time": "2023-07-30T13:42:56.465Z"
   },
   {
    "duration": 50,
    "start_time": "2023-07-30T13:42:56.489Z"
   },
   {
    "duration": 20,
    "start_time": "2023-07-30T13:42:56.542Z"
   },
   {
    "duration": 19,
    "start_time": "2023-07-30T13:42:56.565Z"
   },
   {
    "duration": 14,
    "start_time": "2023-07-30T13:42:56.587Z"
   },
   {
    "duration": 45,
    "start_time": "2023-07-30T13:42:56.604Z"
   },
   {
    "duration": 14,
    "start_time": "2023-07-30T13:42:56.650Z"
   },
   {
    "duration": 40,
    "start_time": "2023-07-30T13:42:56.666Z"
   },
   {
    "duration": 28,
    "start_time": "2023-07-30T13:42:56.709Z"
   },
   {
    "duration": 27,
    "start_time": "2023-07-30T13:42:56.739Z"
   },
   {
    "duration": 198,
    "start_time": "2023-07-30T13:42:56.769Z"
   },
   {
    "duration": 4,
    "start_time": "2023-07-30T13:42:56.970Z"
   },
   {
    "duration": 543,
    "start_time": "2023-07-30T13:42:56.976Z"
   },
   {
    "duration": 10,
    "start_time": "2023-07-30T13:42:57.521Z"
   },
   {
    "duration": 11,
    "start_time": "2023-07-30T13:42:57.532Z"
   },
   {
    "duration": 1249,
    "start_time": "2023-07-30T13:42:57.545Z"
   },
   {
    "duration": 4,
    "start_time": "2023-07-30T13:42:58.796Z"
   },
   {
    "duration": 48,
    "start_time": "2023-07-30T13:42:58.802Z"
   },
   {
    "duration": 36,
    "start_time": "2023-07-30T13:42:58.853Z"
   },
   {
    "duration": 19,
    "start_time": "2023-07-30T13:42:58.891Z"
   },
   {
    "duration": 14,
    "start_time": "2023-07-30T13:42:58.912Z"
   },
   {
    "duration": 58,
    "start_time": "2023-07-30T13:42:58.928Z"
   },
   {
    "duration": 53,
    "start_time": "2023-07-30T13:42:58.987Z"
   },
   {
    "duration": 9,
    "start_time": "2023-07-30T13:42:59.042Z"
   },
   {
    "duration": 15,
    "start_time": "2023-07-30T13:42:59.053Z"
   },
   {
    "duration": 98,
    "start_time": "2023-07-30T13:43:11.100Z"
   },
   {
    "duration": 5,
    "start_time": "2023-07-30T13:43:23.004Z"
   },
   {
    "duration": 460,
    "start_time": "2023-07-30T13:44:00.567Z"
   },
   {
    "duration": 3,
    "start_time": "2023-07-30T13:44:44.648Z"
   },
   {
    "duration": 2033,
    "start_time": "2023-07-30T13:44:44.653Z"
   },
   {
    "duration": 819,
    "start_time": "2023-07-30T13:44:46.688Z"
   },
   {
    "duration": 35,
    "start_time": "2023-07-30T13:44:47.510Z"
   },
   {
    "duration": 34,
    "start_time": "2023-07-30T13:44:47.546Z"
   },
   {
    "duration": 14,
    "start_time": "2023-07-30T13:44:47.582Z"
   },
   {
    "duration": 20,
    "start_time": "2023-07-30T13:44:47.598Z"
   },
   {
    "duration": 283,
    "start_time": "2023-07-30T13:44:47.620Z"
   },
   {
    "duration": 289,
    "start_time": "2023-07-30T13:44:47.907Z"
   },
   {
    "duration": 310,
    "start_time": "2023-07-30T13:44:48.198Z"
   },
   {
    "duration": 32264,
    "start_time": "2023-07-30T13:44:48.511Z"
   },
   {
    "duration": 401,
    "start_time": "2023-07-30T13:45:20.778Z"
   },
   {
    "duration": 5,
    "start_time": "2023-07-30T13:45:21.181Z"
   },
   {
    "duration": 83,
    "start_time": "2023-07-30T13:45:21.188Z"
   },
   {
    "duration": 23,
    "start_time": "2023-07-30T13:45:21.274Z"
   },
   {
    "duration": 8,
    "start_time": "2023-07-30T13:45:21.300Z"
   },
   {
    "duration": 20,
    "start_time": "2023-07-30T13:45:21.310Z"
   },
   {
    "duration": 13,
    "start_time": "2023-07-30T13:45:21.332Z"
   },
   {
    "duration": 24,
    "start_time": "2023-07-30T13:45:21.347Z"
   },
   {
    "duration": 5,
    "start_time": "2023-07-30T13:45:21.373Z"
   },
   {
    "duration": 11,
    "start_time": "2023-07-30T13:45:21.380Z"
   },
   {
    "duration": 23,
    "start_time": "2023-07-30T13:45:21.393Z"
   },
   {
    "duration": 16,
    "start_time": "2023-07-30T13:45:21.419Z"
   },
   {
    "duration": 17,
    "start_time": "2023-07-30T13:45:21.439Z"
   },
   {
    "duration": 21,
    "start_time": "2023-07-30T13:45:21.459Z"
   },
   {
    "duration": 49,
    "start_time": "2023-07-30T13:45:21.482Z"
   },
   {
    "duration": 17,
    "start_time": "2023-07-30T13:45:21.533Z"
   },
   {
    "duration": 45,
    "start_time": "2023-07-30T13:45:21.552Z"
   },
   {
    "duration": 11,
    "start_time": "2023-07-30T13:45:21.600Z"
   },
   {
    "duration": 15,
    "start_time": "2023-07-30T13:45:21.613Z"
   },
   {
    "duration": 22,
    "start_time": "2023-07-30T13:45:21.630Z"
   },
   {
    "duration": 4,
    "start_time": "2023-07-30T13:45:21.656Z"
   },
   {
    "duration": 30,
    "start_time": "2023-07-30T13:45:21.662Z"
   },
   {
    "duration": 33,
    "start_time": "2023-07-30T13:45:21.694Z"
   },
   {
    "duration": 8,
    "start_time": "2023-07-30T13:45:21.729Z"
   },
   {
    "duration": 16,
    "start_time": "2023-07-30T13:45:21.739Z"
   },
   {
    "duration": 9,
    "start_time": "2023-07-30T13:45:21.757Z"
   },
   {
    "duration": 19,
    "start_time": "2023-07-30T13:45:21.769Z"
   },
   {
    "duration": 16,
    "start_time": "2023-07-30T13:45:21.790Z"
   },
   {
    "duration": 34,
    "start_time": "2023-07-30T13:45:21.808Z"
   },
   {
    "duration": 18,
    "start_time": "2023-07-30T13:45:21.844Z"
   },
   {
    "duration": 23,
    "start_time": "2023-07-30T13:45:21.864Z"
   },
   {
    "duration": 265,
    "start_time": "2023-07-30T13:45:21.889Z"
   },
   {
    "duration": 3,
    "start_time": "2023-07-30T13:45:22.156Z"
   },
   {
    "duration": 455,
    "start_time": "2023-07-30T13:45:22.161Z"
   },
   {
    "duration": 9,
    "start_time": "2023-07-30T13:45:22.618Z"
   },
   {
    "duration": 16,
    "start_time": "2023-07-30T13:45:22.630Z"
   },
   {
    "duration": 968,
    "start_time": "2023-07-30T13:45:22.648Z"
   },
   {
    "duration": 3,
    "start_time": "2023-07-30T13:45:23.618Z"
   },
   {
    "duration": 149,
    "start_time": "2023-07-30T13:45:23.623Z"
   },
   {
    "duration": 44,
    "start_time": "2023-07-30T13:45:23.774Z"
   },
   {
    "duration": 61,
    "start_time": "2023-07-30T13:45:23.820Z"
   },
   {
    "duration": 26,
    "start_time": "2023-07-30T13:45:23.884Z"
   },
   {
    "duration": 16,
    "start_time": "2023-07-30T13:45:23.913Z"
   },
   {
    "duration": 13,
    "start_time": "2023-07-30T13:45:23.931Z"
   },
   {
    "duration": 29,
    "start_time": "2023-07-30T13:45:23.946Z"
   },
   {
    "duration": 21,
    "start_time": "2023-07-30T13:45:23.977Z"
   },
   {
    "duration": 5,
    "start_time": "2023-07-30T13:45:27.703Z"
   },
   {
    "duration": 445,
    "start_time": "2023-07-30T13:45:31.359Z"
   },
   {
    "duration": 6,
    "start_time": "2023-07-30T13:46:13.012Z"
   },
   {
    "duration": 149,
    "start_time": "2023-07-30T13:46:59.305Z"
   },
   {
    "duration": 563264,
    "start_time": "2023-07-30T13:47:58.388Z"
   },
   {
    "duration": 540592,
    "start_time": "2023-07-30T14:00:36.855Z"
   },
   {
    "duration": 95518,
    "start_time": "2023-07-30T14:10:10.575Z"
   },
   {
    "duration": 81,
    "start_time": "2023-07-30T14:12:55.676Z"
   },
   {
    "duration": 1578,
    "start_time": "2023-07-30T14:22:30.672Z"
   },
   {
    "duration": 4,
    "start_time": "2023-07-30T14:22:42.375Z"
   },
   {
    "duration": 2453,
    "start_time": "2023-07-30T14:25:34.975Z"
   },
   {
    "duration": 4,
    "start_time": "2023-07-30T14:25:43.392Z"
   },
   {
    "duration": 3080,
    "start_time": "2023-07-30T14:30:03.984Z"
   },
   {
    "duration": 6,
    "start_time": "2023-07-30T14:31:26.564Z"
   },
   {
    "duration": 9,
    "start_time": "2023-07-30T14:41:31.102Z"
   },
   {
    "duration": 2004,
    "start_time": "2023-07-30T14:41:31.114Z"
   },
   {
    "duration": 997,
    "start_time": "2023-07-30T14:41:33.121Z"
   },
   {
    "duration": 34,
    "start_time": "2023-07-30T14:41:34.120Z"
   },
   {
    "duration": 44,
    "start_time": "2023-07-30T14:41:34.170Z"
   },
   {
    "duration": 19,
    "start_time": "2023-07-30T14:41:34.217Z"
   },
   {
    "duration": 43,
    "start_time": "2023-07-30T14:41:34.239Z"
   },
   {
    "duration": 365,
    "start_time": "2023-07-30T14:41:34.285Z"
   },
   {
    "duration": 369,
    "start_time": "2023-07-30T14:41:34.652Z"
   },
   {
    "duration": 329,
    "start_time": "2023-07-30T14:41:35.023Z"
   },
   {
    "duration": 32228,
    "start_time": "2023-07-30T14:41:35.355Z"
   },
   {
    "duration": 416,
    "start_time": "2023-07-30T14:42:07.585Z"
   },
   {
    "duration": 3,
    "start_time": "2023-07-30T14:42:08.004Z"
   },
   {
    "duration": 35,
    "start_time": "2023-07-30T14:42:08.009Z"
   },
   {
    "duration": 32,
    "start_time": "2023-07-30T14:42:08.046Z"
   },
   {
    "duration": 8,
    "start_time": "2023-07-30T14:42:08.081Z"
   },
   {
    "duration": 6,
    "start_time": "2023-07-30T14:42:08.091Z"
   },
   {
    "duration": 16,
    "start_time": "2023-07-30T14:42:08.100Z"
   },
   {
    "duration": 17,
    "start_time": "2023-07-30T14:42:08.119Z"
   },
   {
    "duration": 3,
    "start_time": "2023-07-30T14:42:08.139Z"
   },
   {
    "duration": 12,
    "start_time": "2023-07-30T14:42:08.144Z"
   },
   {
    "duration": 12,
    "start_time": "2023-07-30T14:42:08.158Z"
   },
   {
    "duration": 10,
    "start_time": "2023-07-30T14:42:08.172Z"
   },
   {
    "duration": 7,
    "start_time": "2023-07-30T14:42:08.185Z"
   },
   {
    "duration": 19,
    "start_time": "2023-07-30T14:42:08.194Z"
   },
   {
    "duration": 13,
    "start_time": "2023-07-30T14:42:08.216Z"
   },
   {
    "duration": 6,
    "start_time": "2023-07-30T14:42:08.231Z"
   },
   {
    "duration": 11,
    "start_time": "2023-07-30T14:42:08.240Z"
   },
   {
    "duration": 9,
    "start_time": "2023-07-30T14:42:08.256Z"
   },
   {
    "duration": 14,
    "start_time": "2023-07-30T14:42:08.267Z"
   },
   {
    "duration": 19,
    "start_time": "2023-07-30T14:42:08.284Z"
   },
   {
    "duration": 7,
    "start_time": "2023-07-30T14:42:08.305Z"
   },
   {
    "duration": 11,
    "start_time": "2023-07-30T14:42:08.314Z"
   },
   {
    "duration": 14,
    "start_time": "2023-07-30T14:42:08.327Z"
   },
   {
    "duration": 3,
    "start_time": "2023-07-30T14:42:08.343Z"
   },
   {
    "duration": 17,
    "start_time": "2023-07-30T14:42:08.348Z"
   },
   {
    "duration": 15,
    "start_time": "2023-07-30T14:42:08.367Z"
   },
   {
    "duration": 6,
    "start_time": "2023-07-30T14:42:08.384Z"
   },
   {
    "duration": 6,
    "start_time": "2023-07-30T14:42:08.392Z"
   },
   {
    "duration": 6,
    "start_time": "2023-07-30T14:42:08.401Z"
   },
   {
    "duration": 9,
    "start_time": "2023-07-30T14:42:08.409Z"
   },
   {
    "duration": 29,
    "start_time": "2023-07-30T14:42:08.420Z"
   },
   {
    "duration": 249,
    "start_time": "2023-07-30T14:42:08.450Z"
   },
   {
    "duration": 5,
    "start_time": "2023-07-30T14:42:08.701Z"
   },
   {
    "duration": 570,
    "start_time": "2023-07-30T14:42:08.709Z"
   },
   {
    "duration": 12,
    "start_time": "2023-07-30T14:42:09.282Z"
   },
   {
    "duration": 29,
    "start_time": "2023-07-30T14:42:09.296Z"
   },
   {
    "duration": 1060,
    "start_time": "2023-07-30T14:42:09.328Z"
   },
   {
    "duration": 4,
    "start_time": "2023-07-30T14:42:10.390Z"
   },
   {
    "duration": 13,
    "start_time": "2023-07-30T14:42:10.396Z"
   },
   {
    "duration": 12,
    "start_time": "2023-07-30T14:42:10.411Z"
   },
   {
    "duration": 11,
    "start_time": "2023-07-30T14:42:10.425Z"
   },
   {
    "duration": 21,
    "start_time": "2023-07-30T14:42:10.438Z"
   },
   {
    "duration": 15,
    "start_time": "2023-07-30T14:42:10.460Z"
   },
   {
    "duration": 21,
    "start_time": "2023-07-30T14:42:10.477Z"
   },
   {
    "duration": 11,
    "start_time": "2023-07-30T14:42:10.500Z"
   },
   {
    "duration": 12,
    "start_time": "2023-07-30T14:42:10.512Z"
   },
   {
    "duration": 7,
    "start_time": "2023-07-30T14:42:10.526Z"
   },
   {
    "duration": 261383,
    "start_time": "2023-07-30T14:42:10.535Z"
   },
   {
    "duration": 17,
    "start_time": "2023-07-30T14:46:31.919Z"
   },
   {
    "duration": 262131,
    "start_time": "2023-07-30T14:46:31.938Z"
   },
   {
    "duration": 4,
    "start_time": "2023-07-30T14:50:54.071Z"
   },
   {
    "duration": 96242,
    "start_time": "2023-07-30T14:50:54.076Z"
   },
   {
    "duration": 4,
    "start_time": "2023-07-30T14:52:30.319Z"
   },
   {
    "duration": 75,
    "start_time": "2023-07-30T14:52:30.325Z"
   },
   {
    "duration": 191,
    "start_time": "2023-07-30T14:52:30.402Z"
   },
   {
    "duration": 0,
    "start_time": "2023-07-30T14:52:30.595Z"
   },
   {
    "duration": 0,
    "start_time": "2023-07-30T14:52:30.596Z"
   },
   {
    "duration": 0,
    "start_time": "2023-07-30T14:52:30.597Z"
   },
   {
    "duration": 3,
    "start_time": "2023-07-30T14:53:55.856Z"
   },
   {
    "duration": 5181,
    "start_time": "2023-07-30T14:54:57.265Z"
   },
   {
    "duration": 5,
    "start_time": "2023-07-30T14:55:11.952Z"
   },
   {
    "duration": 26,
    "start_time": "2023-07-30T14:55:45.857Z"
   },
   {
    "duration": 3,
    "start_time": "2023-07-31T08:44:34.666Z"
   },
   {
    "duration": 3045,
    "start_time": "2023-07-31T08:44:34.671Z"
   },
   {
    "duration": 711,
    "start_time": "2023-07-31T08:44:37.718Z"
   },
   {
    "duration": 25,
    "start_time": "2023-07-31T08:44:38.430Z"
   },
   {
    "duration": 16,
    "start_time": "2023-07-31T08:44:38.457Z"
   },
   {
    "duration": 42,
    "start_time": "2023-07-31T08:44:38.474Z"
   },
   {
    "duration": 17,
    "start_time": "2023-07-31T08:44:38.517Z"
   },
   {
    "duration": 240,
    "start_time": "2023-07-31T08:44:38.535Z"
   },
   {
    "duration": 250,
    "start_time": "2023-07-31T08:44:38.776Z"
   },
   {
    "duration": 207,
    "start_time": "2023-07-31T08:44:39.027Z"
   },
   {
    "duration": 39110,
    "start_time": "2023-07-31T08:44:39.236Z"
   },
   {
    "duration": 869,
    "start_time": "2023-07-31T08:45:18.348Z"
   },
   {
    "duration": 4,
    "start_time": "2023-07-31T08:45:19.218Z"
   },
   {
    "duration": 9,
    "start_time": "2023-07-31T08:45:19.223Z"
   },
   {
    "duration": 5,
    "start_time": "2023-07-31T08:45:19.233Z"
   },
   {
    "duration": 85,
    "start_time": "2023-07-31T08:45:19.239Z"
   },
   {
    "duration": 9,
    "start_time": "2023-07-31T08:45:19.325Z"
   },
   {
    "duration": 10,
    "start_time": "2023-07-31T08:45:19.335Z"
   },
   {
    "duration": 10,
    "start_time": "2023-07-31T08:45:19.347Z"
   },
   {
    "duration": 54,
    "start_time": "2023-07-31T08:45:19.359Z"
   },
   {
    "duration": 7,
    "start_time": "2023-07-31T08:45:19.415Z"
   },
   {
    "duration": 16,
    "start_time": "2023-07-31T08:45:19.425Z"
   },
   {
    "duration": 2,
    "start_time": "2023-07-31T08:45:19.444Z"
   },
   {
    "duration": 64,
    "start_time": "2023-07-31T08:45:19.448Z"
   },
   {
    "duration": 19,
    "start_time": "2023-07-31T08:45:19.514Z"
   },
   {
    "duration": 12,
    "start_time": "2023-07-31T08:45:19.534Z"
   },
   {
    "duration": 11,
    "start_time": "2023-07-31T08:45:19.548Z"
   },
   {
    "duration": 13,
    "start_time": "2023-07-31T08:45:19.600Z"
   },
   {
    "duration": 14,
    "start_time": "2023-07-31T08:45:19.617Z"
   },
   {
    "duration": 8,
    "start_time": "2023-07-31T08:45:19.633Z"
   },
   {
    "duration": 63,
    "start_time": "2023-07-31T08:45:19.643Z"
   },
   {
    "duration": 3,
    "start_time": "2023-07-31T08:45:19.717Z"
   },
   {
    "duration": 20,
    "start_time": "2023-07-31T08:45:19.722Z"
   },
   {
    "duration": 14,
    "start_time": "2023-07-31T08:45:19.744Z"
   },
   {
    "duration": 7,
    "start_time": "2023-07-31T08:45:19.802Z"
   },
   {
    "duration": 19,
    "start_time": "2023-07-31T08:45:19.810Z"
   },
   {
    "duration": 18,
    "start_time": "2023-07-31T08:45:19.830Z"
   },
   {
    "duration": 54,
    "start_time": "2023-07-31T08:45:19.850Z"
   },
   {
    "duration": 29,
    "start_time": "2023-07-31T08:45:19.905Z"
   },
   {
    "duration": 12,
    "start_time": "2023-07-31T08:45:19.935Z"
   },
   {
    "duration": 9,
    "start_time": "2023-07-31T08:45:19.948Z"
   },
   {
    "duration": 65,
    "start_time": "2023-07-31T08:45:19.958Z"
   },
   {
    "duration": 405,
    "start_time": "2023-07-31T08:45:20.025Z"
   },
   {
    "duration": 4,
    "start_time": "2023-07-31T08:45:20.431Z"
   },
   {
    "duration": 797,
    "start_time": "2023-07-31T08:45:20.436Z"
   },
   {
    "duration": 9,
    "start_time": "2023-07-31T08:45:21.234Z"
   },
   {
    "duration": 13,
    "start_time": "2023-07-31T08:45:21.300Z"
   },
   {
    "duration": 903,
    "start_time": "2023-07-31T08:45:21.315Z"
   },
   {
    "duration": 3,
    "start_time": "2023-07-31T08:45:22.219Z"
   },
   {
    "duration": 32,
    "start_time": "2023-07-31T08:45:22.223Z"
   },
   {
    "duration": 12,
    "start_time": "2023-07-31T08:45:22.256Z"
   },
   {
    "duration": 26,
    "start_time": "2023-07-31T08:45:22.270Z"
   },
   {
    "duration": 43,
    "start_time": "2023-07-31T08:45:22.297Z"
   },
   {
    "duration": 27,
    "start_time": "2023-07-31T08:45:22.341Z"
   },
   {
    "duration": 13,
    "start_time": "2023-07-31T08:45:22.369Z"
   },
   {
    "duration": 21,
    "start_time": "2023-07-31T08:45:22.383Z"
   },
   {
    "duration": 39,
    "start_time": "2023-07-31T08:45:22.405Z"
   },
   {
    "duration": 34,
    "start_time": "2023-07-31T08:45:22.445Z"
   },
   {
    "duration": 204613,
    "start_time": "2023-07-31T08:52:15.799Z"
   },
   {
    "duration": 120,
    "start_time": "2023-07-31T09:09:17.602Z"
   },
   {
    "duration": 24,
    "start_time": "2023-07-31T09:10:08.470Z"
   },
   {
    "duration": 4,
    "start_time": "2023-08-02T08:32:27.242Z"
   },
   {
    "duration": 6215,
    "start_time": "2023-08-02T08:32:27.271Z"
   },
   {
    "duration": 694,
    "start_time": "2023-08-02T08:32:33.488Z"
   },
   {
    "duration": 38,
    "start_time": "2023-08-02T08:32:34.184Z"
   },
   {
    "duration": 18,
    "start_time": "2023-08-02T08:32:34.224Z"
   },
   {
    "duration": 12,
    "start_time": "2023-08-02T08:32:34.243Z"
   },
   {
    "duration": 29,
    "start_time": "2023-08-02T08:32:34.257Z"
   },
   {
    "duration": 244,
    "start_time": "2023-08-02T08:32:34.288Z"
   },
   {
    "duration": 242,
    "start_time": "2023-08-02T08:32:34.534Z"
   },
   {
    "duration": 252,
    "start_time": "2023-08-02T08:32:34.778Z"
   },
   {
    "duration": 30092,
    "start_time": "2023-08-02T08:32:35.033Z"
   },
   {
    "duration": 356,
    "start_time": "2023-08-02T08:33:05.128Z"
   },
   {
    "duration": 4,
    "start_time": "2023-08-02T08:33:05.485Z"
   },
   {
    "duration": 58,
    "start_time": "2023-08-02T08:33:05.490Z"
   },
   {
    "duration": 36,
    "start_time": "2023-08-02T08:33:05.550Z"
   },
   {
    "duration": 47,
    "start_time": "2023-08-02T08:33:05.588Z"
   },
   {
    "duration": 9,
    "start_time": "2023-08-02T08:33:05.637Z"
   },
   {
    "duration": 11,
    "start_time": "2023-08-02T08:33:05.648Z"
   },
   {
    "duration": 19,
    "start_time": "2023-08-02T08:33:05.661Z"
   },
   {
    "duration": 3,
    "start_time": "2023-08-02T08:33:05.682Z"
   },
   {
    "duration": 25,
    "start_time": "2023-08-02T08:33:05.686Z"
   },
   {
    "duration": 42,
    "start_time": "2023-08-02T08:33:05.713Z"
   },
   {
    "duration": 13,
    "start_time": "2023-08-02T08:33:05.757Z"
   },
   {
    "duration": 17,
    "start_time": "2023-08-02T08:33:05.771Z"
   },
   {
    "duration": 13,
    "start_time": "2023-08-02T08:33:05.790Z"
   },
   {
    "duration": 33,
    "start_time": "2023-08-02T08:33:05.805Z"
   },
   {
    "duration": 17,
    "start_time": "2023-08-02T08:33:05.840Z"
   },
   {
    "duration": 51,
    "start_time": "2023-08-02T08:33:05.859Z"
   },
   {
    "duration": 21,
    "start_time": "2023-08-02T08:33:05.915Z"
   },
   {
    "duration": 9,
    "start_time": "2023-08-02T08:33:05.938Z"
   },
   {
    "duration": 21,
    "start_time": "2023-08-02T08:33:05.949Z"
   },
   {
    "duration": 3,
    "start_time": "2023-08-02T08:33:05.973Z"
   },
   {
    "duration": 17,
    "start_time": "2023-08-02T08:33:05.978Z"
   },
   {
    "duration": 14,
    "start_time": "2023-08-02T08:33:05.998Z"
   },
   {
    "duration": 3,
    "start_time": "2023-08-02T08:33:06.014Z"
   },
   {
    "duration": 18,
    "start_time": "2023-08-02T08:33:06.019Z"
   },
   {
    "duration": 9,
    "start_time": "2023-08-02T08:33:06.039Z"
   },
   {
    "duration": 6,
    "start_time": "2023-08-02T08:33:06.050Z"
   },
   {
    "duration": 18,
    "start_time": "2023-08-02T08:33:06.058Z"
   },
   {
    "duration": 9,
    "start_time": "2023-08-02T08:33:06.078Z"
   },
   {
    "duration": 13,
    "start_time": "2023-08-02T08:33:06.088Z"
   },
   {
    "duration": 19,
    "start_time": "2023-08-02T08:33:06.102Z"
   },
   {
    "duration": 204,
    "start_time": "2023-08-02T08:33:06.124Z"
   },
   {
    "duration": 3,
    "start_time": "2023-08-02T08:33:06.329Z"
   },
   {
    "duration": 405,
    "start_time": "2023-08-02T08:33:06.334Z"
   },
   {
    "duration": 9,
    "start_time": "2023-08-02T08:33:06.740Z"
   },
   {
    "duration": 25,
    "start_time": "2023-08-02T08:33:06.751Z"
   },
   {
    "duration": 861,
    "start_time": "2023-08-02T08:33:06.778Z"
   },
   {
    "duration": 3,
    "start_time": "2023-08-02T08:33:07.640Z"
   },
   {
    "duration": 8,
    "start_time": "2023-08-02T08:33:07.644Z"
   },
   {
    "duration": 11,
    "start_time": "2023-08-02T08:33:07.653Z"
   },
   {
    "duration": 8,
    "start_time": "2023-08-02T08:33:07.666Z"
   },
   {
    "duration": 8,
    "start_time": "2023-08-02T08:33:07.676Z"
   },
   {
    "duration": 18,
    "start_time": "2023-08-02T08:33:07.686Z"
   },
   {
    "duration": 14,
    "start_time": "2023-08-02T08:33:07.706Z"
   },
   {
    "duration": 6,
    "start_time": "2023-08-02T08:33:07.722Z"
   },
   {
    "duration": 17,
    "start_time": "2023-08-02T08:33:07.730Z"
   },
   {
    "duration": 27,
    "start_time": "2023-08-02T08:33:07.749Z"
   },
   {
    "duration": 135,
    "start_time": "2023-08-02T08:36:18.629Z"
   },
   {
    "duration": 26,
    "start_time": "2023-08-02T08:36:30.472Z"
   },
   {
    "duration": 534,
    "start_time": "2023-08-02T08:36:37.032Z"
   },
   {
    "duration": 4,
    "start_time": "2023-08-02T08:36:45.187Z"
   },
   {
    "duration": 5,
    "start_time": "2023-08-02T08:39:15.310Z"
   },
   {
    "duration": 24,
    "start_time": "2023-08-02T08:39:17.372Z"
   },
   {
    "duration": 3,
    "start_time": "2023-08-02T08:40:05.492Z"
   },
   {
    "duration": 9286,
    "start_time": "2023-08-02T08:40:17.590Z"
   },
   {
    "duration": 13337,
    "start_time": "2023-08-02T08:41:08.544Z"
   },
   {
    "duration": 15,
    "start_time": "2023-08-02T08:41:34.580Z"
   },
   {
    "duration": 4,
    "start_time": "2023-08-02T08:41:44.991Z"
   },
   {
    "duration": 4,
    "start_time": "2023-08-02T08:42:48.482Z"
   },
   {
    "duration": 3546,
    "start_time": "2023-08-02T08:42:48.500Z"
   },
   {
    "duration": 923,
    "start_time": "2023-08-02T08:42:52.049Z"
   },
   {
    "duration": 38,
    "start_time": "2023-08-02T08:42:52.974Z"
   },
   {
    "duration": 26,
    "start_time": "2023-08-02T08:42:53.020Z"
   },
   {
    "duration": 15,
    "start_time": "2023-08-02T08:42:53.049Z"
   },
   {
    "duration": 37,
    "start_time": "2023-08-02T08:42:53.065Z"
   },
   {
    "duration": 290,
    "start_time": "2023-08-02T08:42:53.104Z"
   },
   {
    "duration": 386,
    "start_time": "2023-08-02T08:42:53.396Z"
   },
   {
    "duration": 410,
    "start_time": "2023-08-02T08:42:53.784Z"
   },
   {
    "duration": 33325,
    "start_time": "2023-08-02T08:42:54.196Z"
   },
   {
    "duration": 387,
    "start_time": "2023-08-02T08:43:27.527Z"
   },
   {
    "duration": 4,
    "start_time": "2023-08-02T08:43:27.925Z"
   },
   {
    "duration": 15,
    "start_time": "2023-08-02T08:43:27.931Z"
   },
   {
    "duration": 3,
    "start_time": "2023-08-02T08:43:27.951Z"
   },
   {
    "duration": 8,
    "start_time": "2023-08-02T08:43:27.956Z"
   },
   {
    "duration": 7,
    "start_time": "2023-08-02T08:43:27.965Z"
   },
   {
    "duration": 7,
    "start_time": "2023-08-02T08:43:27.974Z"
   },
   {
    "duration": 13,
    "start_time": "2023-08-02T08:43:27.982Z"
   },
   {
    "duration": 20,
    "start_time": "2023-08-02T08:43:27.997Z"
   },
   {
    "duration": 38,
    "start_time": "2023-08-02T08:43:28.023Z"
   },
   {
    "duration": 16,
    "start_time": "2023-08-02T08:43:28.064Z"
   },
   {
    "duration": 2,
    "start_time": "2023-08-02T08:43:28.083Z"
   },
   {
    "duration": 10,
    "start_time": "2023-08-02T08:43:28.088Z"
   },
   {
    "duration": 6,
    "start_time": "2023-08-02T08:43:28.100Z"
   },
   {
    "duration": 29,
    "start_time": "2023-08-02T08:43:28.108Z"
   },
   {
    "duration": 5,
    "start_time": "2023-08-02T08:43:28.139Z"
   },
   {
    "duration": 10,
    "start_time": "2023-08-02T08:43:28.146Z"
   },
   {
    "duration": 3,
    "start_time": "2023-08-02T08:43:28.158Z"
   },
   {
    "duration": 11,
    "start_time": "2023-08-02T08:43:28.162Z"
   },
   {
    "duration": 18,
    "start_time": "2023-08-02T08:43:28.175Z"
   },
   {
    "duration": 4,
    "start_time": "2023-08-02T08:43:28.195Z"
   },
   {
    "duration": 23,
    "start_time": "2023-08-02T08:43:28.200Z"
   },
   {
    "duration": 26,
    "start_time": "2023-08-02T08:43:28.225Z"
   },
   {
    "duration": 3,
    "start_time": "2023-08-02T08:43:28.253Z"
   },
   {
    "duration": 9,
    "start_time": "2023-08-02T08:43:28.257Z"
   },
   {
    "duration": 10,
    "start_time": "2023-08-02T08:43:28.268Z"
   },
   {
    "duration": 10,
    "start_time": "2023-08-02T08:43:28.279Z"
   },
   {
    "duration": 12,
    "start_time": "2023-08-02T08:43:28.290Z"
   },
   {
    "duration": 27,
    "start_time": "2023-08-02T08:43:28.304Z"
   },
   {
    "duration": 46,
    "start_time": "2023-08-02T08:43:28.333Z"
   },
   {
    "duration": 35,
    "start_time": "2023-08-02T08:43:28.384Z"
   },
   {
    "duration": 293,
    "start_time": "2023-08-02T08:43:28.428Z"
   },
   {
    "duration": 4,
    "start_time": "2023-08-02T08:43:28.728Z"
   },
   {
    "duration": 459,
    "start_time": "2023-08-02T08:43:28.733Z"
   },
   {
    "duration": 24,
    "start_time": "2023-08-02T08:43:29.194Z"
   },
   {
    "duration": 36,
    "start_time": "2023-08-02T08:43:29.222Z"
   },
   {
    "duration": 1018,
    "start_time": "2023-08-02T08:43:29.260Z"
   },
   {
    "duration": 3,
    "start_time": "2023-08-02T08:43:30.281Z"
   },
   {
    "duration": 39,
    "start_time": "2023-08-02T08:43:30.286Z"
   },
   {
    "duration": 27,
    "start_time": "2023-08-02T08:43:30.327Z"
   },
   {
    "duration": 35,
    "start_time": "2023-08-02T08:43:30.357Z"
   },
   {
    "duration": 68,
    "start_time": "2023-08-02T08:43:30.395Z"
   },
   {
    "duration": 41,
    "start_time": "2023-08-02T08:43:30.464Z"
   },
   {
    "duration": 60,
    "start_time": "2023-08-02T08:43:30.507Z"
   },
   {
    "duration": 16,
    "start_time": "2023-08-02T08:43:30.569Z"
   },
   {
    "duration": 55,
    "start_time": "2023-08-02T08:43:30.588Z"
   },
   {
    "duration": 41,
    "start_time": "2023-08-02T08:43:30.646Z"
   },
   {
    "duration": 3,
    "start_time": "2023-08-02T08:44:22.203Z"
   },
   {
    "duration": 13842,
    "start_time": "2023-08-02T08:44:22.903Z"
   },
   {
    "duration": 20,
    "start_time": "2023-08-02T08:44:41.698Z"
   },
   {
    "duration": 8522,
    "start_time": "2023-08-02T08:45:41.706Z"
   },
   {
    "duration": 775,
    "start_time": "2023-08-02T08:49:32.548Z"
   },
   {
    "duration": 8,
    "start_time": "2023-08-02T08:50:59.393Z"
   },
   {
    "duration": 6,
    "start_time": "2023-08-02T08:51:05.948Z"
   },
   {
    "duration": 4,
    "start_time": "2023-08-02T08:51:42.527Z"
   },
   {
    "duration": 2933,
    "start_time": "2023-08-02T08:51:42.533Z"
   },
   {
    "duration": 891,
    "start_time": "2023-08-02T08:51:45.468Z"
   },
   {
    "duration": 32,
    "start_time": "2023-08-02T08:51:46.362Z"
   },
   {
    "duration": 52,
    "start_time": "2023-08-02T08:51:46.397Z"
   },
   {
    "duration": 29,
    "start_time": "2023-08-02T08:51:46.451Z"
   },
   {
    "duration": 34,
    "start_time": "2023-08-02T08:51:46.482Z"
   },
   {
    "duration": 259,
    "start_time": "2023-08-02T08:51:46.518Z"
   },
   {
    "duration": 265,
    "start_time": "2023-08-02T08:51:46.779Z"
   },
   {
    "duration": 257,
    "start_time": "2023-08-02T08:51:47.045Z"
   },
   {
    "duration": 32035,
    "start_time": "2023-08-02T08:51:47.304Z"
   },
   {
    "duration": 416,
    "start_time": "2023-08-02T08:52:19.342Z"
   },
   {
    "duration": 4,
    "start_time": "2023-08-02T08:52:19.760Z"
   },
   {
    "duration": 18,
    "start_time": "2023-08-02T08:52:19.766Z"
   },
   {
    "duration": 13,
    "start_time": "2023-08-02T08:52:19.786Z"
   },
   {
    "duration": 35,
    "start_time": "2023-08-02T08:52:19.801Z"
   },
   {
    "duration": 17,
    "start_time": "2023-08-02T08:52:19.838Z"
   },
   {
    "duration": 10,
    "start_time": "2023-08-02T08:52:19.857Z"
   },
   {
    "duration": 29,
    "start_time": "2023-08-02T08:52:19.868Z"
   },
   {
    "duration": 35,
    "start_time": "2023-08-02T08:52:19.899Z"
   },
   {
    "duration": 27,
    "start_time": "2023-08-02T08:52:19.936Z"
   },
   {
    "duration": 74,
    "start_time": "2023-08-02T08:52:19.964Z"
   },
   {
    "duration": 25,
    "start_time": "2023-08-02T08:52:20.040Z"
   },
   {
    "duration": 62,
    "start_time": "2023-08-02T08:52:20.067Z"
   },
   {
    "duration": 41,
    "start_time": "2023-08-02T08:52:20.131Z"
   },
   {
    "duration": 39,
    "start_time": "2023-08-02T08:52:20.174Z"
   },
   {
    "duration": 22,
    "start_time": "2023-08-02T08:52:20.215Z"
   },
   {
    "duration": 44,
    "start_time": "2023-08-02T08:52:20.239Z"
   },
   {
    "duration": 5,
    "start_time": "2023-08-02T08:52:20.288Z"
   },
   {
    "duration": 42,
    "start_time": "2023-08-02T08:52:20.295Z"
   },
   {
    "duration": 46,
    "start_time": "2023-08-02T08:52:20.339Z"
   },
   {
    "duration": 18,
    "start_time": "2023-08-02T08:52:20.387Z"
   },
   {
    "duration": 26,
    "start_time": "2023-08-02T08:52:20.406Z"
   },
   {
    "duration": 14,
    "start_time": "2023-08-02T08:52:20.434Z"
   },
   {
    "duration": 4,
    "start_time": "2023-08-02T08:52:20.450Z"
   },
   {
    "duration": 18,
    "start_time": "2023-08-02T08:52:20.456Z"
   },
   {
    "duration": 24,
    "start_time": "2023-08-02T08:52:20.475Z"
   },
   {
    "duration": 72,
    "start_time": "2023-08-02T08:52:20.501Z"
   },
   {
    "duration": 54,
    "start_time": "2023-08-02T08:52:20.575Z"
   },
   {
    "duration": 58,
    "start_time": "2023-08-02T08:52:20.631Z"
   },
   {
    "duration": 51,
    "start_time": "2023-08-02T08:52:20.691Z"
   },
   {
    "duration": 63,
    "start_time": "2023-08-02T08:52:20.743Z"
   },
   {
    "duration": 228,
    "start_time": "2023-08-02T08:52:20.808Z"
   },
   {
    "duration": 3,
    "start_time": "2023-08-02T08:52:21.038Z"
   },
   {
    "duration": 525,
    "start_time": "2023-08-02T08:52:21.043Z"
   },
   {
    "duration": 10,
    "start_time": "2023-08-02T08:52:21.570Z"
   },
   {
    "duration": 12,
    "start_time": "2023-08-02T08:52:21.581Z"
   },
   {
    "duration": 952,
    "start_time": "2023-08-02T08:52:21.595Z"
   },
   {
    "duration": 3,
    "start_time": "2023-08-02T08:52:22.549Z"
   },
   {
    "duration": 16,
    "start_time": "2023-08-02T08:52:22.554Z"
   },
   {
    "duration": 14,
    "start_time": "2023-08-02T08:52:22.572Z"
   },
   {
    "duration": 10,
    "start_time": "2023-08-02T08:52:22.588Z"
   },
   {
    "duration": 40,
    "start_time": "2023-08-02T08:52:22.600Z"
   },
   {
    "duration": 20,
    "start_time": "2023-08-02T08:52:22.642Z"
   },
   {
    "duration": 11,
    "start_time": "2023-08-02T08:52:22.664Z"
   },
   {
    "duration": 10,
    "start_time": "2023-08-02T08:52:22.677Z"
   },
   {
    "duration": 18,
    "start_time": "2023-08-02T08:52:22.689Z"
   },
   {
    "duration": 19,
    "start_time": "2023-08-02T08:52:22.711Z"
   },
   {
    "duration": 4,
    "start_time": "2023-08-02T08:53:27.091Z"
   },
   {
    "duration": 13125,
    "start_time": "2023-08-02T08:53:27.872Z"
   },
   {
    "duration": 25,
    "start_time": "2023-08-02T08:55:03.797Z"
   },
   {
    "duration": 4,
    "start_time": "2023-08-02T08:55:09.343Z"
   }
  ],
  "kernelspec": {
   "display_name": "Python 3 (ipykernel)",
   "language": "python",
   "name": "python3"
  },
  "language_info": {
   "codemirror_mode": {
    "name": "ipython",
    "version": 3
   },
   "file_extension": ".py",
   "mimetype": "text/x-python",
   "name": "python",
   "nbconvert_exporter": "python",
   "pygments_lexer": "ipython3",
   "version": "3.9.5"
  },
  "toc": {
   "base_numbering": 1,
   "nav_menu": {},
   "number_sections": true,
   "sideBar": true,
   "skip_h1_title": true,
   "title_cell": "Содержание",
   "title_sidebar": "Contents",
   "toc_cell": true,
   "toc_position": {
    "height": "calc(100% - 180px)",
    "left": "10px",
    "top": "150px",
    "width": "293px"
   },
   "toc_section_display": true,
   "toc_window_display": true
  }
 },
 "nbformat": 4,
 "nbformat_minor": 2
}
